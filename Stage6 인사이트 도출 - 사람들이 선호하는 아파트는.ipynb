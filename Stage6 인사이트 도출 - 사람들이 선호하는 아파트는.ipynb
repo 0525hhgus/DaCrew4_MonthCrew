{
  "nbformat": 4,
  "nbformat_minor": 0,
  "metadata": {
    "colab": {
      "provenance": [],
      "machine_shape": "hm",
      "toc_visible": true
    },
    "kernelspec": {
      "name": "python3",
      "display_name": "Python 3"
    },
    "language_info": {
      "name": "python"
    },
    "gpuClass": "standard"
  },
  "cells": [
    {
      "cell_type": "markdown",
      "source": [
        "# **아파트 실거래가 예측 프로젝트**"
      ],
      "metadata": {
        "id": "HmlqT7GeLve6"
      }
    },
    {
      "cell_type": "markdown",
      "source": [
        "\n",
        "## **Stage 6\t인사이트 도출 - 사람들이 선호하는 아파트는?**\n",
        "<img src='http://drive.google.com/uc?export=view&id=1a0_ofQLehKLINRG8LM5jztkCwkjStz07' /><br>\n"
      ],
      "metadata": {
        "id": "Em2mGKyzUrLJ"
      }
    },
    {
      "cell_type": "markdown",
      "source": [
        "## **INTRO**\n",
        "지난 스테이지 **Stage 5. 모델링의 활용 - <font color=\"blue\">HOW</font> 어떻게 아파트 가격을 예측할까?** 에서 시계열 머신러닝, 딥러닝 모델로 시계열 특징을 파악하고, Light BGM 튜닝으로 최적 모델을 얻었습니다 😀     \n",
        "\n",
        "예측 모델로 **직접 아파트 실거래가를 예측**하는데 사용할 수 있을뿐만 아니라,     \n",
        "**아파트 실거래가에 대한 다양한 인사이트를 도출**할 수 있습니다 😎    \n",
        "\n",
        "마지막 스테이지는 지금까지 학습한 모델을 분석하고,    \n",
        "프로젝트 데이터(COVID-19 이전)과 COVID-19 이후 데이터를 비교하며 인사이트를 도출할 예정입니다. "
      ],
      "metadata": {
        "id": "BZthfl0azcL6"
      }
    },
    {
      "cell_type": "markdown",
      "source": [
        "먼저, 한글 폰트를 설정하기 위한 약간의 준비를 하겠습니다!\n",
        "한글 폰트를 다운로드하고, 적용하는 코드입니다."
      ],
      "metadata": {
        "id": "XWLtwFAKO8sJ"
      }
    },
    {
      "cell_type": "code",
      "source": [
        "# 폰트 설정\n",
        "# 1. 한글 폰트 다운로드 및 환경 구성\n",
        "!sudo apt-get install -y fonts-nanum\n",
        "!sudo fc-cache -fv\n",
        "!rm ~/.cache/matplotlib -rf"
      ],
      "metadata": {
        "id": "GbDx-Q5PmEU9",
        "colab": {
          "base_uri": "https://localhost:8080/"
        },
        "outputId": "3a09aa11-2abb-4e00-a28b-aaaa7699d707"
      },
      "execution_count": null,
      "outputs": [
        {
          "output_type": "stream",
          "name": "stdout",
          "text": [
            "Reading package lists... Done\n",
            "Building dependency tree       \n",
            "Reading state information... Done\n",
            "fonts-nanum is already the newest version (20180306-3).\n",
            "The following package was automatically installed and is no longer required:\n",
            "  libnvidia-common-510\n",
            "Use 'sudo apt autoremove' to remove it.\n",
            "0 upgraded, 0 newly installed, 0 to remove and 21 not upgraded.\n",
            "/usr/share/fonts: caching, new cache contents: 0 fonts, 1 dirs\n",
            "/usr/share/fonts/truetype: caching, new cache contents: 0 fonts, 3 dirs\n",
            "/usr/share/fonts/truetype/humor-sans: caching, new cache contents: 1 fonts, 0 dirs\n",
            "/usr/share/fonts/truetype/liberation: caching, new cache contents: 16 fonts, 0 dirs\n",
            "/usr/share/fonts/truetype/nanum: caching, new cache contents: 10 fonts, 0 dirs\n",
            "/usr/local/share/fonts: caching, new cache contents: 0 fonts, 0 dirs\n",
            "/root/.local/share/fonts: skipping, no such directory\n",
            "/root/.fonts: skipping, no such directory\n",
            "/usr/share/fonts/truetype: skipping, looped directory detected\n",
            "/usr/share/fonts/truetype/humor-sans: skipping, looped directory detected\n",
            "/usr/share/fonts/truetype/liberation: skipping, looped directory detected\n",
            "/usr/share/fonts/truetype/nanum: skipping, looped directory detected\n",
            "/var/cache/fontconfig: cleaning cache directory\n",
            "/root/.cache/fontconfig: not cleaning non-existent cache directory\n",
            "/root/.fontconfig: not cleaning non-existent cache directory\n",
            "fc-cache: succeeded\n"
          ]
        }
      ]
    },
    {
      "cell_type": "code",
      "source": [
        "import matplotlib.pyplot as plt\n",
        "\n",
        "# 2. 나눔바른고딕 한글 폰트로 적용\n",
        "plt.rc('font', family='NanumBarunGothic')"
      ],
      "metadata": {
        "id": "am_rLrYPPyQj"
      },
      "execution_count": null,
      "outputs": []
    },
    {
      "cell_type": "markdown",
      "source": [
        "### **1. 아파트 가격 예측에 결정적인 변수 조사**\n",
        "Light BGM 학습 결과로 얻은 변수별 중요도 그래프를 다시 한 번 보실까요?"
      ],
      "metadata": {
        "id": "FA4RYa2FUrLJ"
      }
    },
    {
      "cell_type": "markdown",
      "source": [
        "아파트 가격 예측에 영향을 마치는 변수는 다음과 같았습니다!\n",
        "\n",
        "<img src='http://drive.google.com/uc?export=view&id=1PS_zCFJ7-p2-8mrpIVMAniDu7JPitssQ' /><br>\n",
        "\n",
        "전용면적과, 건물 나이, 전세 가격, 인구밀도의 영향이 크게 나타나네요~    \n",
        "COVID-19 이후에도 동일한 변수가 영향이 있었는지 확인해볼까요?     \n",
        "바로 시작하겠습니다! "
      ],
      "metadata": {
        "id": "8SY_kGkBGsHW"
      }
    },
    {
      "cell_type": "markdown",
      "source": [
        "### **2. COVID-19 이전/이후 사람들의 아파트 선호 요인 파악**"
      ],
      "metadata": {
        "id": "OC1pm_crUrLJ"
      }
    },
    {
      "cell_type": "markdown",
      "source": [
        "#### 2-1. COVID-19 이후 사람들의 아파트 선호 요인\n",
        "COVID-19 이후 영향을 파악하려면, COVID-19 이후 데이터가 있어야겠죠?    \n",
        "COVID-19 이후 아파트 실거래가 데이터는 [국토교통부 실거래가 공개시스템](http://rt.molit.go.kr/)에서 구할 수 있습니다!    \n",
        "먼저, COVID-19 이후 아파트 실거래가 데이터와 외부데이터를 불러와볼까요?    \n",
        "Stage3에서 진행했던 외부데이터 병합과 동일하게 진행되니, 자세한 설명은 Stage3을 참고해주세요~ \n"
      ],
      "metadata": {
        "id": "xZeyXPzCUrLJ"
      }
    },
    {
      "cell_type": "code",
      "source": [
        "import pandas as pd"
      ],
      "metadata": {
        "id": "MGac2H_JOmJT"
      },
      "execution_count": null,
      "outputs": []
    },
    {
      "cell_type": "code",
      "source": [
        "park = pd.read_csv('/content/drive/MyDrive/데이크루4기_먼스크루/data/dacon/park.csv')\n",
        "day_care_center = pd.read_csv('/content/drive/MyDrive/데이크루4기_먼스크루/data/dacon/day_care_center.csv')"
      ],
      "metadata": {
        "id": "CtikoVjh20Qy",
        "colab": {
          "base_uri": "https://localhost:8080/"
        },
        "outputId": "d2f477ff-178f-403a-dcae-7c5972a5e4d4"
      },
      "execution_count": null,
      "outputs": [
        {
          "output_type": "stream",
          "name": "stdout",
          "text": [
            "Mounted at /content/drive\n"
          ]
        }
      ]
    },
    {
      "cell_type": "code",
      "source": [
        "df_2020 = pd.read_csv('https://raw.githubusercontent.com/0525hhgus/DaCrew4_MonthCrew/main/data/new_data/apartment_price_seoul_2020.csv', skiprows=15, encoding='cp949')\n",
        "df_2021 = pd.read_csv('https://raw.githubusercontent.com/0525hhgus/DaCrew4_MonthCrew/main/data/new_data/apartment_price_seoul_2021.csv', skiprows=15, encoding='cp949')\n",
        "df_2022 = pd.read_csv('https://raw.githubusercontent.com/0525hhgus/DaCrew4_MonthCrew/main/data/new_data/apartment_price_seoul_2022.csv', skiprows=15, encoding='cp949')"
      ],
      "metadata": {
        "id": "7DosN5gUy5Fy"
      },
      "execution_count": null,
      "outputs": []
    },
    {
      "cell_type": "markdown",
      "source": [
        "##### **Inst.**\n",
        "판다스의 concat() 함수로 2020~2022년도 데이터를 하나로 합칠 수 있어요!    \n",
        "1. concat 함수를 이용하여 2021,2022년도 데이터를 병합하세요"
      ],
      "metadata": {
        "id": "lCHFf6uaVTfc"
      }
    },
    {
      "cell_type": "code",
      "source": [
        "# 1. concat 함수를 이용하여 2021,2022년도 데이터를 병합하세요\n"
      ],
      "metadata": {
        "id": "KnF1LLM9BDK7"
      },
      "execution_count": null,
      "outputs": []
    },
    {
      "cell_type": "markdown",
      "source": [
        "##### **Hint.**\n",
        "- concat 함수는 input으로 병합할 데이터와 axis를 설정해야해요\n",
        "- axis=0이면 세로로 데이터가 병합되며 axis=1이면 가로로 데이터가 병합돼요."
      ],
      "metadata": {
        "id": "4UZSo0C4BrEz"
      }
    },
    {
      "cell_type": "markdown",
      "source": [
        "##### **Solution.**"
      ],
      "metadata": {
        "id": "HXvGsKhYBOZJ"
      }
    },
    {
      "cell_type": "code",
      "source": [
        "# 1. concat 함수를 이용하여 2021,2022년도 데이터를 병합하세요\n",
        "df_covid = pd.concat([df_2020, df_2021], axis=0)\n",
        "df_covid = pd.concat([df_covid, df_2022], axis=0)"
      ],
      "metadata": {
        "id": "KXCQCY-8BRC7"
      },
      "execution_count": null,
      "outputs": []
    },
    {
      "cell_type": "code",
      "source": [
        "# 병합된 데이터 확인\n",
        "df_covid.head()"
      ],
      "metadata": {
        "id": "ij0Kw87PBLx9"
      },
      "execution_count": null,
      "outputs": []
    },
    {
      "cell_type": "markdown",
      "source": [
        "데이터가 잘 들어왔는데... 기존 실거래가 데이터와 많이 다른 것 같아요 😢    \n",
        "기존 데이터와 컬럼이 동일하게 맞춰줍시다!"
      ],
      "metadata": {
        "id": "ohjpF99mVgRn"
      }
    },
    {
      "cell_type": "code",
      "source": [
        "df_covid = df_covid.drop(['번지', '본번', '부번', '단지명', '도로명', '해제사유발생일', '거래유형', '중개사소재지'], axis=1)\n",
        "df_covid['시군구'] = df_covid['시군구'].apply(lambda x: x.split()[2])\n",
        "df_covid.head()"
      ],
      "metadata": {
        "id": "OyE-cmZ20hgZ",
        "colab": {
          "base_uri": "https://localhost:8080/",
          "height": 206
        },
        "outputId": "d176c33f-c64f-4331-f67a-5c65e61285a5"
      },
      "execution_count": null,
      "outputs": [
        {
          "output_type": "execute_result",
          "data": {
            "text/plain": [
              "   시군구  전용면적(㎡)    계약년월  계약일 거래금액(만원)  층    건축년도\n",
              "0  개포동    77.75  202006   23  149,500  4  1988.0\n",
              "1  개포동    54.98  202002   24  144,000  4  1987.0\n",
              "2  개포동    79.97  202006   18  162,750  4  1987.0\n",
              "3  개포동    79.97  202006   20  160,000  5  1987.0\n",
              "4  개포동    79.97  202006   22  150,000  2  1987.0"
            ],
            "text/html": [
              "\n",
              "  <div id=\"df-5d5f538e-270f-424a-9e59-c3ebf8548d6b\">\n",
              "    <div class=\"colab-df-container\">\n",
              "      <div>\n",
              "<style scoped>\n",
              "    .dataframe tbody tr th:only-of-type {\n",
              "        vertical-align: middle;\n",
              "    }\n",
              "\n",
              "    .dataframe tbody tr th {\n",
              "        vertical-align: top;\n",
              "    }\n",
              "\n",
              "    .dataframe thead th {\n",
              "        text-align: right;\n",
              "    }\n",
              "</style>\n",
              "<table border=\"1\" class=\"dataframe\">\n",
              "  <thead>\n",
              "    <tr style=\"text-align: right;\">\n",
              "      <th></th>\n",
              "      <th>시군구</th>\n",
              "      <th>전용면적(㎡)</th>\n",
              "      <th>계약년월</th>\n",
              "      <th>계약일</th>\n",
              "      <th>거래금액(만원)</th>\n",
              "      <th>층</th>\n",
              "      <th>건축년도</th>\n",
              "    </tr>\n",
              "  </thead>\n",
              "  <tbody>\n",
              "    <tr>\n",
              "      <th>0</th>\n",
              "      <td>개포동</td>\n",
              "      <td>77.75</td>\n",
              "      <td>202006</td>\n",
              "      <td>23</td>\n",
              "      <td>149,500</td>\n",
              "      <td>4</td>\n",
              "      <td>1988.0</td>\n",
              "    </tr>\n",
              "    <tr>\n",
              "      <th>1</th>\n",
              "      <td>개포동</td>\n",
              "      <td>54.98</td>\n",
              "      <td>202002</td>\n",
              "      <td>24</td>\n",
              "      <td>144,000</td>\n",
              "      <td>4</td>\n",
              "      <td>1987.0</td>\n",
              "    </tr>\n",
              "    <tr>\n",
              "      <th>2</th>\n",
              "      <td>개포동</td>\n",
              "      <td>79.97</td>\n",
              "      <td>202006</td>\n",
              "      <td>18</td>\n",
              "      <td>162,750</td>\n",
              "      <td>4</td>\n",
              "      <td>1987.0</td>\n",
              "    </tr>\n",
              "    <tr>\n",
              "      <th>3</th>\n",
              "      <td>개포동</td>\n",
              "      <td>79.97</td>\n",
              "      <td>202006</td>\n",
              "      <td>20</td>\n",
              "      <td>160,000</td>\n",
              "      <td>5</td>\n",
              "      <td>1987.0</td>\n",
              "    </tr>\n",
              "    <tr>\n",
              "      <th>4</th>\n",
              "      <td>개포동</td>\n",
              "      <td>79.97</td>\n",
              "      <td>202006</td>\n",
              "      <td>22</td>\n",
              "      <td>150,000</td>\n",
              "      <td>2</td>\n",
              "      <td>1987.0</td>\n",
              "    </tr>\n",
              "  </tbody>\n",
              "</table>\n",
              "</div>\n",
              "      <button class=\"colab-df-convert\" onclick=\"convertToInteractive('df-5d5f538e-270f-424a-9e59-c3ebf8548d6b')\"\n",
              "              title=\"Convert this dataframe to an interactive table.\"\n",
              "              style=\"display:none;\">\n",
              "        \n",
              "  <svg xmlns=\"http://www.w3.org/2000/svg\" height=\"24px\"viewBox=\"0 0 24 24\"\n",
              "       width=\"24px\">\n",
              "    <path d=\"M0 0h24v24H0V0z\" fill=\"none\"/>\n",
              "    <path d=\"M18.56 5.44l.94 2.06.94-2.06 2.06-.94-2.06-.94-.94-2.06-.94 2.06-2.06.94zm-11 1L8.5 8.5l.94-2.06 2.06-.94-2.06-.94L8.5 2.5l-.94 2.06-2.06.94zm10 10l.94 2.06.94-2.06 2.06-.94-2.06-.94-.94-2.06-.94 2.06-2.06.94z\"/><path d=\"M17.41 7.96l-1.37-1.37c-.4-.4-.92-.59-1.43-.59-.52 0-1.04.2-1.43.59L10.3 9.45l-7.72 7.72c-.78.78-.78 2.05 0 2.83L4 21.41c.39.39.9.59 1.41.59.51 0 1.02-.2 1.41-.59l7.78-7.78 2.81-2.81c.8-.78.8-2.07 0-2.86zM5.41 20L4 18.59l7.72-7.72 1.47 1.35L5.41 20z\"/>\n",
              "  </svg>\n",
              "      </button>\n",
              "      \n",
              "  <style>\n",
              "    .colab-df-container {\n",
              "      display:flex;\n",
              "      flex-wrap:wrap;\n",
              "      gap: 12px;\n",
              "    }\n",
              "\n",
              "    .colab-df-convert {\n",
              "      background-color: #E8F0FE;\n",
              "      border: none;\n",
              "      border-radius: 50%;\n",
              "      cursor: pointer;\n",
              "      display: none;\n",
              "      fill: #1967D2;\n",
              "      height: 32px;\n",
              "      padding: 0 0 0 0;\n",
              "      width: 32px;\n",
              "    }\n",
              "\n",
              "    .colab-df-convert:hover {\n",
              "      background-color: #E2EBFA;\n",
              "      box-shadow: 0px 1px 2px rgba(60, 64, 67, 0.3), 0px 1px 3px 1px rgba(60, 64, 67, 0.15);\n",
              "      fill: #174EA6;\n",
              "    }\n",
              "\n",
              "    [theme=dark] .colab-df-convert {\n",
              "      background-color: #3B4455;\n",
              "      fill: #D2E3FC;\n",
              "    }\n",
              "\n",
              "    [theme=dark] .colab-df-convert:hover {\n",
              "      background-color: #434B5C;\n",
              "      box-shadow: 0px 1px 3px 1px rgba(0, 0, 0, 0.15);\n",
              "      filter: drop-shadow(0px 1px 2px rgba(0, 0, 0, 0.3));\n",
              "      fill: #FFFFFF;\n",
              "    }\n",
              "  </style>\n",
              "\n",
              "      <script>\n",
              "        const buttonEl =\n",
              "          document.querySelector('#df-5d5f538e-270f-424a-9e59-c3ebf8548d6b button.colab-df-convert');\n",
              "        buttonEl.style.display =\n",
              "          google.colab.kernel.accessAllowed ? 'block' : 'none';\n",
              "\n",
              "        async function convertToInteractive(key) {\n",
              "          const element = document.querySelector('#df-5d5f538e-270f-424a-9e59-c3ebf8548d6b');\n",
              "          const dataTable =\n",
              "            await google.colab.kernel.invokeFunction('convertToInteractive',\n",
              "                                                     [key], {});\n",
              "          if (!dataTable) return;\n",
              "\n",
              "          const docLinkHtml = 'Like what you see? Visit the ' +\n",
              "            '<a target=\"_blank\" href=https://colab.research.google.com/notebooks/data_table.ipynb>data table notebook</a>'\n",
              "            + ' to learn more about interactive tables.';\n",
              "          element.innerHTML = '';\n",
              "          dataTable['output_type'] = 'display_data';\n",
              "          await google.colab.output.renderOutput(dataTable, element);\n",
              "          const docLink = document.createElement('div');\n",
              "          docLink.innerHTML = docLinkHtml;\n",
              "          element.appendChild(docLink);\n",
              "        }\n",
              "      </script>\n",
              "    </div>\n",
              "  </div>\n",
              "  "
            ]
          },
          "metadata": {},
          "execution_count": 72
        }
      ]
    },
    {
      "cell_type": "markdown",
      "source": [
        "컬럼 이름까지 동일하게 맞춰주는 것을 잊지마세요~"
      ],
      "metadata": {
        "id": "HZQYc2CyVxyd"
      }
    },
    {
      "cell_type": "code",
      "source": [
        "df_covid.columns = ['dong', 'exclusive_use_area', 'transaction_year_month', 'transaction_date', 'transaction_real_price', 'floor', 'year_of_completion']\n",
        "df_covid.head()"
      ],
      "metadata": {
        "id": "3fxBiEB01H3A",
        "colab": {
          "base_uri": "https://localhost:8080/",
          "height": 206
        },
        "outputId": "8f82bfb6-29ab-41da-d87c-096a3a88aa3b"
      },
      "execution_count": null,
      "outputs": [
        {
          "output_type": "execute_result",
          "data": {
            "text/plain": [
              "  dong  exclusive_use_area  transaction_year_month  transaction_date  \\\n",
              "0  개포동               77.75                  202006                23   \n",
              "1  개포동               54.98                  202002                24   \n",
              "2  개포동               79.97                  202006                18   \n",
              "3  개포동               79.97                  202006                20   \n",
              "4  개포동               79.97                  202006                22   \n",
              "\n",
              "  transaction_real_price  floor  year_of_completion  \n",
              "0                149,500      4              1988.0  \n",
              "1                144,000      4              1987.0  \n",
              "2                162,750      4              1987.0  \n",
              "3                160,000      5              1987.0  \n",
              "4                150,000      2              1987.0  "
            ],
            "text/html": [
              "\n",
              "  <div id=\"df-f3558d0e-6635-4a84-88fd-c71489bc90c1\">\n",
              "    <div class=\"colab-df-container\">\n",
              "      <div>\n",
              "<style scoped>\n",
              "    .dataframe tbody tr th:only-of-type {\n",
              "        vertical-align: middle;\n",
              "    }\n",
              "\n",
              "    .dataframe tbody tr th {\n",
              "        vertical-align: top;\n",
              "    }\n",
              "\n",
              "    .dataframe thead th {\n",
              "        text-align: right;\n",
              "    }\n",
              "</style>\n",
              "<table border=\"1\" class=\"dataframe\">\n",
              "  <thead>\n",
              "    <tr style=\"text-align: right;\">\n",
              "      <th></th>\n",
              "      <th>dong</th>\n",
              "      <th>exclusive_use_area</th>\n",
              "      <th>transaction_year_month</th>\n",
              "      <th>transaction_date</th>\n",
              "      <th>transaction_real_price</th>\n",
              "      <th>floor</th>\n",
              "      <th>year_of_completion</th>\n",
              "    </tr>\n",
              "  </thead>\n",
              "  <tbody>\n",
              "    <tr>\n",
              "      <th>0</th>\n",
              "      <td>개포동</td>\n",
              "      <td>77.75</td>\n",
              "      <td>202006</td>\n",
              "      <td>23</td>\n",
              "      <td>149,500</td>\n",
              "      <td>4</td>\n",
              "      <td>1988.0</td>\n",
              "    </tr>\n",
              "    <tr>\n",
              "      <th>1</th>\n",
              "      <td>개포동</td>\n",
              "      <td>54.98</td>\n",
              "      <td>202002</td>\n",
              "      <td>24</td>\n",
              "      <td>144,000</td>\n",
              "      <td>4</td>\n",
              "      <td>1987.0</td>\n",
              "    </tr>\n",
              "    <tr>\n",
              "      <th>2</th>\n",
              "      <td>개포동</td>\n",
              "      <td>79.97</td>\n",
              "      <td>202006</td>\n",
              "      <td>18</td>\n",
              "      <td>162,750</td>\n",
              "      <td>4</td>\n",
              "      <td>1987.0</td>\n",
              "    </tr>\n",
              "    <tr>\n",
              "      <th>3</th>\n",
              "      <td>개포동</td>\n",
              "      <td>79.97</td>\n",
              "      <td>202006</td>\n",
              "      <td>20</td>\n",
              "      <td>160,000</td>\n",
              "      <td>5</td>\n",
              "      <td>1987.0</td>\n",
              "    </tr>\n",
              "    <tr>\n",
              "      <th>4</th>\n",
              "      <td>개포동</td>\n",
              "      <td>79.97</td>\n",
              "      <td>202006</td>\n",
              "      <td>22</td>\n",
              "      <td>150,000</td>\n",
              "      <td>2</td>\n",
              "      <td>1987.0</td>\n",
              "    </tr>\n",
              "  </tbody>\n",
              "</table>\n",
              "</div>\n",
              "      <button class=\"colab-df-convert\" onclick=\"convertToInteractive('df-f3558d0e-6635-4a84-88fd-c71489bc90c1')\"\n",
              "              title=\"Convert this dataframe to an interactive table.\"\n",
              "              style=\"display:none;\">\n",
              "        \n",
              "  <svg xmlns=\"http://www.w3.org/2000/svg\" height=\"24px\"viewBox=\"0 0 24 24\"\n",
              "       width=\"24px\">\n",
              "    <path d=\"M0 0h24v24H0V0z\" fill=\"none\"/>\n",
              "    <path d=\"M18.56 5.44l.94 2.06.94-2.06 2.06-.94-2.06-.94-.94-2.06-.94 2.06-2.06.94zm-11 1L8.5 8.5l.94-2.06 2.06-.94-2.06-.94L8.5 2.5l-.94 2.06-2.06.94zm10 10l.94 2.06.94-2.06 2.06-.94-2.06-.94-.94-2.06-.94 2.06-2.06.94z\"/><path d=\"M17.41 7.96l-1.37-1.37c-.4-.4-.92-.59-1.43-.59-.52 0-1.04.2-1.43.59L10.3 9.45l-7.72 7.72c-.78.78-.78 2.05 0 2.83L4 21.41c.39.39.9.59 1.41.59.51 0 1.02-.2 1.41-.59l7.78-7.78 2.81-2.81c.8-.78.8-2.07 0-2.86zM5.41 20L4 18.59l7.72-7.72 1.47 1.35L5.41 20z\"/>\n",
              "  </svg>\n",
              "      </button>\n",
              "      \n",
              "  <style>\n",
              "    .colab-df-container {\n",
              "      display:flex;\n",
              "      flex-wrap:wrap;\n",
              "      gap: 12px;\n",
              "    }\n",
              "\n",
              "    .colab-df-convert {\n",
              "      background-color: #E8F0FE;\n",
              "      border: none;\n",
              "      border-radius: 50%;\n",
              "      cursor: pointer;\n",
              "      display: none;\n",
              "      fill: #1967D2;\n",
              "      height: 32px;\n",
              "      padding: 0 0 0 0;\n",
              "      width: 32px;\n",
              "    }\n",
              "\n",
              "    .colab-df-convert:hover {\n",
              "      background-color: #E2EBFA;\n",
              "      box-shadow: 0px 1px 2px rgba(60, 64, 67, 0.3), 0px 1px 3px 1px rgba(60, 64, 67, 0.15);\n",
              "      fill: #174EA6;\n",
              "    }\n",
              "\n",
              "    [theme=dark] .colab-df-convert {\n",
              "      background-color: #3B4455;\n",
              "      fill: #D2E3FC;\n",
              "    }\n",
              "\n",
              "    [theme=dark] .colab-df-convert:hover {\n",
              "      background-color: #434B5C;\n",
              "      box-shadow: 0px 1px 3px 1px rgba(0, 0, 0, 0.15);\n",
              "      filter: drop-shadow(0px 1px 2px rgba(0, 0, 0, 0.3));\n",
              "      fill: #FFFFFF;\n",
              "    }\n",
              "  </style>\n",
              "\n",
              "      <script>\n",
              "        const buttonEl =\n",
              "          document.querySelector('#df-f3558d0e-6635-4a84-88fd-c71489bc90c1 button.colab-df-convert');\n",
              "        buttonEl.style.display =\n",
              "          google.colab.kernel.accessAllowed ? 'block' : 'none';\n",
              "\n",
              "        async function convertToInteractive(key) {\n",
              "          const element = document.querySelector('#df-f3558d0e-6635-4a84-88fd-c71489bc90c1');\n",
              "          const dataTable =\n",
              "            await google.colab.kernel.invokeFunction('convertToInteractive',\n",
              "                                                     [key], {});\n",
              "          if (!dataTable) return;\n",
              "\n",
              "          const docLinkHtml = 'Like what you see? Visit the ' +\n",
              "            '<a target=\"_blank\" href=https://colab.research.google.com/notebooks/data_table.ipynb>data table notebook</a>'\n",
              "            + ' to learn more about interactive tables.';\n",
              "          element.innerHTML = '';\n",
              "          dataTable['output_type'] = 'display_data';\n",
              "          await google.colab.output.renderOutput(dataTable, element);\n",
              "          const docLink = document.createElement('div');\n",
              "          docLink.innerHTML = docLinkHtml;\n",
              "          element.appendChild(docLink);\n",
              "        }\n",
              "      </script>\n",
              "    </div>\n",
              "  </div>\n",
              "  "
            ]
          },
          "metadata": {},
          "execution_count": 73
        }
      ]
    },
    {
      "cell_type": "markdown",
      "source": [
        "이제 Stage3의 외부데이터 병합 과정과 같이    \n",
        "load_other_data() 함수로 외부데이터를 불러오고, mapping_other_data() 함수로 데이터를 병합해봅시다!"
      ],
      "metadata": {
        "id": "v5bn8CQXV3tk"
      }
    },
    {
      "cell_type": "code",
      "source": [
        "import re"
      ],
      "metadata": {
        "id": "5wks5OxTz6xM"
      },
      "execution_count": null,
      "outputs": []
    },
    {
      "cell_type": "code",
      "source": [
        "# 외부데이터 데이터 폴더 경로\n",
        "data_dir = 'https://raw.githubusercontent.com/0525hhgus/DaCrew4_MonthCrew/main/data/other_2018/'\n",
        "\n",
        "def load_other_data(data_dir):\n",
        "\n",
        "    # 법정동 데이터\n",
        "    mapping_data = pd.read_csv(data_dir+'KIKcd_B.20171226.csv', encoding='utf-8')\n",
        "    mapping_data = mapping_data[mapping_data['시도명'] == '서울특별시']\n",
        "\n",
        "    # 인구 밀도 데이터\n",
        "    population = pd.read_csv(data_dir+'population_20230219223611.csv', encoding='utf-8').drop(['항목', '합계'], axis=1)\n",
        "    population.set_index('시점', inplace=True)\n",
        "\n",
        "    # 한국은행 기준금리 데이터\n",
        "    df_ir = pd.read_csv(data_dir+'KORBANK_200801-202212.csv')\n",
        "    df_ir['변환'].replace('/', '', regex=True, inplace=True)\n",
        "    df_ir['변환'] = df_ir['변환'].astype('int')\n",
        "    df_ir.set_index('변환', inplace=True)\n",
        "\n",
        "    # 구시군의회의원선거 데이터\n",
        "    party_2014 = pd.read_excel(data_dir+\"party/7_vote_party_seoul.xlsx\", engine = \"openpyxl\")\n",
        "    party_2014.columns = ['구시군명', '선거구명', '총당선인수', '더불어민주당',\n",
        "                            '자유한국당', 'Unnamed: 5', '바른미래당', '민주평화당', '정의당',\n",
        "                            '민중당', '무소속']\n",
        "    party_2014 = party_2014[['구시군명', '총당선인수', '자유한국당', '더불어민주당', '바른미래당', '민주평화당', '정의당','민중당', '무소속']][5:]\n",
        "    party_2014 = party_2014[party_2014['구시군명']!='  '].replace(' ', '', regex=True)\n",
        "    party_2014.set_index('구시군명', inplace=True)\n",
        "\n",
        "    party_2014 = party_2014.astype('int')\n",
        "\n",
        "    # 전세 가격지수 데이터\n",
        "    jeonse = pd.read_csv(data_dir+'jeonse_200801-202212.csv', encoding='cp949').drop(['항목', '단위'], axis=1)[:26] \n",
        "    raw_col = jeonse.columns\n",
        "    jeonse.columns = [raw_col[0]] + [ int(re.sub(r\"[^0-9]\", \"\", col)) for col in raw_col[1:] ]\n",
        "    jeonse.set_index('행정구역별', inplace=True)\n",
        "\n",
        "    # 역세권-서울지하철 데이터\n",
        "    station = pd.read_csv(data_dir+'subway_seoul.csv', encoding='cp949')\n",
        "    station = station[station['지번주소'].str.contains('서울특별시')]\n",
        "    station[\"구\"] = station[\"지번주소\"].apply(lambda x: x.split()[1])\n",
        "\n",
        "    # 자율형사립고 데이터\n",
        "    school = pd.read_csv(data_dir+'school_20230219222440.csv')[2:]\n",
        "    school = school.replace('-', 0)\n",
        "    school = school.astype('int')\n",
        "    school.set_index('시점', inplace=True)\n",
        "\n",
        "    return mapping_data, population, df_ir, party_2014, jeonse, station, school"
      ],
      "metadata": {
        "id": "bGunbR6wUrLJ"
      },
      "execution_count": null,
      "outputs": []
    },
    {
      "cell_type": "code",
      "source": [
        "mapping_data, population, df_ir, party_2014, jeonse, station, school = load_other_data(data_dir)"
      ],
      "metadata": {
        "id": "LIR0_XGq0Bbv"
      },
      "execution_count": null,
      "outputs": []
    },
    {
      "cell_type": "code",
      "source": [
        "def mapping_other_data(df): # df는 train 또는 test 데이터 입력\n",
        "    # 서울특별시 데이터만 추출\n",
        "    # df = df[df['city'] == '서울특별시']\n",
        "\n",
        "    # 법정동 매핑\n",
        "    print(\"[START] 법정동 매핑\")\n",
        "    df = pd.merge(df, mapping_data, how='left', left_on='dong', right_on='읍면동명').drop(['동리명', '생성일자', '말소일자'], axis=1)\n",
        "    print(\"[END] 법정동 매핑\")\n",
        "    \n",
        "\n",
        "    # 인구밀도 매핑\n",
        "    print(\"[START] 인구밀도 매핑\")\n",
        "    def mapping_year_gu_population(x):\n",
        "        year = x['transaction_year_month']//100\n",
        "        return population[x['시군구명']].loc[year]\n",
        "    \n",
        "    df['인구밀도'] = df.apply(mapping_year_gu_population, axis=1)\n",
        "    print(\"[END] 인구밀도 매핑\")\n",
        "\n",
        "    # 한국은행 기준금리 매핑\n",
        "    print(\"[START] 기준금리 매핑\")\n",
        "    df['기준금리'] = df['transaction_year_month'].apply(lambda x: df_ir.loc[x, :][0])\n",
        "    print(\"[END] 기준금리 매핑\")\n",
        "\n",
        "    # 구시군의회의원선거 매핑\n",
        "    print(\"[START] 구시군의회의원선거 매핑\")\n",
        "    def mapping_year_gu_party(x):            \n",
        "        # 우, 좌, 기타\n",
        "        return [ party_2014.loc[x['시군구명']]['자유한국당'], party_2014.loc[x['시군구명']]['더불어민주당'], sum(party_2014.loc[x['시군구명']][2:])]\n",
        "\n",
        "    df_party = pd.DataFrame(list(df.apply(mapping_year_gu_party, axis=1)), columns=['정당_우', '정당_좌', '정당_기타'])\n",
        "    df = pd.concat([df,df_party], axis=1)\n",
        "    print(\"[END] 구시군의회의원선거 매핑\")\n",
        "\n",
        "    # 전세 가격지수 매핑\n",
        "    print(\"[START] 전세가격지수 매핑\")\n",
        "    def mapping_year_month_gu_jeonse(x):\n",
        "        year = x['transaction_year_month']\n",
        "        return jeonse.loc[x['시군구명']][year]\n",
        "\n",
        "    df['jeonse'] = df.apply(mapping_year_month_gu_jeonse, axis=1)\n",
        "    print(\"[END] 전세가격지수 매핑\")\n",
        "\n",
        "    # 역세권(지하철 역 개수) 매핑\n",
        "    print(\"[START] 지하철 데이터 매핑\")\n",
        "    num_station = station[\"구\"].value_counts()\n",
        "    df['num_station'] = df[\"시군구명\"].apply(lambda x: num_station[x])\n",
        "    print(\"[END] 지하철 데이터 매핑\")\n",
        "\n",
        "    # 자율형사립고 데이터 매핑\n",
        "    print(\"[START] 자율형사립고 데이터 매핑\")\n",
        "    def mapping_year_gu_school(x):\n",
        "        year = 2021 if x['transaction_year_month']//100 > 2021 else x['transaction_year_month']//100 \n",
        "        return school.loc[year][x['시군구명']]\n",
        "    def mapping_year_gu_alumni(x):\n",
        "        year = 2021 if x['transaction_year_month']//100 > 2021 else x['transaction_year_month']//100 \n",
        "        return school.loc[year][x['시군구명']+'.1']\n",
        "\n",
        "    df['num_school'] = df.apply(mapping_year_gu_school, axis=1)\n",
        "    df['num_alumni'] = df.apply(mapping_year_gu_alumni, axis=1)\n",
        "    print(\"[END] 자율형사립고 데이터 매핑\")\n",
        "\n",
        "    # 공원 데이터 매핑\n",
        "    print(\"[START] 공원 데이터 매핑\")\n",
        "    park_new= park[park['city']=='서울특별시']\n",
        "    park_temp = park_new['gu'].value_counts()\n",
        "    park_number = pd.DataFrame(park_temp)\n",
        "    park_number.reset_index(inplace=True)\n",
        "    park_number.columns = ['구','number']\n",
        "\n",
        "    df_park_gu = pd.DataFrame({'구' : ['마포구', '성북구'], 'number' : ['193', '226']})\n",
        "    park_number= park_number.append(df_park_gu, ignore_index = True)\n",
        "\n",
        "    park_number['number'] = park_number['number'].astype(int) \n",
        "    park_number.set_index('구', inplace=True)\n",
        "    \n",
        "    def park_number_find(a):\n",
        "        position = a['시군구명']\n",
        "        return park_number.loc[position]['number']\n",
        "        \n",
        "    df['park_number'] = df.apply(park_number_find,axis=1)\n",
        "    print(\"[END] 공원 데이터 매핑\")\n",
        "\n",
        "    # 어린이집 데이터 매핑\n",
        "    print(\"[START] 어린이집 데이터 매핑\")\n",
        "    center_new= day_care_center[day_care_center['city']=='서울특별시']\n",
        "    center_temp = center_new['gu'].value_counts()\n",
        "    center_number = pd.DataFrame(center_temp)\n",
        "    center_number.rename(columns={'gu':'number'})\n",
        "\n",
        "    center_number.reset_index(inplace=True)\n",
        "    center_number.columns = ['시군구명' ,'number']\n",
        "\n",
        "    df_center_gu = pd.DataFrame({'시군구명' : ['용산구', '성북구','마포구','동대문구'], 'number' : ['36', '87','85','77']})\n",
        "    center_number= center_number.append(df_center_gu, ignore_index = True)\n",
        "    center_number.set_index('시군구명', inplace=True)\n",
        "\n",
        "    def center_number_find(a):\n",
        "        position = a['시군구명']\n",
        "        return center_number.loc[position]['number']\n",
        "\n",
        "    df['center_number'] = df.apply(center_number_find,axis=1)\n",
        "    print(\"[END] 어린이집 데이터 매핑\")\n",
        "    \n",
        "    # 날짜 전처리(기간의 평균 -> 연월일)\n",
        "    def generate_data(x):\n",
        "        return int(str(x['transaction_year_month'])+str(x['transaction_date']))\n",
        "    df['transaction_ymd'] = df.apply(generate_data, axis=1)\n",
        "\n",
        "    def old_apartment(x):\n",
        "        return x['transaction_year_month']//100-x['year_of_completion']\n",
        "    df['life_of_apartment'] = df.apply(old_apartment, axis=1)\n",
        "\n",
        "    return df"
      ],
      "metadata": {
        "id": "-LS2VkMS0Csy"
      },
      "execution_count": null,
      "outputs": []
    },
    {
      "cell_type": "code",
      "source": [
        "df_train = mapping_other_data(df_covid)"
      ],
      "metadata": {
        "colab": {
          "base_uri": "https://localhost:8080/"
        },
        "id": "FRsk7mvh3Qx6",
        "outputId": "704a6079-8a77-4911-f321-f134d0c6af2e"
      },
      "execution_count": null,
      "outputs": [
        {
          "output_type": "stream",
          "name": "stdout",
          "text": [
            "[START] 법정동 매핑\n",
            "[END] 법정동 매핑\n",
            "[START] 인구밀도 매핑\n",
            "[END] 인구밀도 매핑\n",
            "[START] 기준금리 매핑\n",
            "[END] 기준금리 매핑\n",
            "[START] 구시군의회의원선거 매핑\n",
            "[END] 구시군의회의원선거 매핑\n",
            "[START] 전세가격지수 매핑\n",
            "[END] 전세가격지수 매핑\n",
            "[START] 지하철 데이터 매핑\n",
            "[END] 지하철 데이터 매핑\n",
            "[START] 자율형사립고 데이터 매핑\n",
            "[END] 자율형사립고 데이터 매핑\n",
            "[START] 공원 데이터 매핑\n",
            "[END] 공원 데이터 매핑\n",
            "[START] 어린이집 데이터 매핑\n",
            "[END] 어린이집 데이터 매핑\n"
          ]
        }
      ]
    },
    {
      "cell_type": "markdown",
      "source": [
        "데이터 형식도 기존 데이터와 동일하게 맞춰줄게요."
      ],
      "metadata": {
        "id": "v58UC6U_WVsv"
      }
    },
    {
      "cell_type": "code",
      "source": [
        "df_train['transaction_real_price'].replace(',', '', regex=True, inplace=True)\n",
        "\n",
        "df_train['center_number'] = df_train['center_number'].astype(int)\n",
        "df_train['transaction_real_price'] = df_train['transaction_real_price'].astype(float)"
      ],
      "metadata": {
        "id": "5cFxOL7OhQIt"
      },
      "execution_count": null,
      "outputs": []
    },
    {
      "cell_type": "markdown",
      "source": [
        "사용하지 않는 컬럼은 제거하고, csv 파일로 저장해줍시다!"
      ],
      "metadata": {
        "id": "xNT-dqbIWZbK"
      }
    },
    {
      "cell_type": "code",
      "source": [
        "drop_col = ['transaction_year_month', '법정동코드','시도명', '읍면동명', 'year_of_completion', 'transaction_date']\n",
        "df_train = df_train.drop(drop_col, axis=1)"
      ],
      "metadata": {
        "id": "iu-L5jBI6prS"
      },
      "execution_count": null,
      "outputs": []
    },
    {
      "cell_type": "code",
      "source": [
        "df_train.to_csv('/content/drive/MyDrive/데이크루4기_먼스크루/data/data+other/after_covid_data.csv', index=False)"
      ],
      "metadata": {
        "id": "rIREcHx0hpR1"
      },
      "execution_count": null,
      "outputs": []
    },
    {
      "cell_type": "markdown",
      "source": [
        "잘 저장된 파일을 다시 불러와볼까요?"
      ],
      "metadata": {
        "id": "BR-MJAE3WgbK"
      }
    },
    {
      "cell_type": "code",
      "source": [
        "df_train = pd.read_csv('/content/drive/MyDrive/데이크루4기_먼스크루/data/data+other/after_covid_data.csv') "
      ],
      "metadata": {
        "id": "8L5to2O98Ai-"
      },
      "execution_count": null,
      "outputs": []
    },
    {
      "cell_type": "markdown",
      "source": [
        "불필요한 컬럼을 다시 삭제할게요."
      ],
      "metadata": {
        "id": "mkGhzPvOWlaL"
      }
    },
    {
      "cell_type": "code",
      "source": [
        "drop_col = ['dong', '시군구명', 'transaction_ymd']\n",
        "df_train = df_train.drop(drop_col, axis=1)"
      ],
      "metadata": {
        "id": "XWCN50iehhSJ"
      },
      "execution_count": null,
      "outputs": []
    },
    {
      "cell_type": "markdown",
      "source": [
        "모델 학습에 사용할 머신러닝 라이브러리를 불러옵니다."
      ],
      "metadata": {
        "id": "W3zPU3nbWoyq"
      }
    },
    {
      "cell_type": "code",
      "source": [
        "# 머신러닝 모델 학습 관련 라이브러리\n",
        "import lightgbm as lgb\n",
        "from sklearn.model_selection import TimeSeriesSplit\n",
        "\n",
        "# RSME 성능평가 계산을 위한 라이브러리\n",
        "from sklearn.metrics import mean_squared_error\n",
        "\n",
        "# 프로그램 진행상황을 그림으로 볼 수 있게 해주는 파이썬 라이브러리\n",
        "from tqdm import tqdm\n",
        "from sklearn.model_selection import train_test_split"
      ],
      "metadata": {
        "id": "LuRNRtK56iV_"
      },
      "execution_count": null,
      "outputs": []
    },
    {
      "cell_type": "markdown",
      "source": [
        "train, validation, test 데이터셋으로 나누고, 기존 모델 학습 전처럼 데이터 스케일링 작업도 진행할게요."
      ],
      "metadata": {
        "id": "3U8skQnOW4Km"
      }
    },
    {
      "cell_type": "code",
      "source": [
        "cut = int(len(df_train)*0.9)\n",
        "h_train = df_train[:cut]\n",
        "h_test = df_train[cut:]\n",
        "h_test_X = h_test.drop('transaction_real_price', axis=1)\n",
        "h_test_y = h_test['transaction_real_price']"
      ],
      "metadata": {
        "id": "PuhjV47dahOV"
      },
      "execution_count": null,
      "outputs": []
    },
    {
      "cell_type": "code",
      "source": [
        "from sklearn.preprocessing import RobustScaler\n",
        "from sklearn.preprocessing import MinMaxScaler\n",
        "\n",
        "rbs = RobustScaler()\n",
        "rbs.fit(h_train[['exclusive_use_area', '인구밀도']])\n",
        "\n",
        "h_train[['exclusive_use_area', '인구밀도']] = rbs.transform(h_train[['exclusive_use_area', '인구밀도']])\n",
        "h_test_X[['exclusive_use_area', '인구밀도']] = rbs.transform(h_test_X[['exclusive_use_area', '인구밀도']])\n",
        "\n",
        "mms_col = df_train.columns\n",
        "mms_col = mms_col.drop(['transaction_real_price', 'life_of_apartment', 'floor'])\n",
        "mms_col\n",
        "\n",
        "mms = MinMaxScaler()\n",
        "mms.fit(h_train[mms_col])\n",
        "h_train[mms_col] = mms.transform(h_train[mms_col])\n",
        "h_test_X[mms_col] = mms.transform(h_test_X[mms_col])"
      ],
      "metadata": {
        "colab": {
          "base_uri": "https://localhost:8080/"
        },
        "id": "zTZ67J-may1Y",
        "outputId": "2e89d995-6bf9-4c05-e721-40111ef03305"
      },
      "execution_count": null,
      "outputs": [
        {
          "output_type": "stream",
          "name": "stderr",
          "text": [
            "/usr/local/lib/python3.8/dist-packages/pandas/core/frame.py:3678: SettingWithCopyWarning: \n",
            "A value is trying to be set on a copy of a slice from a DataFrame.\n",
            "Try using .loc[row_indexer,col_indexer] = value instead\n",
            "\n",
            "See the caveats in the documentation: https://pandas.pydata.org/pandas-docs/stable/user_guide/indexing.html#returning-a-view-versus-a-copy\n",
            "  self[col] = igetitem(value, i)\n",
            "/usr/local/lib/python3.8/dist-packages/pandas/core/frame.py:3678: SettingWithCopyWarning: \n",
            "A value is trying to be set on a copy of a slice from a DataFrame.\n",
            "Try using .loc[row_indexer,col_indexer] = value instead\n",
            "\n",
            "See the caveats in the documentation: https://pandas.pydata.org/pandas-docs/stable/user_guide/indexing.html#returning-a-view-versus-a-copy\n",
            "  self[col] = igetitem(value, i)\n"
          ]
        }
      ]
    },
    {
      "cell_type": "code",
      "source": [
        "h_train_X, h_valid_X, h_train_y, h_valid_y = train_test_split(h_train.drop('transaction_real_price', axis=1), h_train['transaction_real_price'], test_size=0.2, random_state=42)"
      ],
      "metadata": {
        "id": "QBcduHjFaz34"
      },
      "execution_count": null,
      "outputs": []
    },
    {
      "cell_type": "code",
      "source": [
        "print(h_train_X.shape, h_train_y.shape, h_valid_X.shape, h_valid_y.shape, h_test_X.shape, h_test_y.shape)"
      ],
      "metadata": {
        "colab": {
          "base_uri": "https://localhost:8080/"
        },
        "id": "3jzcQin6ak25",
        "outputId": "c58e6b79-25fb-4c4f-b9b5-1e66a4d34559"
      },
      "execution_count": null,
      "outputs": [
        {
          "output_type": "stream",
          "name": "stdout",
          "text": [
            "(103260, 14) (103260,) (25816, 14) (25816,) (14342, 14) (14342,)\n"
          ]
        }
      ]
    },
    {
      "cell_type": "markdown",
      "source": [
        "데이터가 잘 만들어졌군요!    \n",
        "\n",
        "여기서 잠깐! COVID-19 이전 데이터로 학습된 기존 모델로도 COVID-19 이후 데이터를 잘 예측하는지 확인해볼까요?    \n",
        "load_model로 기존 모델을 불러와봅시다."
      ],
      "metadata": {
        "id": "Rz5uwGjVXBJD"
      }
    },
    {
      "cell_type": "code",
      "source": [
        "import joblib\n",
        "\n",
        "load_model = joblib.load('/content/drive/MyDrive/데이크루4기_먼스크루/model/lgb_final_model.pkl')"
      ],
      "metadata": {
        "id": "aSzHqiP_gEy1"
      },
      "execution_count": null,
      "outputs": []
    },
    {
      "cell_type": "markdown",
      "source": [
        "성능평가를 위한 RMSE 함수를 다시 선언해줄게요."
      ],
      "metadata": {
        "id": "XWTaPniOXXua"
      }
    },
    {
      "cell_type": "code",
      "source": [
        "def RMSE(y, y_pred):\n",
        "    rmse = mean_squared_error(y, y_pred) ** 0.5\n",
        "    return rmse"
      ],
      "metadata": {
        "id": "fU2mBJeFghF9"
      },
      "execution_count": null,
      "outputs": []
    },
    {
      "cell_type": "markdown",
      "source": [
        "predict() 함수로 값을 예측하고, RMSE() 함수로 평가 결과를 확인해봅시다!"
      ],
      "metadata": {
        "id": "ltwa1LHCXcop"
      }
    },
    {
      "cell_type": "code",
      "source": [
        "load_lgb_pred = load_model.predict(h_train_X)\n",
        "RMSE(h_train_y, load_lgb_pred)"
      ],
      "metadata": {
        "colab": {
          "base_uri": "https://localhost:8080/"
        },
        "id": "uF9GGIB1EybI",
        "outputId": "f4881bd1-680b-483e-d4a0-6dea4e027f4c"
      },
      "execution_count": null,
      "outputs": [
        {
          "output_type": "execute_result",
          "data": {
            "text/plain": [
              "52785.77526052767"
            ]
          },
          "metadata": {},
          "execution_count": 20
        }
      ]
    },
    {
      "cell_type": "markdown",
      "source": [
        "##### **Inst.**\n",
        "코로나 이전 데이터로 평가했을 때는 18706점이었는데, 52785점으로 점수가 크게 떨어졌네요 😢    \n",
        "코로나 이전 이후 많은 변화가 있었나봅니다 🤔  \n",
        "\n",
        "이제, 코로나 이후 데이터로 코로나 이전 학습 모델과 동일한 파라미터를 사용하여 Light BGM을 학습해봅시다!    \n",
        "코로나 이전 학습의 모델의 파라미터는 trial_params에 입력해두었어요.   \n",
        "LGBMRegressor()로 모델을 생성하고, fit() 함수로 모델을 학습해볼까요?     \n",
        "1. 변수 covid_lgb_model에 lgb.LGBMRegressor()을 사용하여 모델을 생성하세요. (단, parameter는 trial_params를 사용해요.\n",
        "2. 생성된 모델에 주어진 데이터를 fit 하세요."
      ],
      "metadata": {
        "id": "zTh_t2SLE4nZ"
      }
    },
    {
      "cell_type": "code",
      "source": [
        "# 코로나 이전 학습 모델과 동일한 파라미터 사용\n",
        "trial_params = {'max_depth': 14, 'learning_rate': 0.009990560009908885, 'n_estimators': 2915, 'min_child_samples': 23, 'subsample': 0.586428406286942}"
      ],
      "metadata": {
        "id": "0PHCVpFegEnS"
      },
      "execution_count": null,
      "outputs": []
    },
    {
      "cell_type": "code",
      "source": [
        "# 1. 변수 covid_lgb_model에 lgb.LGBMRegressor()을 사용하여 모델을 생성하세요. (단, parameter는 trial_params를 사용해요.\n"
      ],
      "metadata": {
        "colab": {
          "base_uri": "https://localhost:8080/"
        },
        "id": "cWkn-xJz6zni",
        "outputId": "060a9dce-0c44-485b-f821-a94fa9c2dedb"
      },
      "execution_count": null,
      "outputs": [
        {
          "output_type": "execute_result",
          "data": {
            "text/plain": [
              "LGBMRegressor(learning_rate=0.009990560009908885, max_depth=14,\n",
              "              min_child_samples=23, n_estimators=2915,\n",
              "              subsample=0.586428406286942)"
            ]
          },
          "metadata": {},
          "execution_count": 30
        }
      ]
    },
    {
      "cell_type": "code",
      "source": [
        "# 2. 생성된 모델에 주어진 데이터를 fit 하세요. (단, verbose=0, early_stopping_rounds=25으로 설정하세요.)\n"
      ],
      "metadata": {
        "id": "dw69GiLOCuPf"
      },
      "execution_count": null,
      "outputs": []
    },
    {
      "cell_type": "markdown",
      "source": [
        "##### **Hint.**\n",
        "- trial_params를 쓰기 위해서는 **을 사용해야 해요.\n",
        "- fit을 위해서는 eval_set과 verbose, early_stopping_rounds을 설정해야 해요."
      ],
      "metadata": {
        "id": "ZRJC4cI1C9Ay"
      }
    },
    {
      "cell_type": "markdown",
      "source": [
        "##### **Solution**"
      ],
      "metadata": {
        "id": "DVEcb2_fC9o4"
      }
    },
    {
      "cell_type": "code",
      "source": [
        "# 1. 변수 covid_lgb_model에 lgb.LGBMRegressor()을 사용하여 모델을 생성하세요. (단, parameter는 trial_params를 사용해요.\n",
        "covid_lgb_model = lgb.LGBMRegressor(**trial_params)"
      ],
      "metadata": {
        "id": "lsUvsTy2C4-_"
      },
      "execution_count": null,
      "outputs": []
    },
    {
      "cell_type": "code",
      "source": [
        "# 2. 생성된 모델에 주어진 데이터를 fit 하세요.\n",
        "covid_lgb_model.fit(h_train_X, h_train_y, eval_set=[(h_valid_X, h_valid_y)], verbose=0, early_stopping_rounds=25)"
      ],
      "metadata": {
        "id": "aKwTQNn9DIS6"
      },
      "execution_count": null,
      "outputs": []
    },
    {
      "cell_type": "code",
      "source": [
        "# fit한 모델의 성능을 확인해봐요\n",
        "covid_lgb_pred = covid_lgb_model.predict(h_test_X)\n",
        "RMSE(h_test_y, covid_lgb_pred)"
      ],
      "metadata": {
        "colab": {
          "base_uri": "https://localhost:8080/"
        },
        "id": "_JNMGKG1FsLC",
        "outputId": "10f6a3b2-f93a-41fe-d4ee-43f645e169c6"
      },
      "execution_count": null,
      "outputs": [
        {
          "output_type": "execute_result",
          "data": {
            "text/plain": [
              "34903.35777445478"
            ]
          },
          "metadata": {},
          "execution_count": 31
        }
      ]
    },
    {
      "cell_type": "markdown",
      "source": [
        "성능은 34903으로 많이 아쉽네요 😢    \n",
        "Stage5의 튜닝을 사용하면 더 좋은 모델이 될 것 같아요!"
      ],
      "metadata": {
        "id": "9o8jFa0tP9Hy"
      }
    },
    {
      "cell_type": "markdown",
      "source": [
        "#### 2-2. COVID-19 이전/이후 사람들의 아파트 선호 요인 시각화\n",
        "코로나 이후 데이터로 학습한 모델에서 변수별 중요도를 확인해봅시다!\n"
      ],
      "metadata": {
        "id": "E4hqNjnGUrLJ"
      }
    },
    {
      "cell_type": "code",
      "source": [
        "plt.barh(h_train_X.columns, covid_lgb_model.feature_importances_)"
      ],
      "metadata": {
        "colab": {
          "base_uri": "https://localhost:8080/",
          "height": 284
        },
        "id": "PssbYmMI640L",
        "outputId": "e5a45f4e-655c-4d89-9ae7-43c9bb932420"
      },
      "execution_count": null,
      "outputs": [
        {
          "output_type": "execute_result",
          "data": {
            "text/plain": [
              "<BarContainer object of 14 artists>"
            ]
          },
          "metadata": {},
          "execution_count": 33
        },
        {
          "output_type": "display_data",
          "data": {
            "text/plain": [
              "<Figure size 432x288 with 1 Axes>"
            ],
            "image/png": "[encoded data removed]"
          },
          "metadata": {
            "needs_background": "light"
          }
        }
      ]
    },
    {
      "cell_type": "markdown",
      "source": [
        "코로나 전 중요 변수와 비교해볼까요?\n",
        "\n",
        "<img src='http://drive.google.com/uc?export=view&id=1PS_zCFJ7-p2-8mrpIVMAniDu7JPitssQ' /><br>\n",
        "\n",
        "\n",
        "기준금리의 중요도가 감소한 것으로 보이네요!    \n",
        "저금리로 인해 금리의 영향이 약해진 것 같아요...  \n",
        "아파트 나이의 중요도는 증가했군요!      \n",
        "기회가 된다면, 코로나와 직접적으로 연관된 다른 외부데이터를 사용해서 파악해보면 좋겠어요~"
      ],
      "metadata": {
        "id": "tGWtP5UFGXec"
      }
    },
    {
      "cell_type": "markdown",
      "source": [
        "상관관계에도 변화가 있을지 확인해봅시다!    \n",
        "코로나 이전 데이터를 before_covid로 불러오고, 불필요한 컬럼을 제거해줍시다.    "
      ],
      "metadata": {
        "id": "G6bRS9BIQTvq"
      }
    },
    {
      "cell_type": "code",
      "source": [
        "# 외부데이터 결합한 데이터\n",
        "before_covid = pd.read_csv('/content/drive/MyDrive/데이크루4기_먼스크루/data/data+other/train_with_other_data.csv')\n",
        "\n",
        "drop_col = ['dong', '시군구명', 'transaction_ymd']\n",
        "before_covid = before_covid.drop(drop_col, axis=1)"
      ],
      "metadata": {
        "id": "0NeP_eWtOtKY"
      },
      "execution_count": null,
      "outputs": []
    },
    {
      "cell_type": "markdown",
      "source": [
        "상관관계 분석에 사용할 컬럼만 cont_col에 선언해줄게요."
      ],
      "metadata": {
        "id": "4QSJpQglYBBg"
      }
    },
    {
      "cell_type": "code",
      "source": [
        "cont_col = ['exclusive_use_area', 'floor', 'life_of_apartment',\n",
        "       'transaction_real_price', '인구밀도', '기준금리', '정당_우', '정당_좌', '정당_기타',\n",
        "       'jeonse', 'num_station', 'num_school', 'num_alumni', 'park_number',\n",
        "       'center_number']"
      ],
      "metadata": {
        "id": "nyc576x8HsOH"
      },
      "execution_count": null,
      "outputs": []
    },
    {
      "cell_type": "markdown",
      "source": [
        "##### **Inst.**\n",
        "아파트 실거래가(transaction_resal_price)에 대한 상관관계만 뽑아서,    \n",
        "상관관계 절대값의 내림차순으로 정렬해볼까요? 😃  \n",
        "1. 코로나 전 상관관계를 내림차순으로 보여주세요.\n",
        "2. 코로나 후 상관관계를 내림차순으로 보여주세요."
      ],
      "metadata": {
        "id": "Tjs0OEnzQbAW"
      }
    },
    {
      "cell_type": "code",
      "source": [
        "# 1. 코로나 전 상관관계를 내림차순으로 보여주세요.\n"
      ],
      "metadata": {
        "id": "DtizFnaGEjIi"
      },
      "execution_count": null,
      "outputs": []
    },
    {
      "cell_type": "code",
      "source": [
        "# 2. 코로나 후 상관관계를 내림차순으로 보여주세요.\n"
      ],
      "metadata": {
        "id": "zFDky-MZEjLd"
      },
      "execution_count": null,
      "outputs": []
    },
    {
      "cell_type": "markdown",
      "source": [
        "##### **Hint.**\n",
        "- 상관관계는 corr() 함수를 이용해요.\n",
        "- 내림차순은 sort_values()를 이용해요.\n",
        "- 상관관계는 음수의 값도 가지기 때문에 양수로 표현하기 위해서 lambda를 활용하여 abs()를 이용해요."
      ],
      "metadata": {
        "id": "7LoB0tVVEt2N"
      }
    },
    {
      "cell_type": "markdown",
      "source": [
        "##### **Solution**"
      ],
      "metadata": {
        "id": "1VcqnLT7EieW"
      }
    },
    {
      "cell_type": "code",
      "source": [
        "# 1. 코로나 전 상관관계를 내림차순으로 보여주세요.\n",
        "before_covid[cont_col].corr()['transaction_real_price'].sort_values(key=lambda x: abs(x), ascending=False)"
      ],
      "metadata": {
        "colab": {
          "base_uri": "https://localhost:8080/"
        },
        "id": "vQvpyHFsHm5_",
        "outputId": "ff48ce15-ae17-45a9-d888-594f67a58eac"
      },
      "execution_count": null,
      "outputs": [
        {
          "output_type": "execute_result",
          "data": {
            "text/plain": [
              "transaction_real_price    1.000000\n",
              "exclusive_use_area        0.668721\n",
              "num_alumni                0.369851\n",
              "num_school                0.363723\n",
              "num_station               0.325297\n",
              "정당_우                      0.258052\n",
              "park_number               0.242310\n",
              "인구밀도                     -0.221540\n",
              "floor                     0.141762\n",
              "기준금리                     -0.138458\n",
              "center_number            -0.135667\n",
              "jeonse                    0.116803\n",
              "정당_좌                     -0.082203\n",
              "정당_기타                    -0.078672\n",
              "life_of_apartment         0.045172\n",
              "Name: transaction_real_price, dtype: float64"
            ]
          },
          "metadata": {},
          "execution_count": 35
        }
      ]
    },
    {
      "cell_type": "code",
      "source": [
        "# 2. 코로나 후 상관관계를 내림차순으로 보여주세요.\n",
        "df_train[cont_col].corr()['transaction_real_price'].sort_values(key=lambda x: abs(x), ascending=False)"
      ],
      "metadata": {
        "colab": {
          "base_uri": "https://localhost:8080/"
        },
        "id": "fSRXxVIkHmlr",
        "outputId": "441befe7-5e5b-405e-ce92-e7c8fd0ae96c"
      },
      "execution_count": null,
      "outputs": [
        {
          "output_type": "execute_result",
          "data": {
            "text/plain": [
              "transaction_real_price    1.000000\n",
              "exclusive_use_area        0.632999\n",
              "num_alumni                0.400911\n",
              "num_school                0.370945\n",
              "num_station               0.329573\n",
              "정당_우                      0.235141\n",
              "park_number               0.232869\n",
              "floor                     0.195819\n",
              "인구밀도                     -0.190569\n",
              "center_number            -0.136834\n",
              "정당_좌                     -0.086986\n",
              "정당_기타                    -0.085632\n",
              "jeonse                    0.064023\n",
              "기준금리                     -0.047043\n",
              "life_of_apartment         0.008193\n",
              "Name: transaction_real_price, dtype: float64"
            ]
          },
          "metadata": {},
          "execution_count": 36
        }
      ]
    },
    {
      "cell_type": "markdown",
      "source": [
        "전용면적에 대한 양의 상관관계가 약해졌네요~       \n",
        "자율형사립고등학교 수와 졸업생 수에 관한 학군과의 양의 상관관계는 더 강해졌습니다!    \n",
        "코로나로 교육 격차가 심해지면서 학군의 중요성이 더욱 부각된 것 같아요 🤔     \n",
        "다양한 해석이 나올 수 있는 결과군요!"
      ],
      "metadata": {
        "id": "d21bGzQmQvZ1"
      }
    },
    {
      "cell_type": "markdown",
      "source": [
        "### **3. 금리 및 부동산 정책과의 연관성**"
      ],
      "metadata": {
        "id": "Ntf6iFJpUrLK"
      }
    },
    {
      "cell_type": "markdown",
      "source": [
        "#### 3-1. 금리와의 연관성\n",
        "앞서 우리는 시계열 데이터를 통해서, 다양한 데이터를 추가하여 아파트 실거래가 예측을 했습니다!    \n",
        "흔히 언급되는 금리와 아파트 실거래가는 어떤 영향이 있는지 직접 그래프로 확인해보실까요?\n"
      ],
      "metadata": {
        "id": "wirwHjSRUrLK"
      }
    },
    {
      "cell_type": "code",
      "source": [
        "df_time[['기준금리', 'transaction_real_price']].plot(subplots=True, figsize = (10,10))\n",
        "plt.show()"
      ],
      "metadata": {
        "id": "WT08y9psUrLK",
        "colab": {
          "base_uri": "https://localhost:8080/",
          "height": 562
        },
        "outputId": "7b917dc2-37f1-4e4e-ff66-de01fa9f985e"
      },
      "execution_count": null,
      "outputs": [
        {
          "output_type": "display_data",
          "data": {
            "text/plain": [
              "<Figure size 720x720 with 2 Axes>"
            ],
            "image/png": "[encoded data removed]"
          },
          "metadata": {
            "needs_background": "light"
          }
        }
      ]
    },
    {
      "cell_type": "markdown",
      "source": [
        "금리가 내려가면, 실거래가가 올라가고    \n",
        "금리가 올라가면, 실거래가가 내려가는 음의 상관관계가 잘 보이네요!    \n",
        "다만, COIVD-19 이후로 금리는 올랐지만, 실거래가가 예측하기 어렵게 나타나네요 😢"
      ],
      "metadata": {
        "id": "tcts15V4SELN"
      }
    },
    {
      "cell_type": "markdown",
      "source": [
        "#### 3-2. 부동산 정책과의 연관성\n",
        "하지만, 해당 금리만으로 설명하기 어려운 부분이 많네요 😢   \n",
        "그러면 실거래가 데이터를 직접 눈으로 확인해볼까요? \n"
      ],
      "metadata": {
        "id": "cj1btKwCUrLK"
      }
    },
    {
      "cell_type": "code",
      "source": [
        "# 외부데이터 결합한 데이터\n",
        "before_covid = pd.read_csv('/content/drive/MyDrive/데이크루4기_먼스크루/data/data+other/train_with_other_data.csv')\n",
        "after_covid = pd.read_csv('/content/drive/MyDrive/데이크루4기_먼스크루/data/data+other/after_covid_data.csv')\n",
        "\n",
        "df_time = pd.concat([before_covid, after_covid], axis=0)\n",
        "df_time = df_time[df_time['transaction_ymd'] > 20000000] # 이상치 날짜를 제거했습니다."
      ],
      "metadata": {
        "id": "3bSCv8GoIU9c"
      },
      "execution_count": null,
      "outputs": []
    },
    {
      "cell_type": "code",
      "source": [
        "feature_col = df_time.columns\n",
        "feature_col = feature_col.drop(['transaction_ymd'])\n",
        "\n",
        "df_time = df_time.groupby('transaction_ymd')[feature_col].mean().reset_index()\n",
        "df_time['transaction_ymd'] = pd.to_datetime(df_time['transaction_ymd'].astype('str'))\n",
        "df_time = df_time.sort_values(by=['transaction_ymd'])\n",
        "df_time = df_time.set_index('transaction_ymd')\n",
        "df_time.head()"
      ],
      "metadata": {
        "id": "_3PunLKNUrLK",
        "colab": {
          "base_uri": "https://localhost:8080/",
          "height": 353
        },
        "outputId": "2d2c15fc-1e6a-4d65-b81e-5abf17d4a198"
      },
      "execution_count": null,
      "outputs": [
        {
          "output_type": "execute_result",
          "data": {
            "text/plain": [
              "                 exclusive_use_area     floor  transaction_real_price  \\\n",
              "transaction_ymd                                                         \n",
              "2008-01-05                71.327958  8.538795            35853.846989   \n",
              "2008-01-15                71.180564  8.433262            35229.293326   \n",
              "2008-01-26                71.533814  8.317531            34880.796512   \n",
              "2008-02-05                72.199517  8.406412            35808.044194   \n",
              "2008-02-15                70.831243  8.342310            34401.071580   \n",
              "\n",
              "                         인구밀도  기준금리      정당_우      정당_좌      정당_기타     jeonse  \\\n",
              "transaction_ymd                                                                 \n",
              "2008-01-05       18535.429192   5.0  5.888768  9.465003  10.151384  53.704319   \n",
              "2008-01-15       18650.262648   5.0  5.792250  9.231970   9.911733  53.986401   \n",
              "2008-01-26       18673.910107   5.0  5.852415  9.328265   9.958855  53.977647   \n",
              "2008-02-05       18655.615251   5.0  5.904679  9.361352   9.974003  54.202969   \n",
              "2008-02-15       18695.186747   5.0  5.874911  9.369596   9.986889  54.114574   \n",
              "\n",
              "                 num_station  num_school  num_alumni  park_number  \\\n",
              "transaction_ymd                                                     \n",
              "2008-01-05         10.448182    0.957678  423.636462    57.284862   \n",
              "2008-01-15         10.185684    0.942411  423.603875    51.562971   \n",
              "2008-01-26         10.119410    0.957513  430.889088    54.633721   \n",
              "2008-02-05         10.240035    0.992201  450.195841    56.129983   \n",
              "2008-02-15         10.135719    0.947201  421.894755    51.796953   \n",
              "\n",
              "                 center_number  life_of_apartment  \n",
              "transaction_ymd                                    \n",
              "2008-01-05          302.640260          11.307651  \n",
              "2008-01-15          286.076426          11.674919  \n",
              "2008-01-26          293.400268          11.632379  \n",
              "2008-02-05          293.586655          11.467071  \n",
              "2008-02-15          302.695252          11.652020  "
            ],
            "text/html": [
              "\n",
              "  <div id=\"df-3d33c743-ae25-4597-9825-2d3ecd452201\">\n",
              "    <div class=\"colab-df-container\">\n",
              "      <div>\n",
              "<style scoped>\n",
              "    .dataframe tbody tr th:only-of-type {\n",
              "        vertical-align: middle;\n",
              "    }\n",
              "\n",
              "    .dataframe tbody tr th {\n",
              "        vertical-align: top;\n",
              "    }\n",
              "\n",
              "    .dataframe thead th {\n",
              "        text-align: right;\n",
              "    }\n",
              "</style>\n",
              "<table border=\"1\" class=\"dataframe\">\n",
              "  <thead>\n",
              "    <tr style=\"text-align: right;\">\n",
              "      <th></th>\n",
              "      <th>exclusive_use_area</th>\n",
              "      <th>floor</th>\n",
              "      <th>transaction_real_price</th>\n",
              "      <th>인구밀도</th>\n",
              "      <th>기준금리</th>\n",
              "      <th>정당_우</th>\n",
              "      <th>정당_좌</th>\n",
              "      <th>정당_기타</th>\n",
              "      <th>jeonse</th>\n",
              "      <th>num_station</th>\n",
              "      <th>num_school</th>\n",
              "      <th>num_alumni</th>\n",
              "      <th>park_number</th>\n",
              "      <th>center_number</th>\n",
              "      <th>life_of_apartment</th>\n",
              "    </tr>\n",
              "    <tr>\n",
              "      <th>transaction_ymd</th>\n",
              "      <th></th>\n",
              "      <th></th>\n",
              "      <th></th>\n",
              "      <th></th>\n",
              "      <th></th>\n",
              "      <th></th>\n",
              "      <th></th>\n",
              "      <th></th>\n",
              "      <th></th>\n",
              "      <th></th>\n",
              "      <th></th>\n",
              "      <th></th>\n",
              "      <th></th>\n",
              "      <th></th>\n",
              "      <th></th>\n",
              "    </tr>\n",
              "  </thead>\n",
              "  <tbody>\n",
              "    <tr>\n",
              "      <th>2008-01-05</th>\n",
              "      <td>71.327958</td>\n",
              "      <td>8.538795</td>\n",
              "      <td>35853.846989</td>\n",
              "      <td>18535.429192</td>\n",
              "      <td>5.0</td>\n",
              "      <td>5.888768</td>\n",
              "      <td>9.465003</td>\n",
              "      <td>10.151384</td>\n",
              "      <td>53.704319</td>\n",
              "      <td>10.448182</td>\n",
              "      <td>0.957678</td>\n",
              "      <td>423.636462</td>\n",
              "      <td>57.284862</td>\n",
              "      <td>302.640260</td>\n",
              "      <td>11.307651</td>\n",
              "    </tr>\n",
              "    <tr>\n",
              "      <th>2008-01-15</th>\n",
              "      <td>71.180564</td>\n",
              "      <td>8.433262</td>\n",
              "      <td>35229.293326</td>\n",
              "      <td>18650.262648</td>\n",
              "      <td>5.0</td>\n",
              "      <td>5.792250</td>\n",
              "      <td>9.231970</td>\n",
              "      <td>9.911733</td>\n",
              "      <td>53.986401</td>\n",
              "      <td>10.185684</td>\n",
              "      <td>0.942411</td>\n",
              "      <td>423.603875</td>\n",
              "      <td>51.562971</td>\n",
              "      <td>286.076426</td>\n",
              "      <td>11.674919</td>\n",
              "    </tr>\n",
              "    <tr>\n",
              "      <th>2008-01-26</th>\n",
              "      <td>71.533814</td>\n",
              "      <td>8.317531</td>\n",
              "      <td>34880.796512</td>\n",
              "      <td>18673.910107</td>\n",
              "      <td>5.0</td>\n",
              "      <td>5.852415</td>\n",
              "      <td>9.328265</td>\n",
              "      <td>9.958855</td>\n",
              "      <td>53.977647</td>\n",
              "      <td>10.119410</td>\n",
              "      <td>0.957513</td>\n",
              "      <td>430.889088</td>\n",
              "      <td>54.633721</td>\n",
              "      <td>293.400268</td>\n",
              "      <td>11.632379</td>\n",
              "    </tr>\n",
              "    <tr>\n",
              "      <th>2008-02-05</th>\n",
              "      <td>72.199517</td>\n",
              "      <td>8.406412</td>\n",
              "      <td>35808.044194</td>\n",
              "      <td>18655.615251</td>\n",
              "      <td>5.0</td>\n",
              "      <td>5.904679</td>\n",
              "      <td>9.361352</td>\n",
              "      <td>9.974003</td>\n",
              "      <td>54.202969</td>\n",
              "      <td>10.240035</td>\n",
              "      <td>0.992201</td>\n",
              "      <td>450.195841</td>\n",
              "      <td>56.129983</td>\n",
              "      <td>293.586655</td>\n",
              "      <td>11.467071</td>\n",
              "    </tr>\n",
              "    <tr>\n",
              "      <th>2008-02-15</th>\n",
              "      <td>70.831243</td>\n",
              "      <td>8.342310</td>\n",
              "      <td>34401.071580</td>\n",
              "      <td>18695.186747</td>\n",
              "      <td>5.0</td>\n",
              "      <td>5.874911</td>\n",
              "      <td>9.369596</td>\n",
              "      <td>9.986889</td>\n",
              "      <td>54.114574</td>\n",
              "      <td>10.135719</td>\n",
              "      <td>0.947201</td>\n",
              "      <td>421.894755</td>\n",
              "      <td>51.796953</td>\n",
              "      <td>302.695252</td>\n",
              "      <td>11.652020</td>\n",
              "    </tr>\n",
              "  </tbody>\n",
              "</table>\n",
              "</div>\n",
              "      <button class=\"colab-df-convert\" onclick=\"convertToInteractive('df-3d33c743-ae25-4597-9825-2d3ecd452201')\"\n",
              "              title=\"Convert this dataframe to an interactive table.\"\n",
              "              style=\"display:none;\">\n",
              "        \n",
              "  <svg xmlns=\"http://www.w3.org/2000/svg\" height=\"24px\"viewBox=\"0 0 24 24\"\n",
              "       width=\"24px\">\n",
              "    <path d=\"M0 0h24v24H0V0z\" fill=\"none\"/>\n",
              "    <path d=\"M18.56 5.44l.94 2.06.94-2.06 2.06-.94-2.06-.94-.94-2.06-.94 2.06-2.06.94zm-11 1L8.5 8.5l.94-2.06 2.06-.94-2.06-.94L8.5 2.5l-.94 2.06-2.06.94zm10 10l.94 2.06.94-2.06 2.06-.94-2.06-.94-.94-2.06-.94 2.06-2.06.94z\"/><path d=\"M17.41 7.96l-1.37-1.37c-.4-.4-.92-.59-1.43-.59-.52 0-1.04.2-1.43.59L10.3 9.45l-7.72 7.72c-.78.78-.78 2.05 0 2.83L4 21.41c.39.39.9.59 1.41.59.51 0 1.02-.2 1.41-.59l7.78-7.78 2.81-2.81c.8-.78.8-2.07 0-2.86zM5.41 20L4 18.59l7.72-7.72 1.47 1.35L5.41 20z\"/>\n",
              "  </svg>\n",
              "      </button>\n",
              "      \n",
              "  <style>\n",
              "    .colab-df-container {\n",
              "      display:flex;\n",
              "      flex-wrap:wrap;\n",
              "      gap: 12px;\n",
              "    }\n",
              "\n",
              "    .colab-df-convert {\n",
              "      background-color: #E8F0FE;\n",
              "      border: none;\n",
              "      border-radius: 50%;\n",
              "      cursor: pointer;\n",
              "      display: none;\n",
              "      fill: #1967D2;\n",
              "      height: 32px;\n",
              "      padding: 0 0 0 0;\n",
              "      width: 32px;\n",
              "    }\n",
              "\n",
              "    .colab-df-convert:hover {\n",
              "      background-color: #E2EBFA;\n",
              "      box-shadow: 0px 1px 2px rgba(60, 64, 67, 0.3), 0px 1px 3px 1px rgba(60, 64, 67, 0.15);\n",
              "      fill: #174EA6;\n",
              "    }\n",
              "\n",
              "    [theme=dark] .colab-df-convert {\n",
              "      background-color: #3B4455;\n",
              "      fill: #D2E3FC;\n",
              "    }\n",
              "\n",
              "    [theme=dark] .colab-df-convert:hover {\n",
              "      background-color: #434B5C;\n",
              "      box-shadow: 0px 1px 3px 1px rgba(0, 0, 0, 0.15);\n",
              "      filter: drop-shadow(0px 1px 2px rgba(0, 0, 0, 0.3));\n",
              "      fill: #FFFFFF;\n",
              "    }\n",
              "  </style>\n",
              "\n",
              "      <script>\n",
              "        const buttonEl =\n",
              "          document.querySelector('#df-3d33c743-ae25-4597-9825-2d3ecd452201 button.colab-df-convert');\n",
              "        buttonEl.style.display =\n",
              "          google.colab.kernel.accessAllowed ? 'block' : 'none';\n",
              "\n",
              "        async function convertToInteractive(key) {\n",
              "          const element = document.querySelector('#df-3d33c743-ae25-4597-9825-2d3ecd452201');\n",
              "          const dataTable =\n",
              "            await google.colab.kernel.invokeFunction('convertToInteractive',\n",
              "                                                     [key], {});\n",
              "          if (!dataTable) return;\n",
              "\n",
              "          const docLinkHtml = 'Like what you see? Visit the ' +\n",
              "            '<a target=\"_blank\" href=https://colab.research.google.com/notebooks/data_table.ipynb>data table notebook</a>'\n",
              "            + ' to learn more about interactive tables.';\n",
              "          element.innerHTML = '';\n",
              "          dataTable['output_type'] = 'display_data';\n",
              "          await google.colab.output.renderOutput(dataTable, element);\n",
              "          const docLink = document.createElement('div');\n",
              "          docLink.innerHTML = docLinkHtml;\n",
              "          element.appendChild(docLink);\n",
              "        }\n",
              "      </script>\n",
              "    </div>\n",
              "  </div>\n",
              "  "
            ]
          },
          "metadata": {},
          "execution_count": 6
        }
      ]
    },
    {
      "cell_type": "code",
      "source": [
        "feature_col = before_covid.columns\n",
        "feature_col = feature_col.drop(['transaction_ymd'])\n",
        "\n",
        "before_covid = before_covid.groupby('transaction_ymd')[feature_col].mean().reset_index()\n",
        "before_covid['transaction_ymd'] = pd.to_datetime(before_covid['transaction_ymd'].astype('str'))\n",
        "before_covid = before_covid.sort_values(by=['transaction_ymd'])\n",
        "before_covid = before_covid.set_index('transaction_ymd')\n",
        "\n",
        "before_covid[['transaction_real_price']].plot(subplots=True, figsize = (10,10))\n",
        "plt.show()"
      ],
      "metadata": {
        "colab": {
          "base_uri": "https://localhost:8080/",
          "height": 562
        },
        "id": "kKeuBryjhi9Y",
        "outputId": "3a9b99cb-9d47-450a-ffff-08b97f8f14c0"
      },
      "execution_count": null,
      "outputs": [
        {
          "output_type": "display_data",
          "data": {
            "text/plain": [
              "<Figure size 720x720 with 1 Axes>"
            ],
            "image/png": "[encoded data removed]"
          },
          "metadata": {
            "needs_background": "light"
          }
        }
      ]
    },
    {
      "cell_type": "markdown",
      "source": [
        "여기서 2016년 이후 그래프가 급격하게 증가하고 있는 것을 확인할 수 있어요!    "
      ],
      "metadata": {
        "id": "z5E03kLvi1G5"
      }
    },
    {
      "cell_type": "code",
      "source": [
        "df_time[['transaction_real_price']].plot(figsize = (10,10))\n",
        "plt.show()"
      ],
      "metadata": {
        "colab": {
          "base_uri": "https://localhost:8080/",
          "height": 562
        },
        "id": "T6X888x5xJaH",
        "outputId": "64b2846c-2ffe-4ff0-87da-a660e44ebddb"
      },
      "execution_count": null,
      "outputs": [
        {
          "output_type": "display_data",
          "data": {
            "text/plain": [
              "<Figure size 720x720 with 1 Axes>"
            ],
            "image/png": "[encoded data removed]"
          },
          "metadata": {
            "needs_background": "light"
          }
        }
      ]
    },
    {
      "cell_type": "markdown",
      "source": [
        "2016년과 2020년을 비교했을 때, 실거래가가 크게 증가한 것을 보여주고 있어요!   \n",
        "그렇다면, 이러한 변화가 나타난 이유는 무엇일까요?    \n",
        "저희는 이런 현상의 이유로 정책의 변화를 생각했습니다 🤔    \n",
        "2016년과 2020년, 2022년 모두 아파트 가격의 경향성이 바뀌는 지점입니다.    \n",
        "해당 연도는 부동산 정책에 큰 변화가 있는 해입니다!    \n",
        "- ['10대 이슈'로 돌아보는 2016년 부동산 시장](https://www.hankyung.com/realestate/article/201612088706e)\n",
        "- [[정책브리핑] 부동산 정책(2018.12~2022.04)](https://www.korea.kr/special/policyCurationView.do?newsId=148865571)     \n",
        "\n",
        "이를 고려해보면 정량적인 데이터만으로도 설명할 수 없는 부분이 존재하는 것을 확인할 수 있었네요 😀   \n",
        "\n"
      ],
      "metadata": {
        "id": "272X0HivjBwB"
      }
    },
    {
      "cell_type": "markdown",
      "source": [
        "여기까지 아파트 실거래가 예측 프로젝트가 끝났습니다!    \n",
        "재미있게 학습하셨을까요?    "
      ],
      "metadata": {
        "id": "ubrJP_tOTYL8"
      }
    },
    {
      "cell_type": "markdown",
      "source": [
        "<img src='http://drive.google.com/uc?export=view&id=1lM7RHqHTrnwciZv0qYq209j_TrFWyO1D' /><br>"
      ],
      "metadata": {
        "id": "nLylzZhiZhhf"
      }
    },
    {
      "cell_type": "markdown",
      "source": [
        "\n",
        "\n",
        "데이터로 미래를 예측하는 것은 멋있고, 기대되는 일이라고 생각해요~ 😎    \n",
        "\n",
        "데이터 분석의 세계로 오신 여러분을 진심으로 환영하며, 프로젝트를 마치겠습니다!    \n",
        "스테이지 동안 고생 많으셨어요~ 👏\n"
      ],
      "metadata": {
        "id": "Mcw9giw6SgSb"
      }
    }
  ]
}