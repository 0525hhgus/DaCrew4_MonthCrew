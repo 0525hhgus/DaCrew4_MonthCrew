{
  "cells": [
    {
      "cell_type": "markdown",
      "metadata": {
        "id": "HmlqT7GeLve6"
      },
      "source": [
        "# **아파트 실거래가 예측 프로젝트**"
      ]
    },
    {
      "cell_type": "markdown",
      "metadata": {
        "id": "i1Cseb-2TKvO"
      },
      "source": [
        "\n",
        "## **Stage 4.  EDA 기반 시각화 및 가공 - <font color=\"blue\">WHERE</font>  어디서 아파트 가격이 잘 나타날까?**\n",
        "<img src='http://drive.google.com/uc?export=view&id=1JK2pmCr_1dguByU2R-YRBbxRzM5PoI_f' /><br>"
      ]
    },
    {
      "cell_type": "markdown",
      "metadata": {
        "id": "mSkeNzAvmEgw"
      },
      "source": [
        "## **INTRO**\n",
        "지난 스테이지 **Stage 3.\t기초 EDA 및 분석 - <font color=\"blue\">WHAT</font> 무엇이 아파트 가격에 영향을 줄까?**에서 외부데이터를 결합하고, 변수들의 추론적 통계를 확인하여 다시 선형 회귀 모델에 적용해보았습니다 😀  \n",
        "\n",
        "예측을 잘하려면 어떤 것이 중요할까요? 바로 예측에 사용하는 변수를 잘 파악하는 것입니다! \n",
        "\n",
        "다양한 **변수별 특징을 시각화**하면, **특징을 쉽게 파악하고 새로운 인사이트를 도출**하기 수월합니다  😎\n",
        "\n",
        "\n",
        "이번 스테이지는 **변수들의 특징과 예측값과의 관계를 시각화**하고, **데이터 전처리 작업을 수행**하여 **다양한 모델링 기법을 적용**할 예정입니다. \n",
        "\n",
        "그럼, 변수와 예측값과의 연관성을 발견할 준비가 되셨을까요? 바로 시작하겠습니다!"
      ]
    },
    {
      "cell_type": "markdown",
      "metadata": {
        "id": "IrVEBFSKne__"
      },
      "source": [
        "먼저, 한글 폰트를 설정하기 위한 약간의 준비를 하겠습니다! 한글 폰트를 다운로드하고, 적용하는 코드입니다."
      ]
    },
    {
      "cell_type": "code",
      "execution_count": 1,
      "metadata": {
        "colab": {
          "base_uri": "https://localhost:8080/"
        },
        "id": "g20bcknnSQ2-",
        "outputId": "5907e699-6453-4132-88a1-231a1420d9fb"
      },
      "outputs": [
        {
          "output_type": "stream",
          "name": "stdout",
          "text": [
            "Reading package lists... Done\n",
            "Building dependency tree       \n",
            "Reading state information... Done\n",
            "fonts-nanum is already the newest version (20180306-3).\n",
            "The following package was automatically installed and is no longer required:\n",
            "  libnvidia-common-510\n",
            "Use 'sudo apt autoremove' to remove it.\n",
            "0 upgraded, 0 newly installed, 0 to remove and 21 not upgraded.\n",
            "/usr/share/fonts: caching, new cache contents: 0 fonts, 1 dirs\n",
            "/usr/share/fonts/truetype: caching, new cache contents: 0 fonts, 3 dirs\n",
            "/usr/share/fonts/truetype/humor-sans: caching, new cache contents: 1 fonts, 0 dirs\n",
            "/usr/share/fonts/truetype/liberation: caching, new cache contents: 16 fonts, 0 dirs\n",
            "/usr/share/fonts/truetype/nanum: caching, new cache contents: 10 fonts, 0 dirs\n",
            "/usr/local/share/fonts: caching, new cache contents: 0 fonts, 0 dirs\n",
            "/root/.local/share/fonts: skipping, no such directory\n",
            "/root/.fonts: skipping, no such directory\n",
            "/usr/share/fonts/truetype: skipping, looped directory detected\n",
            "/usr/share/fonts/truetype/humor-sans: skipping, looped directory detected\n",
            "/usr/share/fonts/truetype/liberation: skipping, looped directory detected\n",
            "/usr/share/fonts/truetype/nanum: skipping, looped directory detected\n",
            "/var/cache/fontconfig: cleaning cache directory\n",
            "/root/.cache/fontconfig: not cleaning non-existent cache directory\n",
            "/root/.fontconfig: not cleaning non-existent cache directory\n",
            "fc-cache: succeeded\n"
          ]
        }
      ],
      "source": [
        "# 폰트 설정\n",
        "!sudo apt-get install -y fonts-nanum\n",
        "!sudo fc-cache -fv\n",
        "!rm ~/.cache/matplotlib -rf"
      ]
    },
    {
      "cell_type": "code",
      "execution_count": 2,
      "metadata": {
        "id": "PeBoIzhJSSN0"
      },
      "outputs": [],
      "source": [
        "import matplotlib.pyplot as plt\n",
        "\n",
        "plt.rc('font', family='NanumBarunGothic') "
      ]
    },
    {
      "cell_type": "markdown",
      "metadata": {
        "id": "4p8txfh6TKvP"
      },
      "source": [
        "### **1. 변수별 특징 및 예측값과의 관계 시각화**\n",
        "이번에는 판다스와 함께 numpy 라이브러리를 사용하여 변수별 특징을 파악하는데에 사용할게요.    \n",
        "numpy 라이브러리도 함께 임포트해주세요!"
      ]
    },
    {
      "cell_type": "code",
      "execution_count": 3,
      "metadata": {
        "id": "C09TFuuAUsbL"
      },
      "outputs": [],
      "source": [
        "import pandas as pd\n",
        "import numpy as np"
      ]
    },
    {
      "cell_type": "markdown",
      "metadata": {
        "id": "ppvAKql-oRqG"
      },
      "source": [
        "\n",
        "이전에 외부데이터와 결합한 데이터를 불러옵니다."
      ]
    },
    {
      "cell_type": "code",
      "execution_count": 4,
      "metadata": {
        "colab": {
          "base_uri": "https://localhost:8080/"
        },
        "id": "am_rLrYPPyQj",
        "outputId": "8ff11479-2a8c-496e-916c-02fb4088e0c0"
      },
      "outputs": [
        {
          "output_type": "stream",
          "name": "stdout",
          "text": [
            "Mounted at /content/drive\n"
          ]
        }
      ],
      "source": [
        "# 외부데이터 결합한 데이터\n",
        "train = pd.read_csv('/content/drive/MyDrive/데이크루4기_먼스크루/data/data+other/train_with_other_data.csv')\n",
        "test = pd.read_csv('/content/drive/MyDrive/데이크루4기_먼스크루/data/data+other/test_with_other_data.csv')"
      ]
    },
    {
      "cell_type": "markdown",
      "metadata": {
        "id": "AFn_XVK8ol6l"
      },
      "source": [
        "사용하지 않는 법정동명, 자치구명, 거래일자 컬럼을 제외해줍니다."
      ]
    },
    {
      "cell_type": "code",
      "execution_count": 5,
      "metadata": {
        "id": "M2FK3st-Sklq"
      },
      "outputs": [],
      "source": [
        "drop_col = ['dong', '시군구명', 'transaction_ymd']\n",
        "train = train.drop(drop_col, axis=1)\n",
        "test = test.drop(drop_col, axis=1)"
      ]
    },
    {
      "cell_type": "markdown",
      "metadata": {
        "id": "syb3PxobTKvP"
      },
      "source": [
        "#### 1-1. 변수별 특징\n",
        "연속형 변수를 골라서 cont_col에 함께 선언할게요.    \n",
        "연속형 변수로는 **전용면적, 아파트 실거래가, 인구밀도, 기준금리, 정당(우) 개수, 정당(좌) 개수, 정당(기타) 개수, 전세가격, 주변 역 개수, 주변 자율형사립고등학교 개수, 졸업생 수, 공원 개수, 어린이집 개수**가 있겠네요!\n",
        "\n",
        "describe() 함수를 사용하여 값의 분포를 확인해봅시다."
      ]
    },
    {
      "cell_type": "code",
      "execution_count": 6,
      "metadata": {
        "colab": {
          "base_uri": "https://localhost:8080/",
          "height": 364
        },
        "id": "MFMU7nzBTKvP",
        "outputId": "5ec05d55-913e-43b9-9281-b964cc064ef2"
      },
      "outputs": [
        {
          "output_type": "execute_result",
          "data": {
            "text/plain": [
              "       exclusive_use_area  transaction_real_price           인구밀도  \\\n",
              "count       762592.000000           762592.000000  762592.000000   \n",
              "mean            77.922848            49114.547481   18322.840287   \n",
              "std             28.576911            33654.673087    4460.565341   \n",
              "min             11.955900              350.000000    6771.000000   \n",
              "25%             59.740000            29000.000000   16119.000000   \n",
              "50%             83.090000            40000.000000   17909.000000   \n",
              "75%             84.960000            58000.000000   20125.000000   \n",
              "max            424.320000           820000.000000   29183.000000   \n",
              "\n",
              "                기준금리           정당_우           정당_좌          정당_기타  \\\n",
              "count  762592.000000  762592.000000  762592.000000  762592.000000   \n",
              "mean        2.222757       6.116859       9.431756      10.037222   \n",
              "std         0.988619       2.054930       2.355509       2.591444   \n",
              "min         1.250000       1.000000       4.000000       4.000000   \n",
              "25%         1.500000       5.000000       8.000000       8.000000   \n",
              "50%         2.000000       6.000000       9.000000      10.000000   \n",
              "75%         2.500000       7.000000      11.000000      12.000000   \n",
              "max         5.250000      10.000000      14.000000      18.000000   \n",
              "\n",
              "              jeonse    num_station     num_school     num_alumni  \\\n",
              "count  762592.000000  762592.000000  762592.000000  762592.000000   \n",
              "mean       74.938560      11.065887       1.033193     415.632737   \n",
              "std        13.642412       5.072211       0.849531     398.765759   \n",
              "min        45.826755       1.000000       0.000000       0.000000   \n",
              "25%        63.829400       7.000000       0.000000       0.000000   \n",
              "50%        77.216332      12.000000       1.000000     381.000000   \n",
              "75%        87.614982      13.000000       1.000000     577.000000   \n",
              "max        97.595844      23.000000       3.000000    1788.000000   \n",
              "\n",
              "        park_number  center_number  \n",
              "count  762592.00000  762592.000000  \n",
              "mean       66.76995     284.507789  \n",
              "std        68.26081     183.854888  \n",
              "min         1.00000      36.000000  \n",
              "25%         9.00000     184.000000  \n",
              "50%        41.00000     255.000000  \n",
              "75%       109.00000     334.000000  \n",
              "max       226.00000     874.000000  "
            ],
            "text/html": [
              "\n",
              "  <div id=\"df-857b93de-f532-4742-b107-2cff96cb52a5\">\n",
              "    <div class=\"colab-df-container\">\n",
              "      <div>\n",
              "<style scoped>\n",
              "    .dataframe tbody tr th:only-of-type {\n",
              "        vertical-align: middle;\n",
              "    }\n",
              "\n",
              "    .dataframe tbody tr th {\n",
              "        vertical-align: top;\n",
              "    }\n",
              "\n",
              "    .dataframe thead th {\n",
              "        text-align: right;\n",
              "    }\n",
              "</style>\n",
              "<table border=\"1\" class=\"dataframe\">\n",
              "  <thead>\n",
              "    <tr style=\"text-align: right;\">\n",
              "      <th></th>\n",
              "      <th>exclusive_use_area</th>\n",
              "      <th>transaction_real_price</th>\n",
              "      <th>인구밀도</th>\n",
              "      <th>기준금리</th>\n",
              "      <th>정당_우</th>\n",
              "      <th>정당_좌</th>\n",
              "      <th>정당_기타</th>\n",
              "      <th>jeonse</th>\n",
              "      <th>num_station</th>\n",
              "      <th>num_school</th>\n",
              "      <th>num_alumni</th>\n",
              "      <th>park_number</th>\n",
              "      <th>center_number</th>\n",
              "    </tr>\n",
              "  </thead>\n",
              "  <tbody>\n",
              "    <tr>\n",
              "      <th>count</th>\n",
              "      <td>762592.000000</td>\n",
              "      <td>762592.000000</td>\n",
              "      <td>762592.000000</td>\n",
              "      <td>762592.000000</td>\n",
              "      <td>762592.000000</td>\n",
              "      <td>762592.000000</td>\n",
              "      <td>762592.000000</td>\n",
              "      <td>762592.000000</td>\n",
              "      <td>762592.000000</td>\n",
              "      <td>762592.000000</td>\n",
              "      <td>762592.000000</td>\n",
              "      <td>762592.00000</td>\n",
              "      <td>762592.000000</td>\n",
              "    </tr>\n",
              "    <tr>\n",
              "      <th>mean</th>\n",
              "      <td>77.922848</td>\n",
              "      <td>49114.547481</td>\n",
              "      <td>18322.840287</td>\n",
              "      <td>2.222757</td>\n",
              "      <td>6.116859</td>\n",
              "      <td>9.431756</td>\n",
              "      <td>10.037222</td>\n",
              "      <td>74.938560</td>\n",
              "      <td>11.065887</td>\n",
              "      <td>1.033193</td>\n",
              "      <td>415.632737</td>\n",
              "      <td>66.76995</td>\n",
              "      <td>284.507789</td>\n",
              "    </tr>\n",
              "    <tr>\n",
              "      <th>std</th>\n",
              "      <td>28.576911</td>\n",
              "      <td>33654.673087</td>\n",
              "      <td>4460.565341</td>\n",
              "      <td>0.988619</td>\n",
              "      <td>2.054930</td>\n",
              "      <td>2.355509</td>\n",
              "      <td>2.591444</td>\n",
              "      <td>13.642412</td>\n",
              "      <td>5.072211</td>\n",
              "      <td>0.849531</td>\n",
              "      <td>398.765759</td>\n",
              "      <td>68.26081</td>\n",
              "      <td>183.854888</td>\n",
              "    </tr>\n",
              "    <tr>\n",
              "      <th>min</th>\n",
              "      <td>11.955900</td>\n",
              "      <td>350.000000</td>\n",
              "      <td>6771.000000</td>\n",
              "      <td>1.250000</td>\n",
              "      <td>1.000000</td>\n",
              "      <td>4.000000</td>\n",
              "      <td>4.000000</td>\n",
              "      <td>45.826755</td>\n",
              "      <td>1.000000</td>\n",
              "      <td>0.000000</td>\n",
              "      <td>0.000000</td>\n",
              "      <td>1.00000</td>\n",
              "      <td>36.000000</td>\n",
              "    </tr>\n",
              "    <tr>\n",
              "      <th>25%</th>\n",
              "      <td>59.740000</td>\n",
              "      <td>29000.000000</td>\n",
              "      <td>16119.000000</td>\n",
              "      <td>1.500000</td>\n",
              "      <td>5.000000</td>\n",
              "      <td>8.000000</td>\n",
              "      <td>8.000000</td>\n",
              "      <td>63.829400</td>\n",
              "      <td>7.000000</td>\n",
              "      <td>0.000000</td>\n",
              "      <td>0.000000</td>\n",
              "      <td>9.00000</td>\n",
              "      <td>184.000000</td>\n",
              "    </tr>\n",
              "    <tr>\n",
              "      <th>50%</th>\n",
              "      <td>83.090000</td>\n",
              "      <td>40000.000000</td>\n",
              "      <td>17909.000000</td>\n",
              "      <td>2.000000</td>\n",
              "      <td>6.000000</td>\n",
              "      <td>9.000000</td>\n",
              "      <td>10.000000</td>\n",
              "      <td>77.216332</td>\n",
              "      <td>12.000000</td>\n",
              "      <td>1.000000</td>\n",
              "      <td>381.000000</td>\n",
              "      <td>41.00000</td>\n",
              "      <td>255.000000</td>\n",
              "    </tr>\n",
              "    <tr>\n",
              "      <th>75%</th>\n",
              "      <td>84.960000</td>\n",
              "      <td>58000.000000</td>\n",
              "      <td>20125.000000</td>\n",
              "      <td>2.500000</td>\n",
              "      <td>7.000000</td>\n",
              "      <td>11.000000</td>\n",
              "      <td>12.000000</td>\n",
              "      <td>87.614982</td>\n",
              "      <td>13.000000</td>\n",
              "      <td>1.000000</td>\n",
              "      <td>577.000000</td>\n",
              "      <td>109.00000</td>\n",
              "      <td>334.000000</td>\n",
              "    </tr>\n",
              "    <tr>\n",
              "      <th>max</th>\n",
              "      <td>424.320000</td>\n",
              "      <td>820000.000000</td>\n",
              "      <td>29183.000000</td>\n",
              "      <td>5.250000</td>\n",
              "      <td>10.000000</td>\n",
              "      <td>14.000000</td>\n",
              "      <td>18.000000</td>\n",
              "      <td>97.595844</td>\n",
              "      <td>23.000000</td>\n",
              "      <td>3.000000</td>\n",
              "      <td>1788.000000</td>\n",
              "      <td>226.00000</td>\n",
              "      <td>874.000000</td>\n",
              "    </tr>\n",
              "  </tbody>\n",
              "</table>\n",
              "</div>\n",
              "      <button class=\"colab-df-convert\" onclick=\"convertToInteractive('df-857b93de-f532-4742-b107-2cff96cb52a5')\"\n",
              "              title=\"Convert this dataframe to an interactive table.\"\n",
              "              style=\"display:none;\">\n",
              "        \n",
              "  <svg xmlns=\"http://www.w3.org/2000/svg\" height=\"24px\"viewBox=\"0 0 24 24\"\n",
              "       width=\"24px\">\n",
              "    <path d=\"M0 0h24v24H0V0z\" fill=\"none\"/>\n",
              "    <path d=\"M18.56 5.44l.94 2.06.94-2.06 2.06-.94-2.06-.94-.94-2.06-.94 2.06-2.06.94zm-11 1L8.5 8.5l.94-2.06 2.06-.94-2.06-.94L8.5 2.5l-.94 2.06-2.06.94zm10 10l.94 2.06.94-2.06 2.06-.94-2.06-.94-.94-2.06-.94 2.06-2.06.94z\"/><path d=\"M17.41 7.96l-1.37-1.37c-.4-.4-.92-.59-1.43-.59-.52 0-1.04.2-1.43.59L10.3 9.45l-7.72 7.72c-.78.78-.78 2.05 0 2.83L4 21.41c.39.39.9.59 1.41.59.51 0 1.02-.2 1.41-.59l7.78-7.78 2.81-2.81c.8-.78.8-2.07 0-2.86zM5.41 20L4 18.59l7.72-7.72 1.47 1.35L5.41 20z\"/>\n",
              "  </svg>\n",
              "      </button>\n",
              "      \n",
              "  <style>\n",
              "    .colab-df-container {\n",
              "      display:flex;\n",
              "      flex-wrap:wrap;\n",
              "      gap: 12px;\n",
              "    }\n",
              "\n",
              "    .colab-df-convert {\n",
              "      background-color: #E8F0FE;\n",
              "      border: none;\n",
              "      border-radius: 50%;\n",
              "      cursor: pointer;\n",
              "      display: none;\n",
              "      fill: #1967D2;\n",
              "      height: 32px;\n",
              "      padding: 0 0 0 0;\n",
              "      width: 32px;\n",
              "    }\n",
              "\n",
              "    .colab-df-convert:hover {\n",
              "      background-color: #E2EBFA;\n",
              "      box-shadow: 0px 1px 2px rgba(60, 64, 67, 0.3), 0px 1px 3px 1px rgba(60, 64, 67, 0.15);\n",
              "      fill: #174EA6;\n",
              "    }\n",
              "\n",
              "    [theme=dark] .colab-df-convert {\n",
              "      background-color: #3B4455;\n",
              "      fill: #D2E3FC;\n",
              "    }\n",
              "\n",
              "    [theme=dark] .colab-df-convert:hover {\n",
              "      background-color: #434B5C;\n",
              "      box-shadow: 0px 1px 3px 1px rgba(0, 0, 0, 0.15);\n",
              "      filter: drop-shadow(0px 1px 2px rgba(0, 0, 0, 0.3));\n",
              "      fill: #FFFFFF;\n",
              "    }\n",
              "  </style>\n",
              "\n",
              "      <script>\n",
              "        const buttonEl =\n",
              "          document.querySelector('#df-857b93de-f532-4742-b107-2cff96cb52a5 button.colab-df-convert');\n",
              "        buttonEl.style.display =\n",
              "          google.colab.kernel.accessAllowed ? 'block' : 'none';\n",
              "\n",
              "        async function convertToInteractive(key) {\n",
              "          const element = document.querySelector('#df-857b93de-f532-4742-b107-2cff96cb52a5');\n",
              "          const dataTable =\n",
              "            await google.colab.kernel.invokeFunction('convertToInteractive',\n",
              "                                                     [key], {});\n",
              "          if (!dataTable) return;\n",
              "\n",
              "          const docLinkHtml = 'Like what you see? Visit the ' +\n",
              "            '<a target=\"_blank\" href=https://colab.research.google.com/notebooks/data_table.ipynb>data table notebook</a>'\n",
              "            + ' to learn more about interactive tables.';\n",
              "          element.innerHTML = '';\n",
              "          dataTable['output_type'] = 'display_data';\n",
              "          await google.colab.output.renderOutput(dataTable, element);\n",
              "          const docLink = document.createElement('div');\n",
              "          docLink.innerHTML = docLinkHtml;\n",
              "          element.appendChild(docLink);\n",
              "        }\n",
              "      </script>\n",
              "    </div>\n",
              "  </div>\n",
              "  "
            ]
          },
          "metadata": {},
          "execution_count": 6
        }
      ],
      "source": [
        "cont_col = ['exclusive_use_area', 'transaction_real_price', '인구밀도', '기준금리', '정당_우', '정당_좌', '정당_기타',\n",
        "       'jeonse', 'num_station', 'num_school', 'num_alumni', 'park_number',\n",
        "       'center_number']\n",
        "\n",
        "train[cont_col].describe()"
      ]
    },
    {
      "cell_type": "markdown",
      "metadata": {
        "id": "78tlQ1QdpgI6"
      },
      "source": [
        "연속형 변수의 값이 실거래가별로 어떻게 분포하고 있는지 확인해봅시다.   \n",
        "시각화에 사용할 matplotlib와 seaborn 라이브러리를 각각 임포트합니다."
      ]
    },
    {
      "cell_type": "code",
      "execution_count": 7,
      "metadata": {
        "id": "jsCSx-5apuB8"
      },
      "outputs": [],
      "source": [
        "import seaborn as sns\n",
        "import matplotlib.pyplot as plt"
      ]
    },
    {
      "cell_type": "markdown",
      "metadata": {
        "id": "oosdU2ujp1PN"
      },
      "source": [
        "##### **Inst.**\n",
        "seaborn의 distplot으로 값의 분포를 보여주는 히스토그램을 그릴 수 있습니다.    \n",
        "아파트 실거래가 변수의 히스토그램을 그려볼까요?    "
      ]
    },
    {
      "cell_type": "code",
      "source": [
        "# 1. train의 'transaction_real_price를 sns를 통해 plot 해보세요.\n",
        "\n",
        "# 2. 그래프의 title을 Distribution of target variable(price)로 설정하고 show 해보세요.\n"
      ],
      "metadata": {
        "id": "GVvvBS6Q-Uzv"
      },
      "execution_count": null,
      "outputs": []
    },
    {
      "cell_type": "markdown",
      "source": [
        "##### **Hint.**\n",
        "- sns에서 displot()을 사용하면 데이터를 시각화 할 수 있습니다.\n",
        "- plt를 통해 title과 show를 이용할 수 있습니다."
      ],
      "metadata": {
        "id": "sJVKCEgN-r4P"
      }
    },
    {
      "cell_type": "markdown",
      "source": [
        "##### **Solution**"
      ],
      "metadata": {
        "id": "qRHpN7R_-vd6"
      }
    },
    {
      "cell_type": "code",
      "execution_count": 10,
      "metadata": {
        "colab": {
          "base_uri": "https://localhost:8080/",
          "height": 390
        },
        "id": "HRpTZqLGSqfE",
        "outputId": "0359aa17-3f98-47b9-b05c-fd832d34e425"
      },
      "outputs": [
        {
          "output_type": "stream",
          "name": "stderr",
          "text": [
            "/usr/local/lib/python3.8/dist-packages/seaborn/distributions.py:2619: FutureWarning: `distplot` is a deprecated function and will be removed in a future version. Please adapt your code to use either `displot` (a figure-level function with similar flexibility) or `histplot` (an axes-level function for histograms).\n",
            "  warnings.warn(msg, FutureWarning)\n",
            "/usr/local/lib/python3.8/dist-packages/IPython/core/pylabtools.py:128: UserWarning: Glyph 8722 (\\N{MINUS SIGN}) missing from current font.\n",
            "  fig.canvas.print_figure(bytes_io, **kw)\n"
          ]
        },
        {
          "output_type": "display_data",
          "data": {
            "text/plain": [
              "<Figure size 432x288 with 1 Axes>"
            ],
            "image/png": "[encoded data removed]"
          },
          "metadata": {
            "needs_background": "light"
          }
        }
      ],
      "source": [
        "# 1. train의 'transaction_real_price를 sns를 통해 plot 해보세요.\n",
        "sns.distplot(train['transaction_real_price'])\n",
        "\n",
        "# 2. 그래프의 title을 Distribution of target variable(price)로 설정하고 show 해보세요\n",
        "plt.title(f'Distribution of target variable(price)')\n",
        "plt.show()"
      ]
    },
    {
      "cell_type": "markdown",
      "metadata": {
        "id": "xm4huJ1LqTaS"
      },
      "source": [
        "<font color=\"orange\">**Seaborn(sns)**</font>는 시각화에 많이 사용되며 regplot, jointplot, kde, boxplot, barplot 등 다양한 시각화 도구를 가지고 있습니다.<br/>추후에 기회가 되시면 사용해보세요!\n",
        "<br/>최대 80억까지 존재하지만, 대부분 20억 이내로 분포하고 있네요!    \n",
        "이번에는 전체 연속형 컬럼을 대상으로 히스토그램을 그려보겠습니다.    \n",
        "빨강 세로선은 평균, 초록 세로선은 중앙값을 나타내도록 그래프에 추가하고, 그래프 출력 범위를 3-시그마 범위로 제한했어요~"
      ]
    },
    {
      "cell_type": "code",
      "execution_count": 11,
      "metadata": {
        "colab": {
          "base_uri": "https://localhost:8080/",
          "height": 1000
        },
        "id": "4Tx33m9LSrkM",
        "outputId": "0c58b270-9786-438e-ff37-32277157ba2a"
      },
      "outputs": [
        {
          "output_type": "stream",
          "name": "stderr",
          "text": [
            "/usr/local/lib/python3.8/dist-packages/seaborn/distributions.py:2619: FutureWarning: `distplot` is a deprecated function and will be removed in a future version. Please adapt your code to use either `displot` (a figure-level function with similar flexibility) or `histplot` (an axes-level function for histograms).\n",
            "  warnings.warn(msg, FutureWarning)\n"
          ]
        },
        {
          "output_type": "display_data",
          "data": {
            "text/plain": [
              "<Figure size 432x288 with 1 Axes>"
            ],
            "image/png": "[encoded data removed]"
          },
          "metadata": {
            "needs_background": "light"
          }
        },
        {
          "output_type": "stream",
          "name": "stderr",
          "text": [
            "/usr/local/lib/python3.8/dist-packages/seaborn/distributions.py:2619: FutureWarning: `distplot` is a deprecated function and will be removed in a future version. Please adapt your code to use either `displot` (a figure-level function with similar flexibility) or `histplot` (an axes-level function for histograms).\n",
            "  warnings.warn(msg, FutureWarning)\n",
            "/usr/local/lib/python3.8/dist-packages/IPython/core/pylabtools.py:128: UserWarning: Glyph 8722 (\\N{MINUS SIGN}) missing from current font.\n",
            "  fig.canvas.print_figure(bytes_io, **kw)\n"
          ]
        },
        {
          "output_type": "display_data",
          "data": {
            "text/plain": [
              "<Figure size 432x288 with 1 Axes>"
            ],
            "image/png": "[encoded data removed]"
          },
          "metadata": {
            "needs_background": "light"
          }
        },
        {
          "output_type": "stream",
          "name": "stderr",
          "text": [
            "/usr/local/lib/python3.8/dist-packages/seaborn/distributions.py:2619: FutureWarning: `distplot` is a deprecated function and will be removed in a future version. Please adapt your code to use either `displot` (a figure-level function with similar flexibility) or `histplot` (an axes-level function for histograms).\n",
            "  warnings.warn(msg, FutureWarning)\n"
          ]
        },
        {
          "output_type": "display_data",
          "data": {
            "text/plain": [
              "<Figure size 432x288 with 1 Axes>"
            ],
            "image/png": "[encoded data removed]"
          },
          "metadata": {
            "needs_background": "light"
          }
        },
        {
          "output_type": "stream",
          "name": "stderr",
          "text": [
            "/usr/local/lib/python3.8/dist-packages/seaborn/distributions.py:2619: FutureWarning: `distplot` is a deprecated function and will be removed in a future version. Please adapt your code to use either `displot` (a figure-level function with similar flexibility) or `histplot` (an axes-level function for histograms).\n",
            "  warnings.warn(msg, FutureWarning)\n"
          ]
        },
        {
          "output_type": "display_data",
          "data": {
            "text/plain": [
              "<Figure size 432x288 with 1 Axes>"
            ],
            "image/png": "[encoded data removed]"
          },
          "metadata": {
            "needs_background": "light"
          }
        },
        {
          "output_type": "stream",
          "name": "stderr",
          "text": [
            "/usr/local/lib/python3.8/dist-packages/seaborn/distributions.py:2619: FutureWarning: `distplot` is a deprecated function and will be removed in a future version. Please adapt your code to use either `displot` (a figure-level function with similar flexibility) or `histplot` (an axes-level function for histograms).\n",
            "  warnings.warn(msg, FutureWarning)\n"
          ]
        },
        {
          "output_type": "display_data",
          "data": {
            "text/plain": [
              "<Figure size 432x288 with 1 Axes>"
            ],
            "image/png": "[encoded data removed]"
          },
          "metadata": {
            "needs_background": "light"
          }
        },
        {
          "output_type": "stream",
          "name": "stderr",
          "text": [
            "/usr/local/lib/python3.8/dist-packages/seaborn/distributions.py:2619: FutureWarning: `distplot` is a deprecated function and will be removed in a future version. Please adapt your code to use either `displot` (a figure-level function with similar flexibility) or `histplot` (an axes-level function for histograms).\n",
            "  warnings.warn(msg, FutureWarning)\n"
          ]
        },
        {
          "output_type": "display_data",
          "data": {
            "text/plain": [
              "<Figure size 432x288 with 1 Axes>"
            ],
            "image/png": "[encoded data removed]"
          },
          "metadata": {
            "needs_background": "light"
          }
        },
        {
          "output_type": "stream",
          "name": "stderr",
          "text": [
            "/usr/local/lib/python3.8/dist-packages/seaborn/distributions.py:2619: FutureWarning: `distplot` is a deprecated function and will be removed in a future version. Please adapt your code to use either `displot` (a figure-level function with similar flexibility) or `histplot` (an axes-level function for histograms).\n",
            "  warnings.warn(msg, FutureWarning)\n"
          ]
        },
        {
          "output_type": "display_data",
          "data": {
            "text/plain": [
              "<Figure size 432x288 with 1 Axes>"
            ],
            "image/png": "[encoded data removed]"
          },
          "metadata": {
            "needs_background": "light"
          }
        },
        {
          "output_type": "stream",
          "name": "stderr",
          "text": [
            "/usr/local/lib/python3.8/dist-packages/seaborn/distributions.py:2619: FutureWarning: `distplot` is a deprecated function and will be removed in a future version. Please adapt your code to use either `displot` (a figure-level function with similar flexibility) or `histplot` (an axes-level function for histograms).\n",
            "  warnings.warn(msg, FutureWarning)\n"
          ]
        },
        {
          "output_type": "display_data",
          "data": {
            "text/plain": [
              "<Figure size 432x288 with 1 Axes>"
            ],
            "image/png": "[encoded data removed]"
          },
          "metadata": {
            "needs_background": "light"
          }
        },
        {
          "output_type": "stream",
          "name": "stderr",
          "text": [
            "/usr/local/lib/python3.8/dist-packages/seaborn/distributions.py:2619: FutureWarning: `distplot` is a deprecated function and will be removed in a future version. Please adapt your code to use either `displot` (a figure-level function with similar flexibility) or `histplot` (an axes-level function for histograms).\n",
            "  warnings.warn(msg, FutureWarning)\n"
          ]
        },
        {
          "output_type": "display_data",
          "data": {
            "text/plain": [
              "<Figure size 432x288 with 1 Axes>"
            ],
            "image/png": "[encoded data removed]"
          },
          "metadata": {
            "needs_background": "light"
          }
        },
        {
          "output_type": "stream",
          "name": "stderr",
          "text": [
            "/usr/local/lib/python3.8/dist-packages/seaborn/distributions.py:2619: FutureWarning: `distplot` is a deprecated function and will be removed in a future version. Please adapt your code to use either `displot` (a figure-level function with similar flexibility) or `histplot` (an axes-level function for histograms).\n",
            "  warnings.warn(msg, FutureWarning)\n"
          ]
        },
        {
          "output_type": "display_data",
          "data": {
            "text/plain": [
              "<Figure size 432x288 with 1 Axes>"
            ],
            "image/png": "[encoded data removed]"
          },
          "metadata": {
            "needs_background": "light"
          }
        },
        {
          "output_type": "stream",
          "name": "stderr",
          "text": [
            "/usr/local/lib/python3.8/dist-packages/seaborn/distributions.py:2619: FutureWarning: `distplot` is a deprecated function and will be removed in a future version. Please adapt your code to use either `displot` (a figure-level function with similar flexibility) or `histplot` (an axes-level function for histograms).\n",
            "  warnings.warn(msg, FutureWarning)\n"
          ]
        },
        {
          "output_type": "display_data",
          "data": {
            "text/plain": [
              "<Figure size 432x288 with 1 Axes>"
            ],
            "image/png": "[encoded data removed]"
          },
          "metadata": {
            "needs_background": "light"
          }
        },
        {
          "output_type": "stream",
          "name": "stderr",
          "text": [
            "/usr/local/lib/python3.8/dist-packages/seaborn/distributions.py:2619: FutureWarning: `distplot` is a deprecated function and will be removed in a future version. Please adapt your code to use either `displot` (a figure-level function with similar flexibility) or `histplot` (an axes-level function for histograms).\n",
            "  warnings.warn(msg, FutureWarning)\n"
          ]
        },
        {
          "output_type": "display_data",
          "data": {
            "text/plain": [
              "<Figure size 432x288 with 1 Axes>"
            ],
            "image/png": "[encoded data removed]"
          },
          "metadata": {
            "needs_background": "light"
          }
        },
        {
          "output_type": "stream",
          "name": "stderr",
          "text": [
            "/usr/local/lib/python3.8/dist-packages/seaborn/distributions.py:2619: FutureWarning: `distplot` is a deprecated function and will be removed in a future version. Please adapt your code to use either `displot` (a figure-level function with similar flexibility) or `histplot` (an axes-level function for histograms).\n",
            "  warnings.warn(msg, FutureWarning)\n"
          ]
        },
        {
          "output_type": "display_data",
          "data": {
            "text/plain": [
              "<Figure size 432x288 with 1 Axes>"
            ],
            "image/png": "[encoded data removed]"
          },
          "metadata": {
            "needs_background": "light"
          }
        }
      ],
      "source": [
        "for c in cont_col:\n",
        "    mean = np.mean(train[c])\n",
        "    std = np.sqrt(np.var(train[c]))\n",
        "\n",
        "    sns.distplot((train[train[c] <=mean+3*std][c])) # 3-sigma\n",
        "    plt.title(f'Distribution of variable '+c)\n",
        "    plt.axvline(x=mean, color='r', linestyle=':')\n",
        "    plt.axvline(x=np.median(train[c]), color='g', linestyle=':')\n",
        "    plt.show()"
      ]
    },
    {
      "cell_type": "markdown",
      "metadata": {
        "id": "bizr_G0d5Z3B"
      },
      "source": [
        "더 자세하게 값을 볼 수 있네요~ 오른쪽, 왼쪽으로 치우친 값이 많이 보여요!    \n",
        "아파트 실거래가 변수의 히스토그램을 다시 확인해볼까요?"
      ]
    },
    {
      "cell_type": "code",
      "execution_count": 12,
      "metadata": {
        "colab": {
          "base_uri": "https://localhost:8080/",
          "height": 390
        },
        "id": "KWbOQKKYrf88",
        "outputId": "7d03f531-6dfb-4d97-fe9e-12f880d7fbb2"
      },
      "outputs": [
        {
          "output_type": "stream",
          "name": "stderr",
          "text": [
            "/usr/local/lib/python3.8/dist-packages/seaborn/distributions.py:2619: FutureWarning: `distplot` is a deprecated function and will be removed in a future version. Please adapt your code to use either `displot` (a figure-level function with similar flexibility) or `histplot` (an axes-level function for histograms).\n",
            "  warnings.warn(msg, FutureWarning)\n",
            "/usr/local/lib/python3.8/dist-packages/IPython/core/pylabtools.py:128: UserWarning: Glyph 8722 (\\N{MINUS SIGN}) missing from current font.\n",
            "  fig.canvas.print_figure(bytes_io, **kw)\n"
          ]
        },
        {
          "output_type": "display_data",
          "data": {
            "text/plain": [
              "<Figure size 432x288 with 1 Axes>"
            ],
            "image/png": "[encoded data removed]"
          },
          "metadata": {
            "needs_background": "light"
          }
        }
      ],
      "source": [
        "mean = np.mean(train['transaction_real_price'])\n",
        "std = np.sqrt(np.var(train['transaction_real_price']))\n",
        "\n",
        "sns.distplot((train[train['transaction_real_price'] <=mean+3*std]['transaction_real_price'])) # 3-sigma\n",
        "plt.title(f'Distribution of variable transaction_real_price')\n",
        "plt.axvline(x=mean, color='r', linestyle=':')\n",
        "plt.axvline(x=np.median(train['transaction_real_price']), color='g', linestyle=':')\n",
        "plt.show()"
      ]
    },
    {
      "cell_type": "markdown",
      "metadata": {
        "id": "ZBq1Xw96r6aE"
      },
      "source": [
        "20억 이내 범위에서도 2억~4억 사이에 많이 분포하고 있네요!     \n",
        "평균이 중앙값보다 오른쪽에 위치한 것을 보니, 큰 거래가가 적지 않게 있는것 같아요 😯"
      ]
    },
    {
      "cell_type": "markdown",
      "metadata": {
        "id": "uCL-dZiZTKvQ"
      },
      "source": [
        "#### 1-2. 예측값과의 관계 시각화\n",
        "예측값인 아파트 실거래가와 다른 변수들 사이의 관계를 확인하는 것 역시 중요하죠.   \n",
        "산점도를 활용하여 예측값과의 관계를 나타내봅시다!\n",
        "\n",
        "예측값과 비교할 예정이니, cont_col에서 예측값 컬럼은 제외할게요."
      ]
    },
    {
      "cell_type": "code",
      "execution_count": 13,
      "metadata": {
        "id": "QJxiFZeqS0QD"
      },
      "outputs": [],
      "source": [
        "cont_col.remove('transaction_real_price')"
      ]
    },
    {
      "cell_type": "markdown",
      "metadata": {
        "id": "OxtC28TTtPa8"
      },
      "source": [
        "scatter() 함수를 사용하여 전세 가격과 아파트 실거래가를 비교하는 산점도를 그려볼까요?    "
      ]
    },
    {
      "cell_type": "code",
      "execution_count": 14,
      "metadata": {
        "colab": {
          "base_uri": "https://localhost:8080/",
          "height": 335
        },
        "id": "eMWlWgVgS1ta",
        "outputId": "f7a34f04-1c80-4e5d-e971-1d553da6d12a"
      },
      "outputs": [
        {
          "output_type": "display_data",
          "data": {
            "text/plain": [
              "<Figure size 432x288 with 1 Axes>"
            ],
            "image/png": "[encoded data removed]"
          },
          "metadata": {
            "needs_background": "light"
          }
        },
        {
          "output_type": "stream",
          "name": "stdout",
          "text": [
            "                        transaction_real_price    jeonse\n",
            "transaction_real_price                1.000000  0.116803\n",
            "jeonse                                0.116803  1.000000\n"
          ]
        }
      ],
      "source": [
        "plt.scatter(train['jeonse'], train['transaction_real_price'])\n",
        "plt.xlabel(\"jeonse\")\n",
        "plt.ylabel('transaction_real_price')\n",
        "plt.show()\n",
        "\n",
        "print(train[['transaction_real_price',\"jeonse\"]].corr())"
      ]
    },
    {
      "cell_type": "markdown",
      "metadata": {
        "id": "h75tHQPXtiLX"
      },
      "source": [
        "전세가격이 높을수록 실거래가가 높게 분포하는 경향이 약간 보입니다.    \n",
        "상관관계도 양의 상관관계로 나왔네요!    \n",
        "다른 모든 연속형 변수에 대해서 실거래가 변수와의 관계를 알아볼까요?"
      ]
    },
    {
      "cell_type": "code",
      "execution_count": 15,
      "metadata": {
        "colab": {
          "base_uri": "https://localhost:8080/",
          "height": 1000
        },
        "id": "lmGT0vt9S1jy",
        "outputId": "3b585a9d-053f-4ae6-9d30-f8b0f69fd17d"
      },
      "outputs": [
        {
          "output_type": "display_data",
          "data": {
            "text/plain": [
              "<Figure size 432x288 with 1 Axes>"
            ],
            "image/png": "[encoded data removed]"
          },
          "metadata": {
            "needs_background": "light"
          }
        },
        {
          "output_type": "stream",
          "name": "stdout",
          "text": [
            "                        transaction_real_price  exclusive_use_area\n",
            "transaction_real_price                1.000000            0.668721\n",
            "exclusive_use_area                    0.668721            1.000000\n"
          ]
        },
        {
          "output_type": "display_data",
          "data": {
            "text/plain": [
              "<Figure size 432x288 with 1 Axes>"
            ],
            "image/png": "[encoded data removed]"
          },
          "metadata": {
            "needs_background": "light"
          }
        },
        {
          "output_type": "stream",
          "name": "stdout",
          "text": [
            "                        transaction_real_price     인구밀도\n",
            "transaction_real_price                 1.00000 -0.22154\n",
            "인구밀도                                  -0.22154  1.00000\n"
          ]
        },
        {
          "output_type": "display_data",
          "data": {
            "text/plain": [
              "<Figure size 432x288 with 1 Axes>"
            ],
            "image/png": "[encoded data removed]"
          },
          "metadata": {
            "needs_background": "light"
          }
        },
        {
          "output_type": "stream",
          "name": "stdout",
          "text": [
            "                        transaction_real_price      기준금리\n",
            "transaction_real_price                1.000000 -0.138458\n",
            "기준금리                                 -0.138458  1.000000\n"
          ]
        },
        {
          "output_type": "display_data",
          "data": {
            "text/plain": [
              "<Figure size 432x288 with 1 Axes>"
            ],
            "image/png": "[encoded data removed]"
          },
          "metadata": {
            "needs_background": "light"
          }
        },
        {
          "output_type": "stream",
          "name": "stdout",
          "text": [
            "                        transaction_real_price      정당_우\n",
            "transaction_real_price                1.000000  0.258052\n",
            "정당_우                                  0.258052  1.000000\n"
          ]
        },
        {
          "output_type": "display_data",
          "data": {
            "text/plain": [
              "<Figure size 432x288 with 1 Axes>"
            ],
            "image/png": "[encoded data removed]"
          },
          "metadata": {
            "needs_background": "light"
          }
        },
        {
          "output_type": "stream",
          "name": "stdout",
          "text": [
            "                        transaction_real_price      정당_좌\n",
            "transaction_real_price                1.000000 -0.082203\n",
            "정당_좌                                 -0.082203  1.000000\n"
          ]
        },
        {
          "output_type": "display_data",
          "data": {
            "text/plain": [
              "<Figure size 432x288 with 1 Axes>"
            ],
            "image/png": "[encoded data removed]"
          },
          "metadata": {
            "needs_background": "light"
          }
        },
        {
          "output_type": "stream",
          "name": "stdout",
          "text": [
            "                        transaction_real_price     정당_기타\n",
            "transaction_real_price                1.000000 -0.078672\n",
            "정당_기타                                -0.078672  1.000000\n"
          ]
        },
        {
          "output_type": "display_data",
          "data": {
            "text/plain": [
              "<Figure size 432x288 with 1 Axes>"
            ],
            "image/png": "[encoded data removed]"
          },
          "metadata": {
            "needs_background": "light"
          }
        },
        {
          "output_type": "stream",
          "name": "stdout",
          "text": [
            "                        transaction_real_price    jeonse\n",
            "transaction_real_price                1.000000  0.116803\n",
            "jeonse                                0.116803  1.000000\n"
          ]
        },
        {
          "output_type": "display_data",
          "data": {
            "text/plain": [
              "<Figure size 432x288 with 1 Axes>"
            ],
            "image/png": "[encoded data removed]"
          },
          "metadata": {
            "needs_background": "light"
          }
        },
        {
          "output_type": "stream",
          "name": "stdout",
          "text": [
            "                        transaction_real_price  num_station\n",
            "transaction_real_price                1.000000     0.325297\n",
            "num_station                           0.325297     1.000000\n"
          ]
        },
        {
          "output_type": "display_data",
          "data": {
            "text/plain": [
              "<Figure size 432x288 with 1 Axes>"
            ],
            "image/png": "[encoded data removed]"
          },
          "metadata": {
            "needs_background": "light"
          }
        },
        {
          "output_type": "stream",
          "name": "stdout",
          "text": [
            "                        transaction_real_price  num_school\n",
            "transaction_real_price                1.000000    0.363723\n",
            "num_school                            0.363723    1.000000\n"
          ]
        },
        {
          "output_type": "display_data",
          "data": {
            "text/plain": [
              "<Figure size 432x288 with 1 Axes>"
            ],
            "image/png": "[encoded data removed]"
          },
          "metadata": {
            "needs_background": "light"
          }
        },
        {
          "output_type": "stream",
          "name": "stdout",
          "text": [
            "                        transaction_real_price  num_alumni\n",
            "transaction_real_price                1.000000    0.369851\n",
            "num_alumni                            0.369851    1.000000\n"
          ]
        },
        {
          "output_type": "display_data",
          "data": {
            "text/plain": [
              "<Figure size 432x288 with 1 Axes>"
            ],
            "image/png": "[encoded data removed]"
          },
          "metadata": {
            "needs_background": "light"
          }
        },
        {
          "output_type": "stream",
          "name": "stdout",
          "text": [
            "                        transaction_real_price  park_number\n",
            "transaction_real_price                 1.00000      0.24231\n",
            "park_number                            0.24231      1.00000\n"
          ]
        },
        {
          "output_type": "display_data",
          "data": {
            "text/plain": [
              "<Figure size 432x288 with 1 Axes>"
            ],
            "image/png": "[encoded data removed]"
          },
          "metadata": {
            "needs_background": "light"
          }
        },
        {
          "output_type": "stream",
          "name": "stdout",
          "text": [
            "                        transaction_real_price  center_number\n",
            "transaction_real_price                1.000000      -0.135667\n",
            "center_number                        -0.135667       1.000000\n"
          ]
        }
      ],
      "source": [
        "for c in cont_col:\n",
        "    plt.scatter(train[c], train['transaction_real_price'])\n",
        "    plt.xlabel(c)\n",
        "    plt.ylabel('transaction_real_price')\n",
        "    plt.show()\n",
        "\n",
        "    print(train[['transaction_real_price',c]].corr())"
      ]
    },
    {
      "cell_type": "markdown",
      "metadata": {
        "id": "Rl7MEWqBuUra"
      },
      "source": [
        "모든 연속형 변수에 대해 분포가 잘 나타난 것을 볼 수 있네요!   \n",
        "대표적으로 전용면적과 기준금리, 인구밀도만 확인해볼까요?"
      ]
    },
    {
      "cell_type": "code",
      "execution_count": 16,
      "metadata": {
        "colab": {
          "base_uri": "https://localhost:8080/",
          "height": 971
        },
        "id": "zYyqH6CHuHVb",
        "outputId": "85f1858c-79e7-4e25-da55-2f6f0a7dcfb9"
      },
      "outputs": [
        {
          "output_type": "display_data",
          "data": {
            "text/plain": [
              "<Figure size 432x288 with 1 Axes>"
            ],
            "image/png": "[encoded data removed]"
          },
          "metadata": {
            "needs_background": "light"
          }
        },
        {
          "output_type": "stream",
          "name": "stdout",
          "text": [
            "                        transaction_real_price  exclusive_use_area\n",
            "transaction_real_price                1.000000            0.668721\n",
            "exclusive_use_area                    0.668721            1.000000\n"
          ]
        },
        {
          "output_type": "display_data",
          "data": {
            "text/plain": [
              "<Figure size 432x288 with 1 Axes>"
            ],
            "image/png": "[encoded data removed]"
          },
          "metadata": {
            "needs_background": "light"
          }
        },
        {
          "output_type": "stream",
          "name": "stdout",
          "text": [
            "                        transaction_real_price      기준금리\n",
            "transaction_real_price                1.000000 -0.138458\n",
            "기준금리                                 -0.138458  1.000000\n"
          ]
        },
        {
          "output_type": "display_data",
          "data": {
            "text/plain": [
              "<Figure size 432x288 with 1 Axes>"
            ],
            "image/png": "[encoded data removed]"
          },
          "metadata": {
            "needs_background": "light"
          }
        },
        {
          "output_type": "stream",
          "name": "stdout",
          "text": [
            "                        transaction_real_price     인구밀도\n",
            "transaction_real_price                 1.00000 -0.22154\n",
            "인구밀도                                  -0.22154  1.00000\n"
          ]
        }
      ],
      "source": [
        "for c in ['exclusive_use_area', '기준금리', '인구밀도']:\n",
        "    plt.scatter(train[c], train['transaction_real_price'])\n",
        "    plt.xlabel(c)\n",
        "    plt.ylabel('transaction_real_price')\n",
        "    plt.show()\n",
        "\n",
        "    print(train[['transaction_real_price',c]].corr())"
      ]
    },
    {
      "cell_type": "markdown",
      "metadata": {
        "id": "fHwCO9fmufOg"
      },
      "source": [
        "전용면적이 클수록, 기준금리와 인구밀도가 낮을수록 높은 실거래가를 가지고 있는 것으로 보여지네요!"
      ]
    },
    {
      "cell_type": "markdown",
      "metadata": {
        "id": "6kzF8UxuOWgH"
      },
      "source": [
        "다음으로 범주형 변수를 시각화해볼까요?   \n",
        "확인할 번주형 변수는 두 가지로, 층수(floor)와 아파트 나이(life_of_apartment)입니다.   \n",
        "먼저, 층수를 확인해보죠!"
      ]
    },
    {
      "cell_type": "markdown",
      "metadata": {
        "id": "BS9-YXGRu8bi"
      },
      "source": [
        "unique() 함수로 데이터프레임에 구성된 유일한 값을 확인할 수 있어요.    \n",
        "층수는 지하 4층부터 69층까지 다양하게 구성되어 있네요!"
      ]
    },
    {
      "cell_type": "code",
      "execution_count": 17,
      "metadata": {
        "colab": {
          "base_uri": "https://localhost:8080/"
        },
        "id": "OUOhEVGnTKvQ",
        "outputId": "b44cb305-97aa-487e-a4c2-b992e31e3650"
      },
      "outputs": [
        {
          "output_type": "execute_result",
          "data": {
            "text/plain": [
              "array([-4, -3, -2, -1,  1,  2,  3,  4,  5,  6,  7,  8,  9, 10, 11, 12, 13,\n",
              "       14, 15, 16, 17, 18, 19, 20, 21, 22, 23, 24, 25, 26, 27, 28, 29, 30,\n",
              "       31, 32, 33, 34, 35, 36, 37, 38, 39, 40, 41, 42, 43, 44, 45, 46, 47,\n",
              "       48, 49, 50, 51, 52, 53, 54, 55, 56, 57, 58, 59, 60, 61, 62, 63, 64,\n",
              "       65, 66, 67, 68, 69])"
            ]
          },
          "metadata": {},
          "execution_count": 17
        }
      ],
      "source": [
        "np.unique(train['floor'])"
      ]
    },
    {
      "cell_type": "markdown",
      "metadata": {
        "id": "CNsvLPGqvM9S"
      },
      "source": [
        "층별로 기술 통계값을 구하는 과정입니다!    \n",
        "각 층마다 기술 통계 요소를 구해서 데이터프레임에 저장합니다."
      ]
    },
    {
      "cell_type": "code",
      "execution_count": 18,
      "metadata": {
        "id": "FNQCdvehTL93"
      },
      "outputs": [],
      "source": [
        "floor_summary = pd.DataFrame({'floor':[],\n",
        "                             'count':[],\n",
        "                             'min':[],\n",
        "                             'mean':[],\n",
        "                             'median':[],\n",
        "                             'max':[],\n",
        "                             'std':[],\n",
        "                             'range':[]})\n",
        "for c in np.unique(train['floor']):\n",
        "  tmp = train[train['floor'] == c][['transaction_real_price']]\n",
        "  cnt = np.shape(train[train['floor'] == c][['transaction_real_price']])[0]\n",
        "  min = int(np.min(tmp))\n",
        "  mean = int(np.mean(tmp))\n",
        "  median = int(np.median(tmp))\n",
        "  max = int(np.max(tmp))\n",
        "  std = int(np.sqrt(np.var(tmp)))\n",
        "  rg = int(max - min)\n",
        "\n",
        "  tmp_df = pd.DataFrame({'floor':[c],\n",
        "                         'count':[cnt],\n",
        "                          'min':[min],\n",
        "                          'mean':[mean],\n",
        "                         'median':[median],\n",
        "                          'max':[max],\n",
        "                          'std':[std],\n",
        "                          'range':[rg]})\n",
        "  floor_summary = pd.concat([floor_summary, tmp_df])"
      ]
    },
    {
      "cell_type": "markdown",
      "metadata": {
        "id": "BBakITB1vvAS"
      },
      "source": [
        "기술 통계값을 int형으로 변환하고 출력해봅시다."
      ]
    },
    {
      "cell_type": "code",
      "execution_count": 19,
      "metadata": {
        "colab": {
          "base_uri": "https://localhost:8080/",
          "height": 423
        },
        "id": "xXSrdCqgTL7u",
        "outputId": "55ccad82-3d8c-4db7-83c9-1e93084f7e83"
      },
      "outputs": [
        {
          "output_type": "execute_result",
          "data": {
            "text/plain": [
              "    floor  count     min    mean  median     max     std   range\n",
              "0      -4      4   55567   61454   62600   65050    3543    9483\n",
              "0      -3      7   51000   58608   55181   70500    6283   19500\n",
              "0      -2     16   37000  159565   58468  624000  212511  587000\n",
              "0      -1    117    4500   56523   26500  575000   96608  570500\n",
              "0       1  47298    2000   46024   37500  727000   32822  725000\n",
              "..    ...    ...     ...     ...     ...     ...     ...     ...\n",
              "0      65      3  117300  130766  136000  139000    9600   21700\n",
              "0      66      4  128000  297000  305000  450000  114179  322000\n",
              "0      67      2  105000  141500  141500  178000   36500   73000\n",
              "0      68      5  133500  208900  185000  340000   74131  206500\n",
              "0      69      1  147000  147000  147000  147000       0       0\n",
              "\n",
              "[73 rows x 8 columns]"
            ],
            "text/html": [
              "\n",
              "  <div id=\"df-1efce488-ee39-4d5e-843a-491ca6c9154a\">\n",
              "    <div class=\"colab-df-container\">\n",
              "      <div>\n",
              "<style scoped>\n",
              "    .dataframe tbody tr th:only-of-type {\n",
              "        vertical-align: middle;\n",
              "    }\n",
              "\n",
              "    .dataframe tbody tr th {\n",
              "        vertical-align: top;\n",
              "    }\n",
              "\n",
              "    .dataframe thead th {\n",
              "        text-align: right;\n",
              "    }\n",
              "</style>\n",
              "<table border=\"1\" class=\"dataframe\">\n",
              "  <thead>\n",
              "    <tr style=\"text-align: right;\">\n",
              "      <th></th>\n",
              "      <th>floor</th>\n",
              "      <th>count</th>\n",
              "      <th>min</th>\n",
              "      <th>mean</th>\n",
              "      <th>median</th>\n",
              "      <th>max</th>\n",
              "      <th>std</th>\n",
              "      <th>range</th>\n",
              "    </tr>\n",
              "  </thead>\n",
              "  <tbody>\n",
              "    <tr>\n",
              "      <th>0</th>\n",
              "      <td>-4</td>\n",
              "      <td>4</td>\n",
              "      <td>55567</td>\n",
              "      <td>61454</td>\n",
              "      <td>62600</td>\n",
              "      <td>65050</td>\n",
              "      <td>3543</td>\n",
              "      <td>9483</td>\n",
              "    </tr>\n",
              "    <tr>\n",
              "      <th>0</th>\n",
              "      <td>-3</td>\n",
              "      <td>7</td>\n",
              "      <td>51000</td>\n",
              "      <td>58608</td>\n",
              "      <td>55181</td>\n",
              "      <td>70500</td>\n",
              "      <td>6283</td>\n",
              "      <td>19500</td>\n",
              "    </tr>\n",
              "    <tr>\n",
              "      <th>0</th>\n",
              "      <td>-2</td>\n",
              "      <td>16</td>\n",
              "      <td>37000</td>\n",
              "      <td>159565</td>\n",
              "      <td>58468</td>\n",
              "      <td>624000</td>\n",
              "      <td>212511</td>\n",
              "      <td>587000</td>\n",
              "    </tr>\n",
              "    <tr>\n",
              "      <th>0</th>\n",
              "      <td>-1</td>\n",
              "      <td>117</td>\n",
              "      <td>4500</td>\n",
              "      <td>56523</td>\n",
              "      <td>26500</td>\n",
              "      <td>575000</td>\n",
              "      <td>96608</td>\n",
              "      <td>570500</td>\n",
              "    </tr>\n",
              "    <tr>\n",
              "      <th>0</th>\n",
              "      <td>1</td>\n",
              "      <td>47298</td>\n",
              "      <td>2000</td>\n",
              "      <td>46024</td>\n",
              "      <td>37500</td>\n",
              "      <td>727000</td>\n",
              "      <td>32822</td>\n",
              "      <td>725000</td>\n",
              "    </tr>\n",
              "    <tr>\n",
              "      <th>...</th>\n",
              "      <td>...</td>\n",
              "      <td>...</td>\n",
              "      <td>...</td>\n",
              "      <td>...</td>\n",
              "      <td>...</td>\n",
              "      <td>...</td>\n",
              "      <td>...</td>\n",
              "      <td>...</td>\n",
              "    </tr>\n",
              "    <tr>\n",
              "      <th>0</th>\n",
              "      <td>65</td>\n",
              "      <td>3</td>\n",
              "      <td>117300</td>\n",
              "      <td>130766</td>\n",
              "      <td>136000</td>\n",
              "      <td>139000</td>\n",
              "      <td>9600</td>\n",
              "      <td>21700</td>\n",
              "    </tr>\n",
              "    <tr>\n",
              "      <th>0</th>\n",
              "      <td>66</td>\n",
              "      <td>4</td>\n",
              "      <td>128000</td>\n",
              "      <td>297000</td>\n",
              "      <td>305000</td>\n",
              "      <td>450000</td>\n",
              "      <td>114179</td>\n",
              "      <td>322000</td>\n",
              "    </tr>\n",
              "    <tr>\n",
              "      <th>0</th>\n",
              "      <td>67</td>\n",
              "      <td>2</td>\n",
              "      <td>105000</td>\n",
              "      <td>141500</td>\n",
              "      <td>141500</td>\n",
              "      <td>178000</td>\n",
              "      <td>36500</td>\n",
              "      <td>73000</td>\n",
              "    </tr>\n",
              "    <tr>\n",
              "      <th>0</th>\n",
              "      <td>68</td>\n",
              "      <td>5</td>\n",
              "      <td>133500</td>\n",
              "      <td>208900</td>\n",
              "      <td>185000</td>\n",
              "      <td>340000</td>\n",
              "      <td>74131</td>\n",
              "      <td>206500</td>\n",
              "    </tr>\n",
              "    <tr>\n",
              "      <th>0</th>\n",
              "      <td>69</td>\n",
              "      <td>1</td>\n",
              "      <td>147000</td>\n",
              "      <td>147000</td>\n",
              "      <td>147000</td>\n",
              "      <td>147000</td>\n",
              "      <td>0</td>\n",
              "      <td>0</td>\n",
              "    </tr>\n",
              "  </tbody>\n",
              "</table>\n",
              "<p>73 rows × 8 columns</p>\n",
              "</div>\n",
              "      <button class=\"colab-df-convert\" onclick=\"convertToInteractive('df-1efce488-ee39-4d5e-843a-491ca6c9154a')\"\n",
              "              title=\"Convert this dataframe to an interactive table.\"\n",
              "              style=\"display:none;\">\n",
              "        \n",
              "  <svg xmlns=\"http://www.w3.org/2000/svg\" height=\"24px\"viewBox=\"0 0 24 24\"\n",
              "       width=\"24px\">\n",
              "    <path d=\"M0 0h24v24H0V0z\" fill=\"none\"/>\n",
              "    <path d=\"M18.56 5.44l.94 2.06.94-2.06 2.06-.94-2.06-.94-.94-2.06-.94 2.06-2.06.94zm-11 1L8.5 8.5l.94-2.06 2.06-.94-2.06-.94L8.5 2.5l-.94 2.06-2.06.94zm10 10l.94 2.06.94-2.06 2.06-.94-2.06-.94-.94-2.06-.94 2.06-2.06.94z\"/><path d=\"M17.41 7.96l-1.37-1.37c-.4-.4-.92-.59-1.43-.59-.52 0-1.04.2-1.43.59L10.3 9.45l-7.72 7.72c-.78.78-.78 2.05 0 2.83L4 21.41c.39.39.9.59 1.41.59.51 0 1.02-.2 1.41-.59l7.78-7.78 2.81-2.81c.8-.78.8-2.07 0-2.86zM5.41 20L4 18.59l7.72-7.72 1.47 1.35L5.41 20z\"/>\n",
              "  </svg>\n",
              "      </button>\n",
              "      \n",
              "  <style>\n",
              "    .colab-df-container {\n",
              "      display:flex;\n",
              "      flex-wrap:wrap;\n",
              "      gap: 12px;\n",
              "    }\n",
              "\n",
              "    .colab-df-convert {\n",
              "      background-color: #E8F0FE;\n",
              "      border: none;\n",
              "      border-radius: 50%;\n",
              "      cursor: pointer;\n",
              "      display: none;\n",
              "      fill: #1967D2;\n",
              "      height: 32px;\n",
              "      padding: 0 0 0 0;\n",
              "      width: 32px;\n",
              "    }\n",
              "\n",
              "    .colab-df-convert:hover {\n",
              "      background-color: #E2EBFA;\n",
              "      box-shadow: 0px 1px 2px rgba(60, 64, 67, 0.3), 0px 1px 3px 1px rgba(60, 64, 67, 0.15);\n",
              "      fill: #174EA6;\n",
              "    }\n",
              "\n",
              "    [theme=dark] .colab-df-convert {\n",
              "      background-color: #3B4455;\n",
              "      fill: #D2E3FC;\n",
              "    }\n",
              "\n",
              "    [theme=dark] .colab-df-convert:hover {\n",
              "      background-color: #434B5C;\n",
              "      box-shadow: 0px 1px 3px 1px rgba(0, 0, 0, 0.15);\n",
              "      filter: drop-shadow(0px 1px 2px rgba(0, 0, 0, 0.3));\n",
              "      fill: #FFFFFF;\n",
              "    }\n",
              "  </style>\n",
              "\n",
              "      <script>\n",
              "        const buttonEl =\n",
              "          document.querySelector('#df-1efce488-ee39-4d5e-843a-491ca6c9154a button.colab-df-convert');\n",
              "        buttonEl.style.display =\n",
              "          google.colab.kernel.accessAllowed ? 'block' : 'none';\n",
              "\n",
              "        async function convertToInteractive(key) {\n",
              "          const element = document.querySelector('#df-1efce488-ee39-4d5e-843a-491ca6c9154a');\n",
              "          const dataTable =\n",
              "            await google.colab.kernel.invokeFunction('convertToInteractive',\n",
              "                                                     [key], {});\n",
              "          if (!dataTable) return;\n",
              "\n",
              "          const docLinkHtml = 'Like what you see? Visit the ' +\n",
              "            '<a target=\"_blank\" href=https://colab.research.google.com/notebooks/data_table.ipynb>data table notebook</a>'\n",
              "            + ' to learn more about interactive tables.';\n",
              "          element.innerHTML = '';\n",
              "          dataTable['output_type'] = 'display_data';\n",
              "          await google.colab.output.renderOutput(dataTable, element);\n",
              "          const docLink = document.createElement('div');\n",
              "          docLink.innerHTML = docLinkHtml;\n",
              "          element.appendChild(docLink);\n",
              "        }\n",
              "      </script>\n",
              "    </div>\n",
              "  </div>\n",
              "  "
            ]
          },
          "metadata": {},
          "execution_count": 19
        }
      ],
      "source": [
        "floor_summary = floor_summary.astype('int')\n",
        "floor_summary"
      ]
    },
    {
      "cell_type": "markdown",
      "metadata": {
        "id": "YfP7dpPfv7nF"
      },
      "source": [
        "생각보다 층이 많아서 보기 어렵네요 😢    \n",
        "그래프로 나타내봅시다!    \n",
        "plot() 함수로 각 기술 통계를 시각화할 수 있습니다."
      ]
    },
    {
      "cell_type": "code",
      "execution_count": null,
      "metadata": {
        "colab": {
          "base_uri": "https://localhost:8080/",
          "height": 268
        },
        "id": "wyQBRgThTL5W",
        "outputId": "8e393e6a-6a39-4fda-bf41-ba0cea8d3663"
      },
      "outputs": [
        {
          "data": {
            "image/png": "[encoded data removed]",
            "text/plain": [
              "<Figure size 432x288 with 1 Axes>"
            ]
          },
          "metadata": {},
          "output_type": "display_data"
        }
      ],
      "source": [
        "plt.plot(floor_summary['floor'],floor_summary['min'])\n",
        "plt.plot(floor_summary['floor'],floor_summary['mean'])\n",
        "plt.plot(floor_summary['floor'],floor_summary['median'])\n",
        "plt.plot(floor_summary['floor'],floor_summary['max'])\n",
        "plt.legend(labels = ['min','mean','median','max'],loc = 'upper right')\n",
        "plt.show()"
      ]
    },
    {
      "cell_type": "markdown",
      "metadata": {
        "id": "mwcBWtZSwJz9"
      },
      "source": [
        "평균적으로 층이 높을수록 실거래가가 높은 경향이 나타나네요!    \n",
        "특이하게 최대값은 낮은 층에서 높은 실거래가를 보여줍니다 🤔    \n",
        "\n",
        "이제 건물의 나이를 살펴볼까요?    \n"
      ]
    },
    {
      "cell_type": "code",
      "execution_count": null,
      "metadata": {
        "colab": {
          "base_uri": "https://localhost:8080/"
        },
        "id": "BEUG8xllPF_s",
        "outputId": "c4a9bb02-2a33-4296-9341-5bf3a922e382"
      },
      "outputs": [
        {
          "data": {
            "text/plain": [
              "array([-1,  0,  1,  2,  3,  4,  5,  6,  7,  8,  9, 10, 11, 12, 13, 14, 15,\n",
              "       16, 17, 18, 19, 20, 21, 22, 23, 24, 25, 26, 27, 28, 29, 30, 31, 32,\n",
              "       33, 34, 35, 36, 37, 38, 39, 40, 41, 42, 43, 44, 45, 46, 47, 48, 49,\n",
              "       50, 51, 54, 55])"
            ]
          },
          "execution_count": 92,
          "metadata": {},
          "output_type": "execute_result"
        }
      ],
      "source": [
        "np.unique(train['life_of_apartment'])"
      ]
    },
    {
      "cell_type": "markdown",
      "metadata": {
        "id": "SdoMdnq_w2B1"
      },
      "source": [
        "건물의 나이는 완공 이전에 거래된 것으로 추정되는 -1년부터 55년까지 다양하게 분포하고 있네요!    \n",
        "건물의 나이이 대해서도 기술 통계값을 구해봅시다!"
      ]
    },
    {
      "cell_type": "code",
      "execution_count": null,
      "metadata": {
        "id": "xnlAlEgyPKUX"
      },
      "outputs": [],
      "source": [
        "life_of_apartment_summary = pd.DataFrame({'life_of_apartment':[],\n",
        "                             'count':[],\n",
        "                             'min':[],\n",
        "                             'mean':[],\n",
        "                             'median':[],\n",
        "                             'max':[],\n",
        "                             'std':[],\n",
        "                             'range':[]})\n",
        "for c in np.unique(train['life_of_apartment']):\n",
        "  tmp = train[train['life_of_apartment'] == c][['transaction_real_price']]\n",
        "  cnt = np.shape(train[train['life_of_apartment'] == c][['transaction_real_price']])[0]\n",
        "  min = int(np.min(tmp))\n",
        "  mean = int(np.mean(tmp))\n",
        "  median = int(np.median(tmp))\n",
        "  max = int(np.max(tmp))\n",
        "  std = int(np.sqrt(np.var(tmp)))\n",
        "  rg = int(max - min)\n",
        "\n",
        "  tmp_df = pd.DataFrame({'life_of_apartment':[c],\n",
        "                         'count':[cnt],\n",
        "                          'min':[min],\n",
        "                          'mean':[mean],\n",
        "                         'median':[median],\n",
        "                          'max':[max],\n",
        "                          'std':[std],\n",
        "                          'range':[rg]})\n",
        "  life_of_apartment_summary = pd.concat([life_of_apartment_summary, tmp_df])"
      ]
    },
    {
      "cell_type": "code",
      "execution_count": null,
      "metadata": {
        "colab": {
          "base_uri": "https://localhost:8080/",
          "height": 1000
        },
        "id": "YDbwGZF2PQty",
        "outputId": "e9b6e6a7-a433-47c7-bd6b-951aff0a3f03"
      },
      "outputs": [
        {
          "data": {
            "text/html": [
              "\n",
              "  <div id=\"df-355adf64-f0ab-4ac9-9f1b-9a7c8870a910\">\n",
              "    <div class=\"colab-df-container\">\n",
              "      <div>\n",
              "<style scoped>\n",
              "    .dataframe tbody tr th:only-of-type {\n",
              "        vertical-align: middle;\n",
              "    }\n",
              "\n",
              "    .dataframe tbody tr th {\n",
              "        vertical-align: top;\n",
              "    }\n",
              "\n",
              "    .dataframe thead th {\n",
              "        text-align: right;\n",
              "    }\n",
              "</style>\n",
              "<table border=\"1\" class=\"dataframe\">\n",
              "  <thead>\n",
              "    <tr style=\"text-align: right;\">\n",
              "      <th></th>\n",
              "      <th>life_of_apartment</th>\n",
              "      <th>count</th>\n",
              "      <th>min</th>\n",
              "      <th>mean</th>\n",
              "      <th>median</th>\n",
              "      <th>max</th>\n",
              "      <th>std</th>\n",
              "      <th>range</th>\n",
              "    </tr>\n",
              "  </thead>\n",
              "  <tbody>\n",
              "    <tr>\n",
              "      <th>0</th>\n",
              "      <td>-1</td>\n",
              "      <td>3</td>\n",
              "      <td>16000</td>\n",
              "      <td>17500</td>\n",
              "      <td>17500</td>\n",
              "      <td>19000</td>\n",
              "      <td>1224</td>\n",
              "      <td>3000</td>\n",
              "    </tr>\n",
              "    <tr>\n",
              "      <th>0</th>\n",
              "      <td>0</td>\n",
              "      <td>13157</td>\n",
              "      <td>630</td>\n",
              "      <td>47470</td>\n",
              "      <td>37900</td>\n",
              "      <td>565000</td>\n",
              "      <td>36222</td>\n",
              "      <td>564370</td>\n",
              "    </tr>\n",
              "    <tr>\n",
              "      <th>0</th>\n",
              "      <td>1</td>\n",
              "      <td>15906</td>\n",
              "      <td>4500</td>\n",
              "      <td>56892</td>\n",
              "      <td>45875</td>\n",
              "      <td>549913</td>\n",
              "      <td>43578</td>\n",
              "      <td>545413</td>\n",
              "    </tr>\n",
              "    <tr>\n",
              "      <th>0</th>\n",
              "      <td>2</td>\n",
              "      <td>15161</td>\n",
              "      <td>7100</td>\n",
              "      <td>59679</td>\n",
              "      <td>52000</td>\n",
              "      <td>570000</td>\n",
              "      <td>40550</td>\n",
              "      <td>562900</td>\n",
              "    </tr>\n",
              "    <tr>\n",
              "      <th>0</th>\n",
              "      <td>3</td>\n",
              "      <td>18290</td>\n",
              "      <td>500</td>\n",
              "      <td>57776</td>\n",
              "      <td>49000</td>\n",
              "      <td>656500</td>\n",
              "      <td>39429</td>\n",
              "      <td>656000</td>\n",
              "    </tr>\n",
              "    <tr>\n",
              "      <th>0</th>\n",
              "      <td>4</td>\n",
              "      <td>25254</td>\n",
              "      <td>4600</td>\n",
              "      <td>54490</td>\n",
              "      <td>45000</td>\n",
              "      <td>770000</td>\n",
              "      <td>39386</td>\n",
              "      <td>765400</td>\n",
              "    </tr>\n",
              "    <tr>\n",
              "      <th>0</th>\n",
              "      <td>5</td>\n",
              "      <td>27651</td>\n",
              "      <td>3300</td>\n",
              "      <td>55396</td>\n",
              "      <td>44700</td>\n",
              "      <td>820000</td>\n",
              "      <td>43140</td>\n",
              "      <td>816700</td>\n",
              "    </tr>\n",
              "    <tr>\n",
              "      <th>0</th>\n",
              "      <td>6</td>\n",
              "      <td>28359</td>\n",
              "      <td>3000</td>\n",
              "      <td>54928</td>\n",
              "      <td>44700</td>\n",
              "      <td>780000</td>\n",
              "      <td>42736</td>\n",
              "      <td>777000</td>\n",
              "    </tr>\n",
              "    <tr>\n",
              "      <th>0</th>\n",
              "      <td>7</td>\n",
              "      <td>28003</td>\n",
              "      <td>5500</td>\n",
              "      <td>53296</td>\n",
              "      <td>43000</td>\n",
              "      <td>520000</td>\n",
              "      <td>36078</td>\n",
              "      <td>514500</td>\n",
              "    </tr>\n",
              "    <tr>\n",
              "      <th>0</th>\n",
              "      <td>8</td>\n",
              "      <td>30711</td>\n",
              "      <td>1262</td>\n",
              "      <td>53310</td>\n",
              "      <td>43000</td>\n",
              "      <td>570000</td>\n",
              "      <td>35949</td>\n",
              "      <td>568738</td>\n",
              "    </tr>\n",
              "    <tr>\n",
              "      <th>0</th>\n",
              "      <td>9</td>\n",
              "      <td>32405</td>\n",
              "      <td>1000</td>\n",
              "      <td>50535</td>\n",
              "      <td>41500</td>\n",
              "      <td>430000</td>\n",
              "      <td>31195</td>\n",
              "      <td>429000</td>\n",
              "    </tr>\n",
              "    <tr>\n",
              "      <th>0</th>\n",
              "      <td>10</td>\n",
              "      <td>33831</td>\n",
              "      <td>1100</td>\n",
              "      <td>47502</td>\n",
              "      <td>39700</td>\n",
              "      <td>470000</td>\n",
              "      <td>29427</td>\n",
              "      <td>468900</td>\n",
              "    </tr>\n",
              "    <tr>\n",
              "      <th>0</th>\n",
              "      <td>11</td>\n",
              "      <td>34634</td>\n",
              "      <td>350</td>\n",
              "      <td>47429</td>\n",
              "      <td>39500</td>\n",
              "      <td>525000</td>\n",
              "      <td>30891</td>\n",
              "      <td>524650</td>\n",
              "    </tr>\n",
              "    <tr>\n",
              "      <th>0</th>\n",
              "      <td>12</td>\n",
              "      <td>34745</td>\n",
              "      <td>2000</td>\n",
              "      <td>45697</td>\n",
              "      <td>39500</td>\n",
              "      <td>505000</td>\n",
              "      <td>28081</td>\n",
              "      <td>503000</td>\n",
              "    </tr>\n",
              "    <tr>\n",
              "      <th>0</th>\n",
              "      <td>13</td>\n",
              "      <td>32683</td>\n",
              "      <td>2500</td>\n",
              "      <td>44840</td>\n",
              "      <td>39000</td>\n",
              "      <td>532000</td>\n",
              "      <td>27202</td>\n",
              "      <td>529500</td>\n",
              "    </tr>\n",
              "    <tr>\n",
              "      <th>0</th>\n",
              "      <td>14</td>\n",
              "      <td>29828</td>\n",
              "      <td>3200</td>\n",
              "      <td>43037</td>\n",
              "      <td>38500</td>\n",
              "      <td>492000</td>\n",
              "      <td>23737</td>\n",
              "      <td>488800</td>\n",
              "    </tr>\n",
              "    <tr>\n",
              "      <th>0</th>\n",
              "      <td>15</td>\n",
              "      <td>28567</td>\n",
              "      <td>6200</td>\n",
              "      <td>41374</td>\n",
              "      <td>37200</td>\n",
              "      <td>455000</td>\n",
              "      <td>21131</td>\n",
              "      <td>448800</td>\n",
              "    </tr>\n",
              "    <tr>\n",
              "      <th>0</th>\n",
              "      <td>16</td>\n",
              "      <td>29143</td>\n",
              "      <td>1500</td>\n",
              "      <td>40745</td>\n",
              "      <td>37000</td>\n",
              "      <td>325000</td>\n",
              "      <td>18795</td>\n",
              "      <td>323500</td>\n",
              "    </tr>\n",
              "    <tr>\n",
              "      <th>0</th>\n",
              "      <td>17</td>\n",
              "      <td>26918</td>\n",
              "      <td>5000</td>\n",
              "      <td>39930</td>\n",
              "      <td>36700</td>\n",
              "      <td>380000</td>\n",
              "      <td>18112</td>\n",
              "      <td>375000</td>\n",
              "    </tr>\n",
              "    <tr>\n",
              "      <th>0</th>\n",
              "      <td>18</td>\n",
              "      <td>23201</td>\n",
              "      <td>1000</td>\n",
              "      <td>39306</td>\n",
              "      <td>35700</td>\n",
              "      <td>498000</td>\n",
              "      <td>18496</td>\n",
              "      <td>497000</td>\n",
              "    </tr>\n",
              "    <tr>\n",
              "      <th>0</th>\n",
              "      <td>19</td>\n",
              "      <td>20062</td>\n",
              "      <td>6500</td>\n",
              "      <td>37589</td>\n",
              "      <td>33700</td>\n",
              "      <td>255000</td>\n",
              "      <td>18118</td>\n",
              "      <td>248500</td>\n",
              "    </tr>\n",
              "    <tr>\n",
              "      <th>0</th>\n",
              "      <td>20</td>\n",
              "      <td>21058</td>\n",
              "      <td>1100</td>\n",
              "      <td>37376</td>\n",
              "      <td>33000</td>\n",
              "      <td>260000</td>\n",
              "      <td>19394</td>\n",
              "      <td>258900</td>\n",
              "    </tr>\n",
              "    <tr>\n",
              "      <th>0</th>\n",
              "      <td>21</td>\n",
              "      <td>21695</td>\n",
              "      <td>4500</td>\n",
              "      <td>38714</td>\n",
              "      <td>33000</td>\n",
              "      <td>345000</td>\n",
              "      <td>22446</td>\n",
              "      <td>340500</td>\n",
              "    </tr>\n",
              "    <tr>\n",
              "      <th>0</th>\n",
              "      <td>22</td>\n",
              "      <td>19655</td>\n",
              "      <td>7000</td>\n",
              "      <td>41281</td>\n",
              "      <td>34700</td>\n",
              "      <td>290000</td>\n",
              "      <td>24814</td>\n",
              "      <td>283000</td>\n",
              "    </tr>\n",
              "    <tr>\n",
              "      <th>0</th>\n",
              "      <td>23</td>\n",
              "      <td>18367</td>\n",
              "      <td>8000</td>\n",
              "      <td>41476</td>\n",
              "      <td>34000</td>\n",
              "      <td>317500</td>\n",
              "      <td>26782</td>\n",
              "      <td>309500</td>\n",
              "    </tr>\n",
              "    <tr>\n",
              "      <th>0</th>\n",
              "      <td>24</td>\n",
              "      <td>16277</td>\n",
              "      <td>8400</td>\n",
              "      <td>41574</td>\n",
              "      <td>33500</td>\n",
              "      <td>310000</td>\n",
              "      <td>27452</td>\n",
              "      <td>301600</td>\n",
              "    </tr>\n",
              "    <tr>\n",
              "      <th>0</th>\n",
              "      <td>25</td>\n",
              "      <td>16216</td>\n",
              "      <td>4000</td>\n",
              "      <td>41564</td>\n",
              "      <td>33900</td>\n",
              "      <td>320000</td>\n",
              "      <td>27392</td>\n",
              "      <td>316000</td>\n",
              "    </tr>\n",
              "    <tr>\n",
              "      <th>0</th>\n",
              "      <td>26</td>\n",
              "      <td>15742</td>\n",
              "      <td>5000</td>\n",
              "      <td>43097</td>\n",
              "      <td>32500</td>\n",
              "      <td>295000</td>\n",
              "      <td>30644</td>\n",
              "      <td>290000</td>\n",
              "    </tr>\n",
              "    <tr>\n",
              "      <th>0</th>\n",
              "      <td>27</td>\n",
              "      <td>16633</td>\n",
              "      <td>4000</td>\n",
              "      <td>44941</td>\n",
              "      <td>33900</td>\n",
              "      <td>379948</td>\n",
              "      <td>31325</td>\n",
              "      <td>375948</td>\n",
              "    </tr>\n",
              "    <tr>\n",
              "      <th>0</th>\n",
              "      <td>28</td>\n",
              "      <td>16436</td>\n",
              "      <td>3500</td>\n",
              "      <td>48396</td>\n",
              "      <td>38500</td>\n",
              "      <td>283000</td>\n",
              "      <td>30958</td>\n",
              "      <td>279500</td>\n",
              "    </tr>\n",
              "    <tr>\n",
              "      <th>0</th>\n",
              "      <td>29</td>\n",
              "      <td>14551</td>\n",
              "      <td>6300</td>\n",
              "      <td>56180</td>\n",
              "      <td>47000</td>\n",
              "      <td>250000</td>\n",
              "      <td>33471</td>\n",
              "      <td>243700</td>\n",
              "    </tr>\n",
              "    <tr>\n",
              "      <th>0</th>\n",
              "      <td>30</td>\n",
              "      <td>10081</td>\n",
              "      <td>4500</td>\n",
              "      <td>66779</td>\n",
              "      <td>59000</td>\n",
              "      <td>380000</td>\n",
              "      <td>37485</td>\n",
              "      <td>375500</td>\n",
              "    </tr>\n",
              "    <tr>\n",
              "      <th>0</th>\n",
              "      <td>31</td>\n",
              "      <td>8440</td>\n",
              "      <td>5000</td>\n",
              "      <td>71561</td>\n",
              "      <td>62000</td>\n",
              "      <td>430000</td>\n",
              "      <td>41170</td>\n",
              "      <td>425000</td>\n",
              "    </tr>\n",
              "    <tr>\n",
              "      <th>0</th>\n",
              "      <td>32</td>\n",
              "      <td>7048</td>\n",
              "      <td>3900</td>\n",
              "      <td>72413</td>\n",
              "      <td>62000</td>\n",
              "      <td>332000</td>\n",
              "      <td>41579</td>\n",
              "      <td>328100</td>\n",
              "    </tr>\n",
              "    <tr>\n",
              "      <th>0</th>\n",
              "      <td>33</td>\n",
              "      <td>7055</td>\n",
              "      <td>2263</td>\n",
              "      <td>72842</td>\n",
              "      <td>64700</td>\n",
              "      <td>384000</td>\n",
              "      <td>41689</td>\n",
              "      <td>381737</td>\n",
              "    </tr>\n",
              "    <tr>\n",
              "      <th>0</th>\n",
              "      <td>34</td>\n",
              "      <td>5200</td>\n",
              "      <td>3362</td>\n",
              "      <td>80486</td>\n",
              "      <td>76000</td>\n",
              "      <td>338000</td>\n",
              "      <td>43510</td>\n",
              "      <td>334638</td>\n",
              "    </tr>\n",
              "    <tr>\n",
              "      <th>0</th>\n",
              "      <td>35</td>\n",
              "      <td>3952</td>\n",
              "      <td>7600</td>\n",
              "      <td>87225</td>\n",
              "      <td>86500</td>\n",
              "      <td>370000</td>\n",
              "      <td>42303</td>\n",
              "      <td>362400</td>\n",
              "    </tr>\n",
              "    <tr>\n",
              "      <th>0</th>\n",
              "      <td>36</td>\n",
              "      <td>3413</td>\n",
              "      <td>1031</td>\n",
              "      <td>92773</td>\n",
              "      <td>89000</td>\n",
              "      <td>405000</td>\n",
              "      <td>43644</td>\n",
              "      <td>403969</td>\n",
              "    </tr>\n",
              "    <tr>\n",
              "      <th>0</th>\n",
              "      <td>37</td>\n",
              "      <td>2904</td>\n",
              "      <td>3400</td>\n",
              "      <td>98852</td>\n",
              "      <td>99875</td>\n",
              "      <td>430000</td>\n",
              "      <td>48146</td>\n",
              "      <td>426600</td>\n",
              "    </tr>\n",
              "    <tr>\n",
              "      <th>0</th>\n",
              "      <td>38</td>\n",
              "      <td>2320</td>\n",
              "      <td>2000</td>\n",
              "      <td>102856</td>\n",
              "      <td>107000</td>\n",
              "      <td>358000</td>\n",
              "      <td>55816</td>\n",
              "      <td>356000</td>\n",
              "    </tr>\n",
              "    <tr>\n",
              "      <th>0</th>\n",
              "      <td>39</td>\n",
              "      <td>1845</td>\n",
              "      <td>5500</td>\n",
              "      <td>99167</td>\n",
              "      <td>93000</td>\n",
              "      <td>425000</td>\n",
              "      <td>64085</td>\n",
              "      <td>419500</td>\n",
              "    </tr>\n",
              "    <tr>\n",
              "      <th>0</th>\n",
              "      <td>40</td>\n",
              "      <td>1240</td>\n",
              "      <td>5852</td>\n",
              "      <td>74699</td>\n",
              "      <td>67375</td>\n",
              "      <td>330000</td>\n",
              "      <td>60481</td>\n",
              "      <td>324148</td>\n",
              "    </tr>\n",
              "    <tr>\n",
              "      <th>0</th>\n",
              "      <td>41</td>\n",
              "      <td>972</td>\n",
              "      <td>4300</td>\n",
              "      <td>80631</td>\n",
              "      <td>74000</td>\n",
              "      <td>381000</td>\n",
              "      <td>70195</td>\n",
              "      <td>376700</td>\n",
              "    </tr>\n",
              "    <tr>\n",
              "      <th>0</th>\n",
              "      <td>42</td>\n",
              "      <td>810</td>\n",
              "      <td>6000</td>\n",
              "      <td>74435</td>\n",
              "      <td>61000</td>\n",
              "      <td>300000</td>\n",
              "      <td>61897</td>\n",
              "      <td>294000</td>\n",
              "    </tr>\n",
              "    <tr>\n",
              "      <th>0</th>\n",
              "      <td>43</td>\n",
              "      <td>689</td>\n",
              "      <td>7100</td>\n",
              "      <td>71029</td>\n",
              "      <td>33000</td>\n",
              "      <td>355000</td>\n",
              "      <td>75420</td>\n",
              "      <td>347900</td>\n",
              "    </tr>\n",
              "    <tr>\n",
              "      <th>0</th>\n",
              "      <td>44</td>\n",
              "      <td>420</td>\n",
              "      <td>5000</td>\n",
              "      <td>56972</td>\n",
              "      <td>33000</td>\n",
              "      <td>353000</td>\n",
              "      <td>65911</td>\n",
              "      <td>348000</td>\n",
              "    </tr>\n",
              "    <tr>\n",
              "      <th>0</th>\n",
              "      <td>45</td>\n",
              "      <td>403</td>\n",
              "      <td>2000</td>\n",
              "      <td>46302</td>\n",
              "      <td>32500</td>\n",
              "      <td>245000</td>\n",
              "      <td>42974</td>\n",
              "      <td>243000</td>\n",
              "    </tr>\n",
              "    <tr>\n",
              "      <th>0</th>\n",
              "      <td>46</td>\n",
              "      <td>359</td>\n",
              "      <td>8500</td>\n",
              "      <td>64238</td>\n",
              "      <td>43872</td>\n",
              "      <td>285000</td>\n",
              "      <td>53008</td>\n",
              "      <td>276500</td>\n",
              "    </tr>\n",
              "    <tr>\n",
              "      <th>0</th>\n",
              "      <td>47</td>\n",
              "      <td>151</td>\n",
              "      <td>7000</td>\n",
              "      <td>28429</td>\n",
              "      <td>25500</td>\n",
              "      <td>69000</td>\n",
              "      <td>12964</td>\n",
              "      <td>62000</td>\n",
              "    </tr>\n",
              "    <tr>\n",
              "      <th>0</th>\n",
              "      <td>48</td>\n",
              "      <td>100</td>\n",
              "      <td>10000</td>\n",
              "      <td>22383</td>\n",
              "      <td>22250</td>\n",
              "      <td>36000</td>\n",
              "      <td>5081</td>\n",
              "      <td>26000</td>\n",
              "    </tr>\n",
              "    <tr>\n",
              "      <th>0</th>\n",
              "      <td>49</td>\n",
              "      <td>26</td>\n",
              "      <td>10750</td>\n",
              "      <td>23153</td>\n",
              "      <td>21750</td>\n",
              "      <td>34800</td>\n",
              "      <td>5461</td>\n",
              "      <td>24050</td>\n",
              "    </tr>\n",
              "    <tr>\n",
              "      <th>0</th>\n",
              "      <td>50</td>\n",
              "      <td>5</td>\n",
              "      <td>18000</td>\n",
              "      <td>26300</td>\n",
              "      <td>27000</td>\n",
              "      <td>32000</td>\n",
              "      <td>4686</td>\n",
              "      <td>14000</td>\n",
              "    </tr>\n",
              "    <tr>\n",
              "      <th>0</th>\n",
              "      <td>51</td>\n",
              "      <td>10</td>\n",
              "      <td>9000</td>\n",
              "      <td>24930</td>\n",
              "      <td>27800</td>\n",
              "      <td>30000</td>\n",
              "      <td>6724</td>\n",
              "      <td>21000</td>\n",
              "    </tr>\n",
              "    <tr>\n",
              "      <th>0</th>\n",
              "      <td>54</td>\n",
              "      <td>4</td>\n",
              "      <td>7900</td>\n",
              "      <td>12025</td>\n",
              "      <td>11350</td>\n",
              "      <td>17500</td>\n",
              "      <td>3512</td>\n",
              "      <td>9600</td>\n",
              "    </tr>\n",
              "    <tr>\n",
              "      <th>0</th>\n",
              "      <td>55</td>\n",
              "      <td>3</td>\n",
              "      <td>17000</td>\n",
              "      <td>17833</td>\n",
              "      <td>17000</td>\n",
              "      <td>19500</td>\n",
              "      <td>1178</td>\n",
              "      <td>2500</td>\n",
              "    </tr>\n",
              "  </tbody>\n",
              "</table>\n",
              "</div>\n",
              "      <button class=\"colab-df-convert\" onclick=\"convertToInteractive('df-355adf64-f0ab-4ac9-9f1b-9a7c8870a910')\"\n",
              "              title=\"Convert this dataframe to an interactive table.\"\n",
              "              style=\"display:none;\">\n",
              "        \n",
              "  <svg xmlns=\"http://www.w3.org/2000/svg\" height=\"24px\"viewBox=\"0 0 24 24\"\n",
              "       width=\"24px\">\n",
              "    <path d=\"M0 0h24v24H0V0z\" fill=\"none\"/>\n",
              "    <path d=\"M18.56 5.44l.94 2.06.94-2.06 2.06-.94-2.06-.94-.94-2.06-.94 2.06-2.06.94zm-11 1L8.5 8.5l.94-2.06 2.06-.94-2.06-.94L8.5 2.5l-.94 2.06-2.06.94zm10 10l.94 2.06.94-2.06 2.06-.94-2.06-.94-.94-2.06-.94 2.06-2.06.94z\"/><path d=\"M17.41 7.96l-1.37-1.37c-.4-.4-.92-.59-1.43-.59-.52 0-1.04.2-1.43.59L10.3 9.45l-7.72 7.72c-.78.78-.78 2.05 0 2.83L4 21.41c.39.39.9.59 1.41.59.51 0 1.02-.2 1.41-.59l7.78-7.78 2.81-2.81c.8-.78.8-2.07 0-2.86zM5.41 20L4 18.59l7.72-7.72 1.47 1.35L5.41 20z\"/>\n",
              "  </svg>\n",
              "      </button>\n",
              "      \n",
              "  <style>\n",
              "    .colab-df-container {\n",
              "      display:flex;\n",
              "      flex-wrap:wrap;\n",
              "      gap: 12px;\n",
              "    }\n",
              "\n",
              "    .colab-df-convert {\n",
              "      background-color: #E8F0FE;\n",
              "      border: none;\n",
              "      border-radius: 50%;\n",
              "      cursor: pointer;\n",
              "      display: none;\n",
              "      fill: #1967D2;\n",
              "      height: 32px;\n",
              "      padding: 0 0 0 0;\n",
              "      width: 32px;\n",
              "    }\n",
              "\n",
              "    .colab-df-convert:hover {\n",
              "      background-color: #E2EBFA;\n",
              "      box-shadow: 0px 1px 2px rgba(60, 64, 67, 0.3), 0px 1px 3px 1px rgba(60, 64, 67, 0.15);\n",
              "      fill: #174EA6;\n",
              "    }\n",
              "\n",
              "    [theme=dark] .colab-df-convert {\n",
              "      background-color: #3B4455;\n",
              "      fill: #D2E3FC;\n",
              "    }\n",
              "\n",
              "    [theme=dark] .colab-df-convert:hover {\n",
              "      background-color: #434B5C;\n",
              "      box-shadow: 0px 1px 3px 1px rgba(0, 0, 0, 0.15);\n",
              "      filter: drop-shadow(0px 1px 2px rgba(0, 0, 0, 0.3));\n",
              "      fill: #FFFFFF;\n",
              "    }\n",
              "  </style>\n",
              "\n",
              "      <script>\n",
              "        const buttonEl =\n",
              "          document.querySelector('#df-355adf64-f0ab-4ac9-9f1b-9a7c8870a910 button.colab-df-convert');\n",
              "        buttonEl.style.display =\n",
              "          google.colab.kernel.accessAllowed ? 'block' : 'none';\n",
              "\n",
              "        async function convertToInteractive(key) {\n",
              "          const element = document.querySelector('#df-355adf64-f0ab-4ac9-9f1b-9a7c8870a910');\n",
              "          const dataTable =\n",
              "            await google.colab.kernel.invokeFunction('convertToInteractive',\n",
              "                                                     [key], {});\n",
              "          if (!dataTable) return;\n",
              "\n",
              "          const docLinkHtml = 'Like what you see? Visit the ' +\n",
              "            '<a target=\"_blank\" href=https://colab.research.google.com/notebooks/data_table.ipynb>data table notebook</a>'\n",
              "            + ' to learn more about interactive tables.';\n",
              "          element.innerHTML = '';\n",
              "          dataTable['output_type'] = 'display_data';\n",
              "          await google.colab.output.renderOutput(dataTable, element);\n",
              "          const docLink = document.createElement('div');\n",
              "          docLink.innerHTML = docLinkHtml;\n",
              "          element.appendChild(docLink);\n",
              "        }\n",
              "      </script>\n",
              "    </div>\n",
              "  </div>\n",
              "  "
            ],
            "text/plain": [
              "   life_of_apartment  count    min    mean  median     max    std   range\n",
              "0                 -1      3  16000   17500   17500   19000   1224    3000\n",
              "0                  0  13157    630   47470   37900  565000  36222  564370\n",
              "0                  1  15906   4500   56892   45875  549913  43578  545413\n",
              "0                  2  15161   7100   59679   52000  570000  40550  562900\n",
              "0                  3  18290    500   57776   49000  656500  39429  656000\n",
              "0                  4  25254   4600   54490   45000  770000  39386  765400\n",
              "0                  5  27651   3300   55396   44700  820000  43140  816700\n",
              "0                  6  28359   3000   54928   44700  780000  42736  777000\n",
              "0                  7  28003   5500   53296   43000  520000  36078  514500\n",
              "0                  8  30711   1262   53310   43000  570000  35949  568738\n",
              "0                  9  32405   1000   50535   41500  430000  31195  429000\n",
              "0                 10  33831   1100   47502   39700  470000  29427  468900\n",
              "0                 11  34634    350   47429   39500  525000  30891  524650\n",
              "0                 12  34745   2000   45697   39500  505000  28081  503000\n",
              "0                 13  32683   2500   44840   39000  532000  27202  529500\n",
              "0                 14  29828   3200   43037   38500  492000  23737  488800\n",
              "0                 15  28567   6200   41374   37200  455000  21131  448800\n",
              "0                 16  29143   1500   40745   37000  325000  18795  323500\n",
              "0                 17  26918   5000   39930   36700  380000  18112  375000\n",
              "0                 18  23201   1000   39306   35700  498000  18496  497000\n",
              "0                 19  20062   6500   37589   33700  255000  18118  248500\n",
              "0                 20  21058   1100   37376   33000  260000  19394  258900\n",
              "0                 21  21695   4500   38714   33000  345000  22446  340500\n",
              "0                 22  19655   7000   41281   34700  290000  24814  283000\n",
              "0                 23  18367   8000   41476   34000  317500  26782  309500\n",
              "0                 24  16277   8400   41574   33500  310000  27452  301600\n",
              "0                 25  16216   4000   41564   33900  320000  27392  316000\n",
              "0                 26  15742   5000   43097   32500  295000  30644  290000\n",
              "0                 27  16633   4000   44941   33900  379948  31325  375948\n",
              "0                 28  16436   3500   48396   38500  283000  30958  279500\n",
              "0                 29  14551   6300   56180   47000  250000  33471  243700\n",
              "0                 30  10081   4500   66779   59000  380000  37485  375500\n",
              "0                 31   8440   5000   71561   62000  430000  41170  425000\n",
              "0                 32   7048   3900   72413   62000  332000  41579  328100\n",
              "0                 33   7055   2263   72842   64700  384000  41689  381737\n",
              "0                 34   5200   3362   80486   76000  338000  43510  334638\n",
              "0                 35   3952   7600   87225   86500  370000  42303  362400\n",
              "0                 36   3413   1031   92773   89000  405000  43644  403969\n",
              "0                 37   2904   3400   98852   99875  430000  48146  426600\n",
              "0                 38   2320   2000  102856  107000  358000  55816  356000\n",
              "0                 39   1845   5500   99167   93000  425000  64085  419500\n",
              "0                 40   1240   5852   74699   67375  330000  60481  324148\n",
              "0                 41    972   4300   80631   74000  381000  70195  376700\n",
              "0                 42    810   6000   74435   61000  300000  61897  294000\n",
              "0                 43    689   7100   71029   33000  355000  75420  347900\n",
              "0                 44    420   5000   56972   33000  353000  65911  348000\n",
              "0                 45    403   2000   46302   32500  245000  42974  243000\n",
              "0                 46    359   8500   64238   43872  285000  53008  276500\n",
              "0                 47    151   7000   28429   25500   69000  12964   62000\n",
              "0                 48    100  10000   22383   22250   36000   5081   26000\n",
              "0                 49     26  10750   23153   21750   34800   5461   24050\n",
              "0                 50      5  18000   26300   27000   32000   4686   14000\n",
              "0                 51     10   9000   24930   27800   30000   6724   21000\n",
              "0                 54      4   7900   12025   11350   17500   3512    9600\n",
              "0                 55      3  17000   17833   17000   19500   1178    2500"
            ]
          },
          "execution_count": 94,
          "metadata": {},
          "output_type": "execute_result"
        }
      ],
      "source": [
        "life_of_apartment_summary = life_of_apartment_summary.astype('int')\n",
        "life_of_apartment_summary"
      ]
    },
    {
      "cell_type": "markdown",
      "metadata": {
        "id": "GC0HHbb4w-yH"
      },
      "source": [
        "역시 한 눈에 보기는 어렵네요..   \n",
        "그래프로 시각화해서 살펴봅시다!"
      ]
    },
    {
      "cell_type": "code",
      "execution_count": null,
      "metadata": {
        "colab": {
          "base_uri": "https://localhost:8080/",
          "height": 268
        },
        "id": "SMWAtAS1PKLY",
        "outputId": "c475e464-5e95-49c0-cc9c-7ffeefe75cf7"
      },
      "outputs": [
        {
          "data": {
            "image/png": "[encoded data removed]",
            "text/plain": [
              "<Figure size 432x288 with 1 Axes>"
            ]
          },
          "metadata": {},
          "output_type": "display_data"
        }
      ],
      "source": [
        "plt.plot(life_of_apartment_summary['life_of_apartment'],life_of_apartment_summary['min'])\n",
        "plt.plot(life_of_apartment_summary['life_of_apartment'],life_of_apartment_summary['mean'])\n",
        "plt.plot(life_of_apartment_summary['life_of_apartment'],life_of_apartment_summary['median'])\n",
        "plt.plot(life_of_apartment_summary['life_of_apartment'],life_of_apartment_summary['max'])\n",
        "plt.legend(labels = ['min','mean','median','max'],loc = 'upper right')\n",
        "plt.show()"
      ]
    },
    {
      "cell_type": "markdown",
      "metadata": {
        "id": "jmSeln-2xH45"
      },
      "source": [
        "최대값이 타 기술 통계값보다 지나치게 커서 제외하고 다시 시각화하겠습니다."
      ]
    },
    {
      "cell_type": "code",
      "execution_count": null,
      "metadata": {
        "colab": {
          "base_uri": "https://localhost:8080/",
          "height": 268
        },
        "id": "YPD42EIBTL2v",
        "outputId": "d0cfea75-8698-4670-a2ea-20c690ac6149"
      },
      "outputs": [
        {
          "data": {
            "image/png": "[encoded data removed]",
            "text/plain": [
              "<Figure size 432x288 with 1 Axes>"
            ]
          },
          "metadata": {},
          "output_type": "display_data"
        }
      ],
      "source": [
        "plt.plot(life_of_apartment_summary['life_of_apartment'],life_of_apartment_summary['min'])\n",
        "plt.plot(life_of_apartment_summary['life_of_apartment'],life_of_apartment_summary['mean'])\n",
        "plt.plot(life_of_apartment_summary['life_of_apartment'],life_of_apartment_summary['median'])\n",
        "plt.legend(labels = ['min','mean','median'],loc = 'upper left')\n",
        "plt.show()"
      ]
    },
    {
      "cell_type": "markdown",
      "metadata": {
        "id": "tGSGKSmAPsIR"
      },
      "source": [
        "0 ~ 10년 사이의 신축 아파트보다도 30 ~ 40년 이상된 건물에서 높은 실거래가가 나타나네요!    \n",
        "재개발을 예상한 구매일지도 모르겠습니다. 🤔"
      ]
    },
    {
      "cell_type": "markdown",
      "metadata": {
        "id": "9giIw0-oTKvQ"
      },
      "source": [
        "### **2. 데이터 전처리(스케일링, 이상치 처리 등)**\n",
        "변수별 특징을 파악했다면, 파악한 특징을 토대로 전처리 작업을 수행해야 합니다.   "
      ]
    },
    {
      "cell_type": "markdown",
      "metadata": {
        "id": "f1MeWGgzTKvQ"
      },
      "source": [
        "#### 2-1. 결측치 처리\n",
        "결측치는 예측에 치명적인 영향을 미칠 수 있기 때문에, 의도되지 않은 경우 가급적 삭제하거나 대치되는 방식으로 처리되어야 합니다.    \n",
        "데이터에도 결측치가 있는지 확인해볼까요?    \n",
        "isna() 함수로 결측치 여부를 파악하고(True/False), sum()으로 결측치가 몇 개씩 있는지 확인할 수 있어요.  "
      ]
    },
    {
      "cell_type": "code",
      "execution_count": null,
      "metadata": {
        "colab": {
          "base_uri": "https://localhost:8080/"
        },
        "id": "4pv-n2mtTKvQ",
        "outputId": "c81c28ba-9c9b-4f6e-e2b2-44d7d087f7f4"
      },
      "outputs": [
        {
          "data": {
            "text/plain": [
              "exclusive_use_area        0\n",
              "floor                     0\n",
              "transaction_real_price    0\n",
              "인구밀도                      0\n",
              "기준금리                      0\n",
              "정당_우                      0\n",
              "정당_좌                      0\n",
              "정당_기타                     0\n",
              "jeonse                    0\n",
              "num_station               0\n",
              "num_school                0\n",
              "num_alumni                0\n",
              "park_number               0\n",
              "center_number             0\n",
              "life_of_apartment         0\n",
              "dtype: int64"
            ]
          },
          "execution_count": 97,
          "metadata": {},
          "output_type": "execute_result"
        }
      ],
      "source": [
        "train.isna().sum()"
      ]
    },
    {
      "cell_type": "markdown",
      "metadata": {
        "id": "vBOYwuIpzvVh"
      },
      "source": [
        "저희가 사용할 데이터는 다행히 결측치가 없네요!   \n",
        "결측치는 추가로 처리하지 않고 넘어가도록 하겠습니다~"
      ]
    },
    {
      "cell_type": "markdown",
      "metadata": {
        "id": "0m6hDdaiTKvR"
      },
      "source": [
        "#### 2-2. 이상치\n",
        "결측치 다음으로 주의깊게 살펴봐야하는 것은 이상치입니다.   \n",
        "이상치를 측정할 변수를 box_col로 선언할게요.\n"
      ]
    },
    {
      "cell_type": "code",
      "execution_count": 20,
      "metadata": {
        "id": "UCeNdvCdzqWy"
      },
      "outputs": [],
      "source": [
        "box_col = ['exclusive_use_area', '인구밀도', '기준금리', '정당_우', '정당_좌', '정당_기타',\n",
        "       'jeonse', 'num_station', 'num_school', 'num_alumni', 'park_number',\n",
        "       'center_number']"
      ]
    },
    {
      "cell_type": "markdown",
      "metadata": {
        "id": "DfV2T9_oCOoS"
      },
      "source": [
        "boxplot() 함수로 상자그림을 그려봅시다!"
      ]
    },
    {
      "cell_type": "code",
      "execution_count": 21,
      "metadata": {
        "colab": {
          "base_uri": "https://localhost:8080/",
          "height": 1000
        },
        "id": "KqDlLcCtpES7",
        "outputId": "f6ded8d8-7a3f-4d82-9220-c31135fd96a4"
      },
      "outputs": [
        {
          "output_type": "display_data",
          "data": {
            "text/plain": [
              "<Figure size 432x288 with 1 Axes>"
            ],
            "image/png": "[encoded data removed]"
          },
          "metadata": {
            "needs_background": "light"
          }
        },
        {
          "output_type": "display_data",
          "data": {
            "text/plain": [
              "<Figure size 432x288 with 1 Axes>"
            ],
            "image/png": "[encoded data removed]"
          },
          "metadata": {
            "needs_background": "light"
          }
        },
        {
          "output_type": "display_data",
          "data": {
            "text/plain": [
              "<Figure size 432x288 with 1 Axes>"
            ],
            "image/png": "[encoded data removed]"
          },
          "metadata": {
            "needs_background": "light"
          }
        },
        {
          "output_type": "display_data",
          "data": {
            "text/plain": [
              "<Figure size 432x288 with 1 Axes>"
            ],
            "image/png": "[encoded data removed]"
          },
          "metadata": {
            "needs_background": "light"
          }
        },
        {
          "output_type": "display_data",
          "data": {
            "text/plain": [
              "<Figure size 432x288 with 1 Axes>"
            ],
            "image/png": "[encoded data removed]"
          },
          "metadata": {
            "needs_background": "light"
          }
        },
        {
          "output_type": "display_data",
          "data": {
            "text/plain": [
              "<Figure size 432x288 with 1 Axes>"
            ],
            "image/png": "[encoded data removed]"
          },
          "metadata": {
            "needs_background": "light"
          }
        },
        {
          "output_type": "display_data",
          "data": {
            "text/plain": [
              "<Figure size 432x288 with 1 Axes>"
            ],
            "image/png": "[encoded data removed]"
          },
          "metadata": {
            "needs_background": "light"
          }
        },
        {
          "output_type": "display_data",
          "data": {
            "text/plain": [
              "<Figure size 432x288 with 1 Axes>"
            ],
            "image/png": "[encoded data removed]"
          },
          "metadata": {
            "needs_background": "light"
          }
        },
        {
          "output_type": "display_data",
          "data": {
            "text/plain": [
              "<Figure size 432x288 with 1 Axes>"
            ],
            "image/png": "[encoded data removed]"
          },
          "metadata": {
            "needs_background": "light"
          }
        },
        {
          "output_type": "display_data",
          "data": {
            "text/plain": [
              "<Figure size 432x288 with 1 Axes>"
            ],
            "image/png": "[encoded data removed]"
          },
          "metadata": {
            "needs_background": "light"
          }
        },
        {
          "output_type": "display_data",
          "data": {
            "text/plain": [
              "<Figure size 432x288 with 1 Axes>"
            ],
            "image/png": "[encoded data removed]"
          },
          "metadata": {
            "needs_background": "light"
          }
        },
        {
          "output_type": "display_data",
          "data": {
            "text/plain": [
              "<Figure size 432x288 with 1 Axes>"
            ],
            "image/png": "[encoded data removed]"
          },
          "metadata": {
            "needs_background": "light"
          }
        }
      ],
      "source": [
        "for c in box_col:\n",
        "    plt.boxplot(train[c])\n",
        "    plt.xlabel(c)\n",
        "    plt.show()"
      ]
    },
    {
      "cell_type": "markdown",
      "metadata": {
        "id": "4px2_dZKCsIP"
      },
      "source": [
        "전용면적과 인구밀도의 상자그림에서 이상치가 높게 나타나네요!    \n",
        "아파트 실거래가 변수의 상자 그림을 그려볼까요?"
      ]
    },
    {
      "cell_type": "code",
      "execution_count": 22,
      "metadata": {
        "colab": {
          "base_uri": "https://localhost:8080/",
          "height": 279
        },
        "id": "lezXIy0RQE2F",
        "outputId": "cf18f238-c443-4e7e-8b1a-dfbf06adaa79"
      },
      "outputs": [
        {
          "output_type": "display_data",
          "data": {
            "text/plain": [
              "<Figure size 432x288 with 1 Axes>"
            ],
            "image/png": "[encoded data removed]"
          },
          "metadata": {
            "needs_background": "light"
          }
        }
      ],
      "source": [
        "plt.boxplot(train['transaction_real_price'])\n",
        "plt.xlabel('transaction_real_price')\n",
        "plt.show()"
      ]
    },
    {
      "cell_type": "markdown",
      "metadata": {
        "id": "By2u8IuyDAGx"
      },
      "source": [
        "이상치가 상당히 많이 나타납니다 😯    \n",
        "이상치 처리를 위해 사분위수의 25%, 75% 값을 구하고, IQR를 구해봐야겠어요!"
      ]
    },
    {
      "cell_type": "code",
      "execution_count": 23,
      "metadata": {
        "colab": {
          "base_uri": "https://localhost:8080/"
        },
        "id": "3CjuXkf6QbxE",
        "outputId": "7a93e645-6fdc-46a1-8692-357ee35d07f7"
      },
      "outputs": [
        {
          "output_type": "stream",
          "name": "stdout",
          "text": [
            "29000.0\n",
            "58000.0\n"
          ]
        },
        {
          "output_type": "execute_result",
          "data": {
            "text/plain": [
              "29000.0"
            ]
          },
          "metadata": {},
          "execution_count": 23
        }
      ],
      "source": [
        "Q1 = train['transaction_real_price'].quantile(q=0.25)\n",
        "Q3 = train['transaction_real_price'].quantile(q=0.75)\n",
        "print(Q1)\n",
        "print(Q3)\n",
        "\n",
        "IQR = Q3-Q1\n",
        "IQR"
      ]
    },
    {
      "cell_type": "markdown",
      "metadata": {
        "id": "PncQh7HuDgpC"
      },
      "source": [
        "\n",
        "전체 데이터 개수 중 Q1-1.5 * IQR 보다 작은 데이터의 개수와 Q3+1.5 * IQR 보다 큰 데이터의 개수를 알아볼까요?\n"
      ]
    },
    {
      "cell_type": "code",
      "execution_count": 24,
      "metadata": {
        "colab": {
          "base_uri": "https://localhost:8080/"
        },
        "id": "7kVTcFqHQk3C",
        "outputId": "259d27d4-aca4-4f6d-ce47-e12f93e5ef5c"
      },
      "outputs": [
        {
          "output_type": "stream",
          "name": "stdout",
          "text": [
            "762592\n"
          ]
        }
      ],
      "source": [
        "print(len(train)) # 전체 데이터 개수"
      ]
    },
    {
      "cell_type": "code",
      "execution_count": 25,
      "metadata": {
        "colab": {
          "base_uri": "https://localhost:8080/"
        },
        "id": "aqLizB08EqFs",
        "outputId": "c7504cd6-3a01-4911-bd04-76aacedf7c77"
      },
      "outputs": [
        {
          "output_type": "execute_result",
          "data": {
            "text/plain": [
              "0"
            ]
          },
          "metadata": {},
          "execution_count": 25
        }
      ],
      "source": [
        "# Q1-1.5*IQR 보다 작은 데이터 개수\n",
        "len(train[train['transaction_real_price'] < (Q1-1.5*IQR)])"
      ]
    },
    {
      "cell_type": "code",
      "execution_count": 26,
      "metadata": {
        "colab": {
          "base_uri": "https://localhost:8080/"
        },
        "id": "DxnaE-7FEsoF",
        "outputId": "aa12e7e8-cfa4-4dc7-a512-f0c329cf34bb"
      },
      "outputs": [
        {
          "output_type": "execute_result",
          "data": {
            "text/plain": [
              "47663"
            ]
          },
          "metadata": {},
          "execution_count": 26
        }
      ],
      "source": [
        "# Q3+1.5*IQR 보다 큰 데이터의 개수\n",
        "len(train[train['transaction_real_price'] > (Q3+1.5*IQR)])"
      ]
    },
    {
      "cell_type": "markdown",
      "metadata": {
        "id": "_IKMmFgpFLJg"
      },
      "source": [
        "Q3+1.5 * IQR 보다 큰 데이터가 어떻게 구성되어 있을까요?"
      ]
    },
    {
      "cell_type": "code",
      "execution_count": 27,
      "metadata": {
        "colab": {
          "base_uri": "https://localhost:8080/",
          "height": 810
        },
        "id": "Vd2II3P0Ujn0",
        "outputId": "acedd91b-8ac6-4528-db6f-598562d291aa"
      },
      "outputs": [
        {
          "output_type": "execute_result",
          "data": {
            "text/plain": [
              "        exclusive_use_area  floor  transaction_real_price   인구밀도  기준금리  정당_우  \\\n",
              "23603              244.749      3                  820000  11209  1.25     5   \n",
              "21257              244.783      3                  790000  11209  1.50     5   \n",
              "671985             244.783      3                  780000  11179  1.25     5   \n",
              "19270              244.749      3                  770000  11337  2.00     5   \n",
              "20395              244.783      3                  770000  11337  1.50     5   \n",
              "672728             244.749      3                  760000  11179  1.50     5   \n",
              "22286              244.749      3                  760000  11209  1.25     5   \n",
              "19092              244.783      3                  750000  11337  2.00     5   \n",
              "20888              244.783      3                  750000  11337  1.50     5   \n",
              "672291             243.642      1                  727000  11179  1.25     5   \n",
              "21019              243.642      1                  719700  11337  1.50     5   \n",
              "20707              243.642      1                  690000  11337  1.50     5   \n",
              "672724             243.642      1                  670000  11179  1.50     5   \n",
              "672721             243.201      1                  670000  11179  1.50     5   \n",
              "43506              271.830     44                  660000  18218  1.25     4   \n",
              "17713              243.642      1                  656500  11428  2.50     5   \n",
              "566900             192.860     20                  650000  14770  2.50     9   \n",
              "672292             240.230      3                  650000  11179  1.25     5   \n",
              "22307              243.201      1                  650000  11209  1.25     5   \n",
              "671983             240.305      3                  630000  11179  1.25     5   \n",
              "\n",
              "        정당_좌  정당_기타     jeonse  num_station  num_school  num_alumni  \\\n",
              "23603      5      6  92.576053           10           0           0   \n",
              "21257      5      6  89.841483           10           0           0   \n",
              "671985     5      6  93.799646           10           0           0   \n",
              "19270      5      6  85.870988           10           0           0   \n",
              "20395      5      6  87.931777           10           0           0   \n",
              "672728     5      6  93.930648           10           0           0   \n",
              "22286      5      6  90.979847           10           0           0   \n",
              "19092      5      6  85.475659           10           0           0   \n",
              "20888      5      6  89.030719           10           0           0   \n",
              "672291     5      6  93.808591           10           0           0   \n",
              "21019      5      6  89.409759           10           0           0   \n",
              "20707      5      6  88.483588           10           0           0   \n",
              "672724     5      6  93.930648           10           0           0   \n",
              "672721     5      6  93.930648           10           0           0   \n",
              "43506      8      8  89.955028           14           1         426   \n",
              "17713      5      6  81.742215           10           0           0   \n",
              "566900    10     11  77.112232           17           3        1406   \n",
              "672292     5      6  93.808591           10           0           0   \n",
              "22307      5      6  90.979847           10           0           0   \n",
              "671983     5      6  93.799646           10           0           0   \n",
              "\n",
              "        park_number  center_number  life_of_apartment  \n",
              "23603            32             36                  5  \n",
              "21257            32             36                  5  \n",
              "671985           32             36                  6  \n",
              "19270            32             36                  4  \n",
              "20395            32             36                  4  \n",
              "672728           32             36                  6  \n",
              "22286            32             36                  5  \n",
              "19092            32             36                  4  \n",
              "20888            32             36                  4  \n",
              "672291           32             36                  6  \n",
              "21019            32             36                  4  \n",
              "20707            32             36                  4  \n",
              "672724           32             36                  6  \n",
              "672721           32             36                  6  \n",
              "43506            23            184                  5  \n",
              "17713            32             36                  3  \n",
              "566900          132            223                  4  \n",
              "672292           32             36                  6  \n",
              "22307            32             36                  5  \n",
              "671983           32             36                  6  "
            ],
            "text/html": [
              "\n",
              "  <div id=\"df-9fd3e8be-111e-4c6d-b4ab-e7240fa52896\">\n",
              "    <div class=\"colab-df-container\">\n",
              "      <div>\n",
              "<style scoped>\n",
              "    .dataframe tbody tr th:only-of-type {\n",
              "        vertical-align: middle;\n",
              "    }\n",
              "\n",
              "    .dataframe tbody tr th {\n",
              "        vertical-align: top;\n",
              "    }\n",
              "\n",
              "    .dataframe thead th {\n",
              "        text-align: right;\n",
              "    }\n",
              "</style>\n",
              "<table border=\"1\" class=\"dataframe\">\n",
              "  <thead>\n",
              "    <tr style=\"text-align: right;\">\n",
              "      <th></th>\n",
              "      <th>exclusive_use_area</th>\n",
              "      <th>floor</th>\n",
              "      <th>transaction_real_price</th>\n",
              "      <th>인구밀도</th>\n",
              "      <th>기준금리</th>\n",
              "      <th>정당_우</th>\n",
              "      <th>정당_좌</th>\n",
              "      <th>정당_기타</th>\n",
              "      <th>jeonse</th>\n",
              "      <th>num_station</th>\n",
              "      <th>num_school</th>\n",
              "      <th>num_alumni</th>\n",
              "      <th>park_number</th>\n",
              "      <th>center_number</th>\n",
              "      <th>life_of_apartment</th>\n",
              "    </tr>\n",
              "  </thead>\n",
              "  <tbody>\n",
              "    <tr>\n",
              "      <th>23603</th>\n",
              "      <td>244.749</td>\n",
              "      <td>3</td>\n",
              "      <td>820000</td>\n",
              "      <td>11209</td>\n",
              "      <td>1.25</td>\n",
              "      <td>5</td>\n",
              "      <td>5</td>\n",
              "      <td>6</td>\n",
              "      <td>92.576053</td>\n",
              "      <td>10</td>\n",
              "      <td>0</td>\n",
              "      <td>0</td>\n",
              "      <td>32</td>\n",
              "      <td>36</td>\n",
              "      <td>5</td>\n",
              "    </tr>\n",
              "    <tr>\n",
              "      <th>21257</th>\n",
              "      <td>244.783</td>\n",
              "      <td>3</td>\n",
              "      <td>790000</td>\n",
              "      <td>11209</td>\n",
              "      <td>1.50</td>\n",
              "      <td>5</td>\n",
              "      <td>5</td>\n",
              "      <td>6</td>\n",
              "      <td>89.841483</td>\n",
              "      <td>10</td>\n",
              "      <td>0</td>\n",
              "      <td>0</td>\n",
              "      <td>32</td>\n",
              "      <td>36</td>\n",
              "      <td>5</td>\n",
              "    </tr>\n",
              "    <tr>\n",
              "      <th>671985</th>\n",
              "      <td>244.783</td>\n",
              "      <td>3</td>\n",
              "      <td>780000</td>\n",
              "      <td>11179</td>\n",
              "      <td>1.25</td>\n",
              "      <td>5</td>\n",
              "      <td>5</td>\n",
              "      <td>6</td>\n",
              "      <td>93.799646</td>\n",
              "      <td>10</td>\n",
              "      <td>0</td>\n",
              "      <td>0</td>\n",
              "      <td>32</td>\n",
              "      <td>36</td>\n",
              "      <td>6</td>\n",
              "    </tr>\n",
              "    <tr>\n",
              "      <th>19270</th>\n",
              "      <td>244.749</td>\n",
              "      <td>3</td>\n",
              "      <td>770000</td>\n",
              "      <td>11337</td>\n",
              "      <td>2.00</td>\n",
              "      <td>5</td>\n",
              "      <td>5</td>\n",
              "      <td>6</td>\n",
              "      <td>85.870988</td>\n",
              "      <td>10</td>\n",
              "      <td>0</td>\n",
              "      <td>0</td>\n",
              "      <td>32</td>\n",
              "      <td>36</td>\n",
              "      <td>4</td>\n",
              "    </tr>\n",
              "    <tr>\n",
              "      <th>20395</th>\n",
              "      <td>244.783</td>\n",
              "      <td>3</td>\n",
              "      <td>770000</td>\n",
              "      <td>11337</td>\n",
              "      <td>1.50</td>\n",
              "      <td>5</td>\n",
              "      <td>5</td>\n",
              "      <td>6</td>\n",
              "      <td>87.931777</td>\n",
              "      <td>10</td>\n",
              "      <td>0</td>\n",
              "      <td>0</td>\n",
              "      <td>32</td>\n",
              "      <td>36</td>\n",
              "      <td>4</td>\n",
              "    </tr>\n",
              "    <tr>\n",
              "      <th>672728</th>\n",
              "      <td>244.749</td>\n",
              "      <td>3</td>\n",
              "      <td>760000</td>\n",
              "      <td>11179</td>\n",
              "      <td>1.50</td>\n",
              "      <td>5</td>\n",
              "      <td>5</td>\n",
              "      <td>6</td>\n",
              "      <td>93.930648</td>\n",
              "      <td>10</td>\n",
              "      <td>0</td>\n",
              "      <td>0</td>\n",
              "      <td>32</td>\n",
              "      <td>36</td>\n",
              "      <td>6</td>\n",
              "    </tr>\n",
              "    <tr>\n",
              "      <th>22286</th>\n",
              "      <td>244.749</td>\n",
              "      <td>3</td>\n",
              "      <td>760000</td>\n",
              "      <td>11209</td>\n",
              "      <td>1.25</td>\n",
              "      <td>5</td>\n",
              "      <td>5</td>\n",
              "      <td>6</td>\n",
              "      <td>90.979847</td>\n",
              "      <td>10</td>\n",
              "      <td>0</td>\n",
              "      <td>0</td>\n",
              "      <td>32</td>\n",
              "      <td>36</td>\n",
              "      <td>5</td>\n",
              "    </tr>\n",
              "    <tr>\n",
              "      <th>19092</th>\n",
              "      <td>244.783</td>\n",
              "      <td>3</td>\n",
              "      <td>750000</td>\n",
              "      <td>11337</td>\n",
              "      <td>2.00</td>\n",
              "      <td>5</td>\n",
              "      <td>5</td>\n",
              "      <td>6</td>\n",
              "      <td>85.475659</td>\n",
              "      <td>10</td>\n",
              "      <td>0</td>\n",
              "      <td>0</td>\n",
              "      <td>32</td>\n",
              "      <td>36</td>\n",
              "      <td>4</td>\n",
              "    </tr>\n",
              "    <tr>\n",
              "      <th>20888</th>\n",
              "      <td>244.783</td>\n",
              "      <td>3</td>\n",
              "      <td>750000</td>\n",
              "      <td>11337</td>\n",
              "      <td>1.50</td>\n",
              "      <td>5</td>\n",
              "      <td>5</td>\n",
              "      <td>6</td>\n",
              "      <td>89.030719</td>\n",
              "      <td>10</td>\n",
              "      <td>0</td>\n",
              "      <td>0</td>\n",
              "      <td>32</td>\n",
              "      <td>36</td>\n",
              "      <td>4</td>\n",
              "    </tr>\n",
              "    <tr>\n",
              "      <th>672291</th>\n",
              "      <td>243.642</td>\n",
              "      <td>1</td>\n",
              "      <td>727000</td>\n",
              "      <td>11179</td>\n",
              "      <td>1.25</td>\n",
              "      <td>5</td>\n",
              "      <td>5</td>\n",
              "      <td>6</td>\n",
              "      <td>93.808591</td>\n",
              "      <td>10</td>\n",
              "      <td>0</td>\n",
              "      <td>0</td>\n",
              "      <td>32</td>\n",
              "      <td>36</td>\n",
              "      <td>6</td>\n",
              "    </tr>\n",
              "    <tr>\n",
              "      <th>21019</th>\n",
              "      <td>243.642</td>\n",
              "      <td>1</td>\n",
              "      <td>719700</td>\n",
              "      <td>11337</td>\n",
              "      <td>1.50</td>\n",
              "      <td>5</td>\n",
              "      <td>5</td>\n",
              "      <td>6</td>\n",
              "      <td>89.409759</td>\n",
              "      <td>10</td>\n",
              "      <td>0</td>\n",
              "      <td>0</td>\n",
              "      <td>32</td>\n",
              "      <td>36</td>\n",
              "      <td>4</td>\n",
              "    </tr>\n",
              "    <tr>\n",
              "      <th>20707</th>\n",
              "      <td>243.642</td>\n",
              "      <td>1</td>\n",
              "      <td>690000</td>\n",
              "      <td>11337</td>\n",
              "      <td>1.50</td>\n",
              "      <td>5</td>\n",
              "      <td>5</td>\n",
              "      <td>6</td>\n",
              "      <td>88.483588</td>\n",
              "      <td>10</td>\n",
              "      <td>0</td>\n",
              "      <td>0</td>\n",
              "      <td>32</td>\n",
              "      <td>36</td>\n",
              "      <td>4</td>\n",
              "    </tr>\n",
              "    <tr>\n",
              "      <th>672724</th>\n",
              "      <td>243.642</td>\n",
              "      <td>1</td>\n",
              "      <td>670000</td>\n",
              "      <td>11179</td>\n",
              "      <td>1.50</td>\n",
              "      <td>5</td>\n",
              "      <td>5</td>\n",
              "      <td>6</td>\n",
              "      <td>93.930648</td>\n",
              "      <td>10</td>\n",
              "      <td>0</td>\n",
              "      <td>0</td>\n",
              "      <td>32</td>\n",
              "      <td>36</td>\n",
              "      <td>6</td>\n",
              "    </tr>\n",
              "    <tr>\n",
              "      <th>672721</th>\n",
              "      <td>243.201</td>\n",
              "      <td>1</td>\n",
              "      <td>670000</td>\n",
              "      <td>11179</td>\n",
              "      <td>1.50</td>\n",
              "      <td>5</td>\n",
              "      <td>5</td>\n",
              "      <td>6</td>\n",
              "      <td>93.930648</td>\n",
              "      <td>10</td>\n",
              "      <td>0</td>\n",
              "      <td>0</td>\n",
              "      <td>32</td>\n",
              "      <td>36</td>\n",
              "      <td>6</td>\n",
              "    </tr>\n",
              "    <tr>\n",
              "      <th>43506</th>\n",
              "      <td>271.830</td>\n",
              "      <td>44</td>\n",
              "      <td>660000</td>\n",
              "      <td>18218</td>\n",
              "      <td>1.25</td>\n",
              "      <td>4</td>\n",
              "      <td>8</td>\n",
              "      <td>8</td>\n",
              "      <td>89.955028</td>\n",
              "      <td>14</td>\n",
              "      <td>1</td>\n",
              "      <td>426</td>\n",
              "      <td>23</td>\n",
              "      <td>184</td>\n",
              "      <td>5</td>\n",
              "    </tr>\n",
              "    <tr>\n",
              "      <th>17713</th>\n",
              "      <td>243.642</td>\n",
              "      <td>1</td>\n",
              "      <td>656500</td>\n",
              "      <td>11428</td>\n",
              "      <td>2.50</td>\n",
              "      <td>5</td>\n",
              "      <td>5</td>\n",
              "      <td>6</td>\n",
              "      <td>81.742215</td>\n",
              "      <td>10</td>\n",
              "      <td>0</td>\n",
              "      <td>0</td>\n",
              "      <td>32</td>\n",
              "      <td>36</td>\n",
              "      <td>3</td>\n",
              "    </tr>\n",
              "    <tr>\n",
              "      <th>566900</th>\n",
              "      <td>192.860</td>\n",
              "      <td>20</td>\n",
              "      <td>650000</td>\n",
              "      <td>14770</td>\n",
              "      <td>2.50</td>\n",
              "      <td>9</td>\n",
              "      <td>10</td>\n",
              "      <td>11</td>\n",
              "      <td>77.112232</td>\n",
              "      <td>17</td>\n",
              "      <td>3</td>\n",
              "      <td>1406</td>\n",
              "      <td>132</td>\n",
              "      <td>223</td>\n",
              "      <td>4</td>\n",
              "    </tr>\n",
              "    <tr>\n",
              "      <th>672292</th>\n",
              "      <td>240.230</td>\n",
              "      <td>3</td>\n",
              "      <td>650000</td>\n",
              "      <td>11179</td>\n",
              "      <td>1.25</td>\n",
              "      <td>5</td>\n",
              "      <td>5</td>\n",
              "      <td>6</td>\n",
              "      <td>93.808591</td>\n",
              "      <td>10</td>\n",
              "      <td>0</td>\n",
              "      <td>0</td>\n",
              "      <td>32</td>\n",
              "      <td>36</td>\n",
              "      <td>6</td>\n",
              "    </tr>\n",
              "    <tr>\n",
              "      <th>22307</th>\n",
              "      <td>243.201</td>\n",
              "      <td>1</td>\n",
              "      <td>650000</td>\n",
              "      <td>11209</td>\n",
              "      <td>1.25</td>\n",
              "      <td>5</td>\n",
              "      <td>5</td>\n",
              "      <td>6</td>\n",
              "      <td>90.979847</td>\n",
              "      <td>10</td>\n",
              "      <td>0</td>\n",
              "      <td>0</td>\n",
              "      <td>32</td>\n",
              "      <td>36</td>\n",
              "      <td>5</td>\n",
              "    </tr>\n",
              "    <tr>\n",
              "      <th>671983</th>\n",
              "      <td>240.305</td>\n",
              "      <td>3</td>\n",
              "      <td>630000</td>\n",
              "      <td>11179</td>\n",
              "      <td>1.25</td>\n",
              "      <td>5</td>\n",
              "      <td>5</td>\n",
              "      <td>6</td>\n",
              "      <td>93.799646</td>\n",
              "      <td>10</td>\n",
              "      <td>0</td>\n",
              "      <td>0</td>\n",
              "      <td>32</td>\n",
              "      <td>36</td>\n",
              "      <td>6</td>\n",
              "    </tr>\n",
              "  </tbody>\n",
              "</table>\n",
              "</div>\n",
              "      <button class=\"colab-df-convert\" onclick=\"convertToInteractive('df-9fd3e8be-111e-4c6d-b4ab-e7240fa52896')\"\n",
              "              title=\"Convert this dataframe to an interactive table.\"\n",
              "              style=\"display:none;\">\n",
              "        \n",
              "  <svg xmlns=\"http://www.w3.org/2000/svg\" height=\"24px\"viewBox=\"0 0 24 24\"\n",
              "       width=\"24px\">\n",
              "    <path d=\"M0 0h24v24H0V0z\" fill=\"none\"/>\n",
              "    <path d=\"M18.56 5.44l.94 2.06.94-2.06 2.06-.94-2.06-.94-.94-2.06-.94 2.06-2.06.94zm-11 1L8.5 8.5l.94-2.06 2.06-.94-2.06-.94L8.5 2.5l-.94 2.06-2.06.94zm10 10l.94 2.06.94-2.06 2.06-.94-2.06-.94-.94-2.06-.94 2.06-2.06.94z\"/><path d=\"M17.41 7.96l-1.37-1.37c-.4-.4-.92-.59-1.43-.59-.52 0-1.04.2-1.43.59L10.3 9.45l-7.72 7.72c-.78.78-.78 2.05 0 2.83L4 21.41c.39.39.9.59 1.41.59.51 0 1.02-.2 1.41-.59l7.78-7.78 2.81-2.81c.8-.78.8-2.07 0-2.86zM5.41 20L4 18.59l7.72-7.72 1.47 1.35L5.41 20z\"/>\n",
              "  </svg>\n",
              "      </button>\n",
              "      \n",
              "  <style>\n",
              "    .colab-df-container {\n",
              "      display:flex;\n",
              "      flex-wrap:wrap;\n",
              "      gap: 12px;\n",
              "    }\n",
              "\n",
              "    .colab-df-convert {\n",
              "      background-color: #E8F0FE;\n",
              "      border: none;\n",
              "      border-radius: 50%;\n",
              "      cursor: pointer;\n",
              "      display: none;\n",
              "      fill: #1967D2;\n",
              "      height: 32px;\n",
              "      padding: 0 0 0 0;\n",
              "      width: 32px;\n",
              "    }\n",
              "\n",
              "    .colab-df-convert:hover {\n",
              "      background-color: #E2EBFA;\n",
              "      box-shadow: 0px 1px 2px rgba(60, 64, 67, 0.3), 0px 1px 3px 1px rgba(60, 64, 67, 0.15);\n",
              "      fill: #174EA6;\n",
              "    }\n",
              "\n",
              "    [theme=dark] .colab-df-convert {\n",
              "      background-color: #3B4455;\n",
              "      fill: #D2E3FC;\n",
              "    }\n",
              "\n",
              "    [theme=dark] .colab-df-convert:hover {\n",
              "      background-color: #434B5C;\n",
              "      box-shadow: 0px 1px 3px 1px rgba(0, 0, 0, 0.15);\n",
              "      filter: drop-shadow(0px 1px 2px rgba(0, 0, 0, 0.3));\n",
              "      fill: #FFFFFF;\n",
              "    }\n",
              "  </style>\n",
              "\n",
              "      <script>\n",
              "        const buttonEl =\n",
              "          document.querySelector('#df-9fd3e8be-111e-4c6d-b4ab-e7240fa52896 button.colab-df-convert');\n",
              "        buttonEl.style.display =\n",
              "          google.colab.kernel.accessAllowed ? 'block' : 'none';\n",
              "\n",
              "        async function convertToInteractive(key) {\n",
              "          const element = document.querySelector('#df-9fd3e8be-111e-4c6d-b4ab-e7240fa52896');\n",
              "          const dataTable =\n",
              "            await google.colab.kernel.invokeFunction('convertToInteractive',\n",
              "                                                     [key], {});\n",
              "          if (!dataTable) return;\n",
              "\n",
              "          const docLinkHtml = 'Like what you see? Visit the ' +\n",
              "            '<a target=\"_blank\" href=https://colab.research.google.com/notebooks/data_table.ipynb>data table notebook</a>'\n",
              "            + ' to learn more about interactive tables.';\n",
              "          element.innerHTML = '';\n",
              "          dataTable['output_type'] = 'display_data';\n",
              "          await google.colab.output.renderOutput(dataTable, element);\n",
              "          const docLink = document.createElement('div');\n",
              "          docLink.innerHTML = docLinkHtml;\n",
              "          element.appendChild(docLink);\n",
              "        }\n",
              "      </script>\n",
              "    </div>\n",
              "  </div>\n",
              "  "
            ]
          },
          "metadata": {},
          "execution_count": 27
        }
      ],
      "source": [
        "train[train['transaction_real_price'] > (Q3+1.5*IQR)].sort_values(by=['transaction_real_price'], ascending=False)[:20]"
      ]
    },
    {
      "cell_type": "markdown",
      "metadata": {
        "id": "nyb3rhnGFPzt"
      },
      "source": [
        "확인해보니, 동일한 지역에서 거래된 높은 실거래가를 가진 아파트로 보입니다..!   \n",
        "해당 데이터를 임의로 삭제하거나 대치하는 것은 좋지 않을 것 같아요 😢    \n",
        "\n",
        "이상치를 삭제하거나 대치하고 싶으신 경우, 아래 주석 처리된 코드를 활용해주세요!"
      ]
    },
    {
      "cell_type": "code",
      "execution_count": null,
      "metadata": {
        "id": "UCDGnaqzQwUq"
      },
      "outputs": [],
      "source": [
        "# 이상치를 삭제한다면, \n",
        "# train = train[(train['transaction_real_price'] >= (Q1-1.5*IQR)) & (train['transaction_real_price'] <= (Q3+1.5*IQR))] \n",
        "\n",
        "# 이상치를 대치한다면, \n",
        "# train[train['transaction_real_price'] > (Q3+1.5*IQR)] = Q3+1.5*IQR"
      ]
    },
    {
      "cell_type": "markdown",
      "metadata": {
        "id": "FnJXzEg-TKvR"
      },
      "source": [
        "#### 2-3. 스케일링\n",
        "머신러닝 데이터를 학습할 때, 특성별로 데이터의 스케일이 다르다면 모델이 잘 동작하지 않을 수 있습니다.    \n",
        "데이터 스케일링으로 데이터의 스케일을 적용해봅시다!    \n",
        "바로 학습에 사용할 수 있도록 훈련 데이터와 test 데이터셋으로 분리하고 시작하죠!"
      ]
    },
    {
      "cell_type": "code",
      "execution_count": null,
      "metadata": {
        "id": "BvzqOVPjIF9H"
      },
      "outputs": [],
      "source": [
        "from sklearn.model_selection import train_test_split"
      ]
    },
    {
      "cell_type": "code",
      "execution_count": null,
      "metadata": {
        "id": "41Ilip42od-E"
      },
      "outputs": [],
      "source": [
        "train_X, test_X, train_Y, test_Y = train_test_split( train.drop('transaction_real_price', axis=1), train['transaction_real_price'], test_size=0.2, random_state=42)"
      ]
    },
    {
      "cell_type": "markdown",
      "metadata": {
        "id": "NNh5upUCGZRR"
      },
      "source": [
        "스케일링에 사용할 sklearn의 RobustScaler 라이브러리를 임포트해줍시다. "
      ]
    },
    {
      "cell_type": "code",
      "execution_count": null,
      "metadata": {
        "id": "Ux4iBZDmGVw1"
      },
      "outputs": [],
      "source": [
        "from sklearn.preprocessing import RobustScaler"
      ]
    },
    {
      "cell_type": "markdown",
      "metadata": {
        "id": "z4JSEml6HBim"
      },
      "source": [
        "\n",
        "Robust Scaler는 평균과 분산 대신에 중간 값과 사분위 값을 사용하여 스케일링을 진행하기 때문에 이상치에 비교적 덜 민감합니다.    \n",
        "이전에 이상치가 많았던 컬럼인 전용면적(exclusive_use_area)과 인구밀도에 Robust Scaler()를 적용해볼까요?  \n",
        "train 데이터에는 fit()과 transform()을 모두 수행하지만, test 데이터는 transform()만 수행해야해요!    \n",
        "##### **Inst.**\n",
        "1. RobustScaler() 객체 rbs를 생성합니다.\n",
        "2. **train_X 데이터셋**에서 'exclusive_use_area'와 '인구밀도' 열(column)을 선택하여, rbs 객체를 사용하여 **스케일링 학습**을 수행합니다.\n",
        "3. **train_X 데이터셋**에서 'exclusive_use_area'와 '인구밀도' 열(column)을 선택하여, rbs 객체를 사용하여 **스케일링**을 수행합니다.\n",
        "4. **test_X 데이터셋**에서 'exclusive_use_area'와 '인구밀도' 열(column)을 선택하여, rbs 객체를 사용하여 **스케일링**을 수행합니다."
      ]
    },
    {
      "cell_type": "markdown",
      "source": [
        "##### **Hint.**\n",
        "RobustScaler()는 이상치(outliers)가 있는 데이터셋을 스케일링할 때 사용하는 Scikit-learn 라이브러리의 함수입니다.     \n",
        "RobustScaler는 중앙값(median)과 IQR(interquartile range)를 사용하여 데이터를 스케일링하며, 아웃라이어(outlier)의 영향을 최소화합니다.\n",
        "\n",
        "fit()은 주어진 데이터셋에 대해 RobustScaler()를 학습시키기 위한 메소드입니다.    fit() 메소드를 호출하여 학습된 RobustScaler() 객체를 반환하며, 이 객체는 이후에 transform() 메소드를 사용하여 스케일링할 데이터셋에 적용됩니다.\n",
        "\n",
        "fit() 메소드의 입력 파라미터는 다음과 같아요.\n",
        "\n",
        "- X (array-like): 스케일링할 데이터셋. 2차원 배열 형태로 입력해야 합니다."
      ],
      "metadata": {
        "id": "N1eohwCJKE53"
      }
    },
    {
      "cell_type": "markdown",
      "source": [
        "\n",
        "##### **Solution.**\n",
        "test_X 데이터셋에서 'exclusive_use_area'와 '인구밀도' 컬럼을 선택하여, rbs 객체를 사용하여 스케일링을 수행해봅시다!"
      ],
      "metadata": {
        "id": "27twiZKdKqwx"
      }
    },
    {
      "cell_type": "code",
      "execution_count": null,
      "metadata": {
        "id": "I-uDUOtMTKvR"
      },
      "outputs": [],
      "source": [
        "rbs = RobustScaler()\n",
        "rbs.fit(train_X[['exclusive_use_area', '인구밀도']])\n",
        "\n",
        "train_X[['exclusive_use_area', '인구밀도']] = rbs.transform(train_X[['exclusive_use_area', '인구밀도']])\n",
        "test_X[['exclusive_use_area', '인구밀도']] = rbs.transform(test_X[['exclusive_use_area', '인구밀도']])"
      ]
    },
    {
      "cell_type": "markdown",
      "metadata": {
        "id": "0C4TGwVzIT4q"
      },
      "source": [
        "남은 컬럼 중 연속형 컬럼에 대해 MinMaxScaler()로 스케일링을 수행해볼까요?    \n",
        "sklearn의 MinMaxScaler도 임포트해주세요~"
      ]
    },
    {
      "cell_type": "code",
      "execution_count": null,
      "metadata": {
        "id": "PSOizz-2HC3P"
      },
      "outputs": [],
      "source": [
        "from sklearn.preprocessing import MinMaxScaler"
      ]
    },
    {
      "cell_type": "markdown",
      "metadata": {
        "id": "MR5oMX4CJL6v"
      },
      "source": [
        "MinMax Scaler를 적용할 컬럼을 mms_col로 선언합니다."
      ]
    },
    {
      "cell_type": "code",
      "execution_count": null,
      "metadata": {
        "colab": {
          "base_uri": "https://localhost:8080/"
        },
        "id": "rklR0Tn_s722",
        "outputId": "f21c2c08-41ae-43d2-ff05-3a061617e171"
      },
      "outputs": [
        {
          "data": {
            "text/plain": [
              "Index(['exclusive_use_area', '인구밀도', '기준금리', '정당_우', '정당_좌', '정당_기타', 'jeonse',\n",
              "       'num_station', 'num_school', 'num_alumni', 'park_number',\n",
              "       'center_number'],\n",
              "      dtype='object')"
            ]
          },
          "execution_count": 112,
          "metadata": {},
          "output_type": "execute_result"
        }
      ],
      "source": [
        "mms_col = train.columns\n",
        "mms_col = mms_col.drop(['transaction_real_price', 'life_of_apartment', 'floor'])\n",
        "mms_col"
      ]
    },
    {
      "cell_type": "markdown",
      "metadata": {
        "id": "aleoG6JXJTtL"
      },
      "source": [
        "train 데이터와 test 데이터에 대해 MinMaxScaler()로 스케일링을 적용해줍시다!"
      ]
    },
    {
      "cell_type": "code",
      "execution_count": null,
      "metadata": {
        "id": "nSyW2SCWsPI_"
      },
      "outputs": [],
      "source": [
        "mms = MinMaxScaler()\n",
        "mms.fit(train_X[mms_col])\n",
        "train_X[mms_col] = mms.transform(train_X[mms_col])\n",
        "test_X[mms_col] = mms.transform(test_X[mms_col])"
      ]
    },
    {
      "cell_type": "markdown",
      "metadata": {
        "id": "eNb9CSWBJjhI"
      },
      "source": [
        "이제 스케일링이 적용된 데이터를 확인해볼까요?"
      ]
    },
    {
      "cell_type": "code",
      "execution_count": null,
      "metadata": {
        "colab": {
          "base_uri": "https://localhost:8080/",
          "height": 322
        },
        "id": "xkwsyvPgtmiO",
        "outputId": "8a5e3590-4a1c-495c-c95e-b2c90c7784f2"
      },
      "outputs": [
        {
          "data": {
            "text/html": [
              "\n",
              "  <div id=\"df-c982165c-23f5-494b-afbc-56b78a07c102\">\n",
              "    <div class=\"colab-df-container\">\n",
              "      <div>\n",
              "<style scoped>\n",
              "    .dataframe tbody tr th:only-of-type {\n",
              "        vertical-align: middle;\n",
              "    }\n",
              "\n",
              "    .dataframe tbody tr th {\n",
              "        vertical-align: top;\n",
              "    }\n",
              "\n",
              "    .dataframe thead th {\n",
              "        text-align: right;\n",
              "    }\n",
              "</style>\n",
              "<table border=\"1\" class=\"dataframe\">\n",
              "  <thead>\n",
              "    <tr style=\"text-align: right;\">\n",
              "      <th></th>\n",
              "      <th>exclusive_use_area</th>\n",
              "      <th>floor</th>\n",
              "      <th>인구밀도</th>\n",
              "      <th>기준금리</th>\n",
              "      <th>정당_우</th>\n",
              "      <th>정당_좌</th>\n",
              "      <th>정당_기타</th>\n",
              "      <th>jeonse</th>\n",
              "      <th>num_station</th>\n",
              "      <th>num_school</th>\n",
              "      <th>num_alumni</th>\n",
              "      <th>park_number</th>\n",
              "      <th>center_number</th>\n",
              "      <th>life_of_apartment</th>\n",
              "    </tr>\n",
              "  </thead>\n",
              "  <tbody>\n",
              "    <tr>\n",
              "      <th>676610</th>\n",
              "      <td>0.176165</td>\n",
              "      <td>6</td>\n",
              "      <td>0.525611</td>\n",
              "      <td>0.0625</td>\n",
              "      <td>0.333333</td>\n",
              "      <td>0.4</td>\n",
              "      <td>0.285714</td>\n",
              "      <td>0.891658</td>\n",
              "      <td>0.590909</td>\n",
              "      <td>0.333333</td>\n",
              "      <td>0.234899</td>\n",
              "      <td>0.097778</td>\n",
              "      <td>0.176611</td>\n",
              "      <td>10</td>\n",
              "    </tr>\n",
              "    <tr>\n",
              "      <th>307054</th>\n",
              "      <td>0.116315</td>\n",
              "      <td>5</td>\n",
              "      <td>0.432848</td>\n",
              "      <td>0.9375</td>\n",
              "      <td>0.777778</td>\n",
              "      <td>0.4</td>\n",
              "      <td>0.285714</td>\n",
              "      <td>0.136590</td>\n",
              "      <td>0.681818</td>\n",
              "      <td>0.333333</td>\n",
              "      <td>0.159955</td>\n",
              "      <td>0.853333</td>\n",
              "      <td>0.058473</td>\n",
              "      <td>7</td>\n",
              "    </tr>\n",
              "    <tr>\n",
              "      <th>524741</th>\n",
              "      <td>0.116363</td>\n",
              "      <td>3</td>\n",
              "      <td>0.121810</td>\n",
              "      <td>0.3750</td>\n",
              "      <td>0.555556</td>\n",
              "      <td>0.2</td>\n",
              "      <td>0.214286</td>\n",
              "      <td>0.558290</td>\n",
              "      <td>0.500000</td>\n",
              "      <td>0.666667</td>\n",
              "      <td>0.500559</td>\n",
              "      <td>0.471111</td>\n",
              "      <td>0.200477</td>\n",
              "      <td>14</td>\n",
              "    </tr>\n",
              "    <tr>\n",
              "      <th>489497</th>\n",
              "      <td>0.115490</td>\n",
              "      <td>11</td>\n",
              "      <td>0.530653</td>\n",
              "      <td>0.9375</td>\n",
              "      <td>0.000000</td>\n",
              "      <td>0.9</td>\n",
              "      <td>1.000000</td>\n",
              "      <td>0.131122</td>\n",
              "      <td>0.090909</td>\n",
              "      <td>0.333333</td>\n",
              "      <td>0.196868</td>\n",
              "      <td>0.088889</td>\n",
              "      <td>0.280430</td>\n",
              "      <td>4</td>\n",
              "    </tr>\n",
              "    <tr>\n",
              "      <th>248621</th>\n",
              "      <td>0.114690</td>\n",
              "      <td>11</td>\n",
              "      <td>0.446680</td>\n",
              "      <td>0.4375</td>\n",
              "      <td>0.222222</td>\n",
              "      <td>1.0</td>\n",
              "      <td>0.714286</td>\n",
              "      <td>0.432668</td>\n",
              "      <td>0.545455</td>\n",
              "      <td>0.666667</td>\n",
              "      <td>0.333333</td>\n",
              "      <td>0.346667</td>\n",
              "      <td>0.294749</td>\n",
              "      <td>14</td>\n",
              "    </tr>\n",
              "  </tbody>\n",
              "</table>\n",
              "</div>\n",
              "      <button class=\"colab-df-convert\" onclick=\"convertToInteractive('df-c982165c-23f5-494b-afbc-56b78a07c102')\"\n",
              "              title=\"Convert this dataframe to an interactive table.\"\n",
              "              style=\"display:none;\">\n",
              "        \n",
              "  <svg xmlns=\"http://www.w3.org/2000/svg\" height=\"24px\"viewBox=\"0 0 24 24\"\n",
              "       width=\"24px\">\n",
              "    <path d=\"M0 0h24v24H0V0z\" fill=\"none\"/>\n",
              "    <path d=\"M18.56 5.44l.94 2.06.94-2.06 2.06-.94-2.06-.94-.94-2.06-.94 2.06-2.06.94zm-11 1L8.5 8.5l.94-2.06 2.06-.94-2.06-.94L8.5 2.5l-.94 2.06-2.06.94zm10 10l.94 2.06.94-2.06 2.06-.94-2.06-.94-.94-2.06-.94 2.06-2.06.94z\"/><path d=\"M17.41 7.96l-1.37-1.37c-.4-.4-.92-.59-1.43-.59-.52 0-1.04.2-1.43.59L10.3 9.45l-7.72 7.72c-.78.78-.78 2.05 0 2.83L4 21.41c.39.39.9.59 1.41.59.51 0 1.02-.2 1.41-.59l7.78-7.78 2.81-2.81c.8-.78.8-2.07 0-2.86zM5.41 20L4 18.59l7.72-7.72 1.47 1.35L5.41 20z\"/>\n",
              "  </svg>\n",
              "      </button>\n",
              "      \n",
              "  <style>\n",
              "    .colab-df-container {\n",
              "      display:flex;\n",
              "      flex-wrap:wrap;\n",
              "      gap: 12px;\n",
              "    }\n",
              "\n",
              "    .colab-df-convert {\n",
              "      background-color: #E8F0FE;\n",
              "      border: none;\n",
              "      border-radius: 50%;\n",
              "      cursor: pointer;\n",
              "      display: none;\n",
              "      fill: #1967D2;\n",
              "      height: 32px;\n",
              "      padding: 0 0 0 0;\n",
              "      width: 32px;\n",
              "    }\n",
              "\n",
              "    .colab-df-convert:hover {\n",
              "      background-color: #E2EBFA;\n",
              "      box-shadow: 0px 1px 2px rgba(60, 64, 67, 0.3), 0px 1px 3px 1px rgba(60, 64, 67, 0.15);\n",
              "      fill: #174EA6;\n",
              "    }\n",
              "\n",
              "    [theme=dark] .colab-df-convert {\n",
              "      background-color: #3B4455;\n",
              "      fill: #D2E3FC;\n",
              "    }\n",
              "\n",
              "    [theme=dark] .colab-df-convert:hover {\n",
              "      background-color: #434B5C;\n",
              "      box-shadow: 0px 1px 3px 1px rgba(0, 0, 0, 0.15);\n",
              "      filter: drop-shadow(0px 1px 2px rgba(0, 0, 0, 0.3));\n",
              "      fill: #FFFFFF;\n",
              "    }\n",
              "  </style>\n",
              "\n",
              "      <script>\n",
              "        const buttonEl =\n",
              "          document.querySelector('#df-c982165c-23f5-494b-afbc-56b78a07c102 button.colab-df-convert');\n",
              "        buttonEl.style.display =\n",
              "          google.colab.kernel.accessAllowed ? 'block' : 'none';\n",
              "\n",
              "        async function convertToInteractive(key) {\n",
              "          const element = document.querySelector('#df-c982165c-23f5-494b-afbc-56b78a07c102');\n",
              "          const dataTable =\n",
              "            await google.colab.kernel.invokeFunction('convertToInteractive',\n",
              "                                                     [key], {});\n",
              "          if (!dataTable) return;\n",
              "\n",
              "          const docLinkHtml = 'Like what you see? Visit the ' +\n",
              "            '<a target=\"_blank\" href=https://colab.research.google.com/notebooks/data_table.ipynb>data table notebook</a>'\n",
              "            + ' to learn more about interactive tables.';\n",
              "          element.innerHTML = '';\n",
              "          dataTable['output_type'] = 'display_data';\n",
              "          await google.colab.output.renderOutput(dataTable, element);\n",
              "          const docLink = document.createElement('div');\n",
              "          docLink.innerHTML = docLinkHtml;\n",
              "          element.appendChild(docLink);\n",
              "        }\n",
              "      </script>\n",
              "    </div>\n",
              "  </div>\n",
              "  "
            ],
            "text/plain": [
              "        exclusive_use_area  floor      인구밀도    기준금리      정당_우  정당_좌     정당_기타  \\\n",
              "676610            0.176165      6  0.525611  0.0625  0.333333   0.4  0.285714   \n",
              "307054            0.116315      5  0.432848  0.9375  0.777778   0.4  0.285714   \n",
              "524741            0.116363      3  0.121810  0.3750  0.555556   0.2  0.214286   \n",
              "489497            0.115490     11  0.530653  0.9375  0.000000   0.9  1.000000   \n",
              "248621            0.114690     11  0.446680  0.4375  0.222222   1.0  0.714286   \n",
              "\n",
              "          jeonse  num_station  num_school  num_alumni  park_number  \\\n",
              "676610  0.891658     0.590909    0.333333    0.234899     0.097778   \n",
              "307054  0.136590     0.681818    0.333333    0.159955     0.853333   \n",
              "524741  0.558290     0.500000    0.666667    0.500559     0.471111   \n",
              "489497  0.131122     0.090909    0.333333    0.196868     0.088889   \n",
              "248621  0.432668     0.545455    0.666667    0.333333     0.346667   \n",
              "\n",
              "        center_number  life_of_apartment  \n",
              "676610       0.176611                 10  \n",
              "307054       0.058473                  7  \n",
              "524741       0.200477                 14  \n",
              "489497       0.280430                  4  \n",
              "248621       0.294749                 14  "
            ]
          },
          "execution_count": 114,
          "metadata": {},
          "output_type": "execute_result"
        }
      ],
      "source": [
        "train_X.head()"
      ]
    },
    {
      "cell_type": "markdown",
      "metadata": {
        "id": "RCS4IsQiJqN7"
      },
      "source": [
        "스케일링이 잘 적용되었네요 😀"
      ]
    },
    {
      "cell_type": "markdown",
      "metadata": {
        "id": "8xdx2OIuTKvR"
      },
      "source": [
        "### **3. 모델링 비교**"
      ]
    },
    {
      "cell_type": "markdown",
      "metadata": {
        "id": "S8z6BZh3L38M"
      },
      "source": [
        "\n",
        "#### 3-1. 선형 회귀: Stage4 vs Stage2, Stage3\n",
        "스케일링한 데이터로 다시 선형회귀 모델을 학습해봐요!   "
      ]
    },
    {
      "cell_type": "code",
      "execution_count": null,
      "metadata": {
        "id": "5YtB_QFXoqu0"
      },
      "outputs": [],
      "source": [
        "from sklearn.linear_model import LinearRegression"
      ]
    },
    {
      "cell_type": "code",
      "execution_count": null,
      "metadata": {
        "colab": {
          "base_uri": "https://localhost:8080/"
        },
        "id": "LXIht1YkoVG0",
        "outputId": "e2bf89cc-c836-41b4-9d94-7716c0bb93df"
      },
      "outputs": [
        {
          "data": {
            "text/plain": [
              "LinearRegression()"
            ]
          },
          "execution_count": 116,
          "metadata": {},
          "output_type": "execute_result"
        }
      ],
      "source": [
        "lrmodel = LinearRegression()\n",
        "lrmodel.fit(train_X, train_Y)"
      ]
    },
    {
      "cell_type": "code",
      "execution_count": null,
      "metadata": {
        "id": "euzdaIo7Wr4P"
      },
      "outputs": [],
      "source": [
        "# RSME 성능평가 계산을 위한 라이브러리\n",
        "from sklearn.metrics import mean_squared_error\n",
        "\n",
        "def RMSE(y, y_pred):\n",
        "    rmse = mean_squared_error(y, y_pred) ** 0.5\n",
        "    return rmse"
      ]
    },
    {
      "cell_type": "code",
      "execution_count": null,
      "metadata": {
        "colab": {
          "base_uri": "https://localhost:8080/"
        },
        "id": "LH7FT0MTKEsT",
        "outputId": "6aecdd03-670e-4f5f-f984-211c7a556fb6"
      },
      "outputs": [
        {
          "name": "stdout",
          "output_type": "stream",
          "text": [
            "20214.41472030412\n",
            "20196.69586678205\n"
          ]
        }
      ],
      "source": [
        "print(RMSE(lrmodel.predict(train_X), train_Y))\n",
        "print(RMSE(lrmodel.predict(test_X), test_Y))"
      ]
    },
    {
      "cell_type": "markdown",
      "metadata": {
        "id": "aTJ5kGshKK9j"
      },
      "source": [
        "음.. Stage2 모델보다는 성능이 좋지만, Stage3 모델과는 큰 차이가 없네요 🤔    \n",
        "이제 다양한 학습 모델을 적용하며, 성능을 높여볼 기회가 왔네요! "
      ]
    },
    {
      "cell_type": "markdown",
      "metadata": {
        "id": "MuhDk4mMKX88"
      },
      "source": [
        "#### 3-2. 다양한 모델링 기법 적용\n",
        "이번에 AutoML 라이브러리인 optuna를 사용하여 다양한 머신러닝 모델을 학습해봅시다!    \n",
        "먼저 optuna 라이브러리를 설치해주세요~"
      ]
    },
    {
      "cell_type": "code",
      "execution_count": null,
      "metadata": {
        "colab": {
          "base_uri": "https://localhost:8080/"
        },
        "id": "Mn-nuEXEU0YW",
        "outputId": "c89184a1-df47-4f8b-c000-7de02609675d"
      },
      "outputs": [
        {
          "name": "stdout",
          "output_type": "stream",
          "text": [
            "Looking in indexes: https://pypi.org/simple, https://us-python.pkg.dev/colab-wheels/public/simple/\n",
            "Collecting optuna\n",
            "  Downloading optuna-3.1.0-py3-none-any.whl (365 kB)\n",
            "\u001b[2K     \u001b[90m━━━━━━━━━━━━━━━━━━━━━━━━━━━━━━━━━━━━━━\u001b[0m \u001b[32m365.3/365.3 KB\u001b[0m \u001b[31m16.7 MB/s\u001b[0m eta \u001b[36m0:00:00\u001b[0m\n",
            "\u001b[?25hRequirement already satisfied: sqlalchemy>=1.3.0 in /usr/local/lib/python3.8/dist-packages (from optuna) (1.4.46)\n",
            "Requirement already satisfied: packaging>=20.0 in /usr/local/lib/python3.8/dist-packages (from optuna) (23.0)\n",
            "Collecting alembic>=1.5.0\n",
            "  Downloading alembic-1.9.4-py3-none-any.whl (210 kB)\n",
            "\u001b[2K     \u001b[90m━━━━━━━━━━━━━━━━━━━━━━━━━━━━━━━━━━━━━━\u001b[0m \u001b[32m210.5/210.5 KB\u001b[0m \u001b[31m25.5 MB/s\u001b[0m eta \u001b[36m0:00:00\u001b[0m\n",
            "\u001b[?25hRequirement already satisfied: tqdm in /usr/local/lib/python3.8/dist-packages (from optuna) (4.64.1)\n",
            "Collecting cmaes>=0.9.1\n",
            "  Downloading cmaes-0.9.1-py3-none-any.whl (21 kB)\n",
            "Collecting colorlog\n",
            "  Downloading colorlog-6.7.0-py2.py3-none-any.whl (11 kB)\n",
            "Requirement already satisfied: PyYAML in /usr/local/lib/python3.8/dist-packages (from optuna) (6.0)\n",
            "Requirement already satisfied: numpy in /usr/local/lib/python3.8/dist-packages (from optuna) (1.21.6)\n",
            "Requirement already satisfied: importlib-metadata in /usr/local/lib/python3.8/dist-packages (from alembic>=1.5.0->optuna) (6.0.0)\n",
            "Requirement already satisfied: importlib-resources in /usr/local/lib/python3.8/dist-packages (from alembic>=1.5.0->optuna) (5.10.2)\n",
            "Collecting Mako\n",
            "  Downloading Mako-1.2.4-py3-none-any.whl (78 kB)\n",
            "\u001b[2K     \u001b[90m━━━━━━━━━━━━━━━━━━━━━━━━━━━━━━━━━━━━━━━━\u001b[0m \u001b[32m78.7/78.7 KB\u001b[0m \u001b[31m10.7 MB/s\u001b[0m eta \u001b[36m0:00:00\u001b[0m\n",
            "\u001b[?25hRequirement already satisfied: greenlet!=0.4.17 in /usr/local/lib/python3.8/dist-packages (from sqlalchemy>=1.3.0->optuna) (2.0.2)\n",
            "Requirement already satisfied: zipp>=0.5 in /usr/local/lib/python3.8/dist-packages (from importlib-metadata->alembic>=1.5.0->optuna) (3.13.0)\n",
            "Requirement already satisfied: MarkupSafe>=0.9.2 in /usr/local/lib/python3.8/dist-packages (from Mako->alembic>=1.5.0->optuna) (2.0.1)\n",
            "Installing collected packages: Mako, colorlog, cmaes, alembic, optuna\n",
            "Successfully installed Mako-1.2.4 alembic-1.9.4 cmaes-0.9.1 colorlog-6.7.0 optuna-3.1.0\n"
          ]
        }
      ],
      "source": [
        "!pip install optuna"
      ]
    },
    {
      "cell_type": "markdown",
      "metadata": {
        "id": "_nJ82C80Nqfq"
      },
      "source": [
        "optuna와 함께 머신러닝, 성능평가, 도구 라이브러리를 임포트합니다."
      ]
    },
    {
      "cell_type": "code",
      "execution_count": null,
      "metadata": {
        "id": "u5ZxIAECTKvR"
      },
      "outputs": [],
      "source": [
        "from optuna.integration import XGBoostPruningCallback\n",
        "import optuna\n",
        "\n",
        "from sklearn.linear_model import LinearRegression, ElasticNet, Lasso, Ridge\n",
        "from sklearn.tree import DecisionTreeRegressor\n",
        "from sklearn.ensemble import RandomForestRegressor\n",
        "from sklearn.preprocessing import  LabelEncoder\n",
        "from sklearn.model_selection import TimeSeriesSplit\n",
        "import xgboost as xgb\n",
        "import lightgbm as lgb\n",
        "\n",
        "from sklearn.metrics import mean_squared_error\n",
        "\n",
        "from tqdm import tqdm\n",
        "import re"
      ]
    },
    {
      "cell_type": "markdown",
      "metadata": {
        "id": "ElGjyMrtOil8"
      },
      "source": [
        "프로젝트의 평가 기준인 RMSE를 sklearn 라이브러리리의 mean_squared_error()로 함수를 선언했어요 😀     \n",
        "다양한 모델의 학습에 사용할 수 있도록 CV 별로 학습하는 rmse_cv() 함수도 있으니, 확인해주세요!    \n",
        "CV 별로 RMSE 점수를 프린트하는 print_rmse_score() 함수도 있답니다~"
      ]
    },
    {
      "cell_type": "code",
      "execution_count": null,
      "metadata": {
        "id": "eNgrQmEET0_4"
      },
      "outputs": [],
      "source": [
        "def RMSE(y, y_pred):\n",
        "    rmse = mean_squared_error(y, y_pred) ** 0.5\n",
        "    return rmse\n",
        "\n",
        "def rmse_cv(model):\n",
        "    # cv별로 학습하는 함수\n",
        "    tscv = TimeSeriesSplit(n_splits=10)\n",
        "    rmse_list = []\n",
        "    model_name = model.__class__.__name__\n",
        "    for _, (train_index, test_index) in tqdm(enumerate(tscv.split(train_X), start=1), desc=f'{model_name} Cross Validations...', total=10):\n",
        "        X_train, X_test = train_X.iloc[train_index], train_X.iloc[test_index]\n",
        "        y_train, y_test = train_Y.iloc[train_index], train_Y.iloc[test_index]\n",
        "        clf = model.fit(X_train, y_train)\n",
        "        pred = clf.predict(X_test)\n",
        "        rmse = RMSE(y_test, pred) \n",
        "        rmse_list.append(rmse)\n",
        "    return model_name, rmse_list\n",
        "\n",
        "def print_rmse_score(model):\n",
        "    # cv별 프린팅, 평균 저장\n",
        "    model_name, score = rmse_cv(model)\n",
        "    for i, r in enumerate(score, start=1):\n",
        "        print(f'{i} FOLDS: {model_name} RMSLE: {r:.4f}')\n",
        "    print(f'\\n{model_name} mean RMSLE: {np.mean(score):.4f}')\n",
        "    print('='*40)\n",
        "    return model_name, np.mean(score)"
      ]
    },
    {
      "cell_type": "markdown",
      "source": [
        "익숙한 선형 회귀 모델부터 Lasso, ElasticNet, RandomForest 등 다양한 머신러닝 모델을 선언해봐요!"
      ],
      "metadata": {
        "id": "4BdcOJ9_M5so"
      }
    },
    {
      "cell_type": "code",
      "execution_count": null,
      "metadata": {
        "id": "51hoAxjBUHza"
      },
      "outputs": [],
      "source": [
        "reg = LinearRegression(n_jobs=-1)\n",
        "ridge = Ridge(alpha=0.8, random_state=1)\n",
        "lasso = Lasso(alpha = 0.01, random_state=1)\n",
        "Enet = ElasticNet(alpha=0.03, l1_ratio=0.01, random_state=1)\n",
        "DTree = DecisionTreeRegressor(max_depth=6, min_samples_split=10, min_samples_leaf=15, random_state=1)\n",
        "rf = RandomForestRegressor(n_estimators=500, criterion='mse', max_depth=9, min_samples_split=50,\n",
        "                           min_samples_leaf=5, random_state=1, n_jobs=-1)\n",
        "model_xgb = xgb.XGBRegressor(n_estimators=500, max_depth=9, min_child_weight=5, gamma=0.1, n_jobs=-1)\n",
        "model_lgb = lgb.LGBMRegressor(n_estimators=500, max_depth=9, min_child_weight=5, n_jobs=-1)"
      ]
    },
    {
      "cell_type": "markdown",
      "source": [
        "이제 모델별로 학습을 시작해볼까요?"
      ],
      "metadata": {
        "id": "Pg5wyEskNEBr"
      }
    },
    {
      "cell_type": "code",
      "execution_count": null,
      "metadata": {
        "colab": {
          "background_save": true,
          "base_uri": "https://localhost:8080/"
        },
        "id": "OWznI98VT5QP",
        "outputId": "34431f17-b4a7-4b7a-f4cf-93d11180c81b"
      },
      "outputs": [
        {
          "name": "stderr",
          "output_type": "stream",
          "text": [
            "LinearRegression Cross Validations...: 100%|██████████| 10/10 [00:02<00:00,  4.43it/s]\n"
          ]
        },
        {
          "name": "stdout",
          "output_type": "stream",
          "text": [
            "1 FOLDS: LinearRegression RMSLE: 20319.8971\n",
            "2 FOLDS: LinearRegression RMSLE: 20331.7126\n",
            "3 FOLDS: LinearRegression RMSLE: 20629.0139\n",
            "4 FOLDS: LinearRegression RMSLE: 19566.1282\n",
            "5 FOLDS: LinearRegression RMSLE: 20033.6878\n",
            "6 FOLDS: LinearRegression RMSLE: 20296.9886\n",
            "7 FOLDS: LinearRegression RMSLE: 20158.0851\n",
            "8 FOLDS: LinearRegression RMSLE: 20094.4836\n",
            "9 FOLDS: LinearRegression RMSLE: 20267.1643\n",
            "10 FOLDS: LinearRegression RMSLE: 20351.9943\n",
            "\n",
            "LinearRegression mean RMSLE: 20204.9156\n",
            "========================================\n"
          ]
        },
        {
          "name": "stderr",
          "output_type": "stream",
          "text": [
            "Ridge Cross Validations...: 100%|██████████| 10/10 [00:01<00:00,  6.87it/s]\n"
          ]
        },
        {
          "name": "stdout",
          "output_type": "stream",
          "text": [
            "1 FOLDS: Ridge RMSLE: 20319.0824\n",
            "2 FOLDS: Ridge RMSLE: 20331.4929\n",
            "3 FOLDS: Ridge RMSLE: 20629.3470\n",
            "4 FOLDS: Ridge RMSLE: 19565.6525\n",
            "5 FOLDS: Ridge RMSLE: 20033.6783\n",
            "6 FOLDS: Ridge RMSLE: 20297.0484\n",
            "7 FOLDS: Ridge RMSLE: 20158.0636\n",
            "8 FOLDS: Ridge RMSLE: 20094.4936\n",
            "9 FOLDS: Ridge RMSLE: 20267.2323\n",
            "10 FOLDS: Ridge RMSLE: 20352.0724\n",
            "\n",
            "Ridge mean RMSLE: 20204.8163\n",
            "========================================\n"
          ]
        },
        {
          "name": "stderr",
          "output_type": "stream",
          "text": [
            "Lasso Cross Validations...: 100%|██████████| 10/10 [00:16<00:00,  1.68s/it]\n"
          ]
        },
        {
          "name": "stdout",
          "output_type": "stream",
          "text": [
            "1 FOLDS: Lasso RMSLE: 20319.8959\n",
            "2 FOLDS: Lasso RMSLE: 20331.7094\n",
            "3 FOLDS: Lasso RMSLE: 20629.0182\n",
            "4 FOLDS: Lasso RMSLE: 19566.1224\n",
            "5 FOLDS: Lasso RMSLE: 20033.6878\n",
            "6 FOLDS: Lasso RMSLE: 20296.9901\n",
            "7 FOLDS: Lasso RMSLE: 20158.0860\n",
            "8 FOLDS: Lasso RMSLE: 20094.4832\n",
            "9 FOLDS: Lasso RMSLE: 20267.1645\n",
            "10 FOLDS: Lasso RMSLE: 20351.9960\n",
            "\n",
            "Lasso mean RMSLE: 20204.9153\n",
            "========================================\n"
          ]
        },
        {
          "name": "stderr",
          "output_type": "stream",
          "text": [
            "ElasticNet Cross Validations...: 100%|██████████| 10/10 [00:02<00:00,  3.54it/s]\n"
          ]
        },
        {
          "name": "stdout",
          "output_type": "stream",
          "text": [
            "1 FOLDS: ElasticNet RMSLE: 26862.5435\n",
            "2 FOLDS: ElasticNet RMSLE: 26829.3771\n",
            "3 FOLDS: ElasticNet RMSLE: 27543.9273\n",
            "4 FOLDS: ElasticNet RMSLE: 25986.3431\n",
            "5 FOLDS: ElasticNet RMSLE: 26667.6864\n",
            "6 FOLDS: ElasticNet RMSLE: 26989.8436\n",
            "7 FOLDS: ElasticNet RMSLE: 26670.5458\n",
            "8 FOLDS: ElasticNet RMSLE: 26749.4233\n",
            "9 FOLDS: ElasticNet RMSLE: 27004.2080\n",
            "10 FOLDS: ElasticNet RMSLE: 27114.6412\n",
            "\n",
            "ElasticNet mean RMSLE: 26841.8539\n",
            "========================================\n"
          ]
        },
        {
          "name": "stderr",
          "output_type": "stream",
          "text": [
            "DecisionTreeRegressor Cross Validations...: 100%|██████████| 10/10 [00:09<00:00,  1.02it/s]\n"
          ]
        },
        {
          "name": "stdout",
          "output_type": "stream",
          "text": [
            "1 FOLDS: DecisionTreeRegressor RMSLE: 18020.0572\n",
            "2 FOLDS: DecisionTreeRegressor RMSLE: 17532.8577\n",
            "3 FOLDS: DecisionTreeRegressor RMSLE: 17676.5826\n",
            "4 FOLDS: DecisionTreeRegressor RMSLE: 17523.9448\n",
            "5 FOLDS: DecisionTreeRegressor RMSLE: 17620.7492\n",
            "6 FOLDS: DecisionTreeRegressor RMSLE: 17555.5302\n",
            "7 FOLDS: DecisionTreeRegressor RMSLE: 17538.7431\n",
            "8 FOLDS: DecisionTreeRegressor RMSLE: 17356.4593\n",
            "9 FOLDS: DecisionTreeRegressor RMSLE: 17342.8435\n",
            "10 FOLDS: DecisionTreeRegressor RMSLE: 17653.2950\n",
            "\n",
            "DecisionTreeRegressor mean RMSLE: 17582.1063\n",
            "========================================\n"
          ]
        },
        {
          "name": "stderr",
          "output_type": "stream",
          "text": [
            "RandomForestRegressor Cross Validations...:   0%|          | 0/10 [00:00<?, ?it/s]/usr/local/lib/python3.8/dist-packages/sklearn/ensemble/_forest.py:396: FutureWarning: Criterion 'mse' was deprecated in v1.0 and will be removed in version 1.2. Use `criterion='squared_error'` which is equivalent.\n",
            "  warn(\n",
            "RandomForestRegressor Cross Validations...:  10%|█         | 1/10 [00:28<04:16, 28.49s/it]/usr/local/lib/python3.8/dist-packages/sklearn/ensemble/_forest.py:396: FutureWarning: Criterion 'mse' was deprecated in v1.0 and will be removed in version 1.2. Use `criterion='squared_error'` which is equivalent.\n",
            "  warn(\n",
            "RandomForestRegressor Cross Validations...:  20%|██        | 2/10 [01:27<06:11, 46.48s/it]/usr/local/lib/python3.8/dist-packages/sklearn/ensemble/_forest.py:396: FutureWarning: Criterion 'mse' was deprecated in v1.0 and will be removed in version 1.2. Use `criterion='squared_error'` which is equivalent.\n",
            "  warn(\n",
            "RandomForestRegressor Cross Validations...:  30%|███       | 3/10 [02:57<07:45, 66.47s/it]/usr/local/lib/python3.8/dist-packages/sklearn/ensemble/_forest.py:396: FutureWarning: Criterion 'mse' was deprecated in v1.0 and will be removed in version 1.2. Use `criterion='squared_error'` which is equivalent.\n",
            "  warn(\n",
            "RandomForestRegressor Cross Validations...:  40%|████      | 4/10 [05:00<08:52, 88.76s/it]/usr/local/lib/python3.8/dist-packages/sklearn/ensemble/_forest.py:396: FutureWarning: Criterion 'mse' was deprecated in v1.0 and will be removed in version 1.2. Use `criterion='squared_error'` which is equivalent.\n",
            "  warn(\n",
            "RandomForestRegressor Cross Validations...:  50%|█████     | 5/10 [07:49<09:48, 117.71s/it]/usr/local/lib/python3.8/dist-packages/sklearn/ensemble/_forest.py:396: FutureWarning: Criterion 'mse' was deprecated in v1.0 and will be removed in version 1.2. Use `criterion='squared_error'` which is equivalent.\n",
            "  warn(\n",
            "RandomForestRegressor Cross Validations...:  60%|██████    | 6/10 [11:22<09:59, 149.95s/it]/usr/local/lib/python3.8/dist-packages/sklearn/ensemble/_forest.py:396: FutureWarning: Criterion 'mse' was deprecated in v1.0 and will be removed in version 1.2. Use `criterion='squared_error'` which is equivalent.\n",
            "  warn(\n",
            "RandomForestRegressor Cross Validations...:  70%|███████   | 7/10 [15:39<09:15, 185.07s/it]/usr/local/lib/python3.8/dist-packages/sklearn/ensemble/_forest.py:396: FutureWarning: Criterion 'mse' was deprecated in v1.0 and will be removed in version 1.2. Use `criterion='squared_error'` which is equivalent.\n",
            "  warn(\n",
            "RandomForestRegressor Cross Validations...:  80%|████████  | 8/10 [20:55<07:33, 226.64s/it]/usr/local/lib/python3.8/dist-packages/sklearn/ensemble/_forest.py:396: FutureWarning: Criterion 'mse' was deprecated in v1.0 and will be removed in version 1.2. Use `criterion='squared_error'` which is equivalent.\n",
            "  warn(\n",
            "RandomForestRegressor Cross Validations...:  90%|█████████ | 9/10 [26:56<04:28, 268.60s/it]/usr/local/lib/python3.8/dist-packages/sklearn/ensemble/_forest.py:396: FutureWarning: Criterion 'mse' was deprecated in v1.0 and will be removed in version 1.2. Use `criterion='squared_error'` which is equivalent.\n",
            "  warn(\n",
            "RandomForestRegressor Cross Validations...: 100%|██████████| 10/10 [33:36<00:00, 201.67s/it]\n"
          ]
        },
        {
          "name": "stdout",
          "output_type": "stream",
          "text": [
            "1 FOLDS: RandomForestRegressor RMSLE: 14477.9536\n",
            "2 FOLDS: RandomForestRegressor RMSLE: 13934.0883\n",
            "3 FOLDS: RandomForestRegressor RMSLE: 13888.1043\n",
            "4 FOLDS: RandomForestRegressor RMSLE: 13511.2950\n",
            "5 FOLDS: RandomForestRegressor RMSLE: 13549.0741\n",
            "6 FOLDS: RandomForestRegressor RMSLE: 13593.1254\n",
            "7 FOLDS: RandomForestRegressor RMSLE: 13407.9143\n",
            "8 FOLDS: RandomForestRegressor RMSLE: 13335.3772\n",
            "9 FOLDS: RandomForestRegressor RMSLE: 13444.9980\n",
            "10 FOLDS: RandomForestRegressor RMSLE: 13301.0044\n",
            "\n",
            "RandomForestRegressor mean RMSLE: 13644.2935\n",
            "========================================\n"
          ]
        },
        {
          "name": "stderr",
          "output_type": "stream",
          "text": [
            "\rXGBRegressor Cross Validations...:   0%|          | 0/10 [00:00<?, ?it/s]"
          ]
        },
        {
          "name": "stdout",
          "output_type": "stream",
          "text": [
            "[15:25:33] WARNING: /workspace/src/objective/regression_obj.cu:152: reg:linear is now deprecated in favor of reg:squarederror.\n"
          ]
        },
        {
          "name": "stderr",
          "output_type": "stream",
          "text": [
            "\rXGBRegressor Cross Validations...:  10%|█         | 1/10 [00:26<03:57, 26.36s/it]"
          ]
        },
        {
          "name": "stdout",
          "output_type": "stream",
          "text": [
            "[15:26:00] WARNING: /workspace/src/objective/regression_obj.cu:152: reg:linear is now deprecated in favor of reg:squarederror.\n"
          ]
        },
        {
          "name": "stderr",
          "output_type": "stream",
          "text": [
            "\rXGBRegressor Cross Validations...:  20%|██        | 2/10 [01:27<06:14, 46.81s/it]"
          ]
        },
        {
          "name": "stdout",
          "output_type": "stream",
          "text": [
            "[15:27:01] WARNING: /workspace/src/objective/regression_obj.cu:152: reg:linear is now deprecated in favor of reg:squarederror.\n"
          ]
        },
        {
          "name": "stderr",
          "output_type": "stream",
          "text": [
            "\rXGBRegressor Cross Validations...:  30%|███       | 3/10 [02:57<07:45, 66.47s/it]"
          ]
        },
        {
          "name": "stdout",
          "output_type": "stream",
          "text": [
            "[15:28:31] WARNING: /workspace/src/objective/regression_obj.cu:152: reg:linear is now deprecated in favor of reg:squarederror.\n"
          ]
        },
        {
          "name": "stderr",
          "output_type": "stream",
          "text": [
            "\rXGBRegressor Cross Validations...:  40%|████      | 4/10 [05:01<08:55, 89.18s/it]"
          ]
        },
        {
          "name": "stdout",
          "output_type": "stream",
          "text": [
            "[15:30:35] WARNING: /workspace/src/objective/regression_obj.cu:152: reg:linear is now deprecated in favor of reg:squarederror.\n"
          ]
        },
        {
          "name": "stderr",
          "output_type": "stream",
          "text": [
            "\rXGBRegressor Cross Validations...:  50%|█████     | 5/10 [07:40<09:32, 114.55s/it]"
          ]
        },
        {
          "name": "stdout",
          "output_type": "stream",
          "text": [
            "[15:33:14] WARNING: /workspace/src/objective/regression_obj.cu:152: reg:linear is now deprecated in favor of reg:squarederror.\n"
          ]
        },
        {
          "name": "stderr",
          "output_type": "stream",
          "text": [
            "\rXGBRegressor Cross Validations...:  60%|██████    | 6/10 [10:50<09:19, 139.91s/it]"
          ]
        },
        {
          "name": "stdout",
          "output_type": "stream",
          "text": [
            "[15:36:23] WARNING: /workspace/src/objective/regression_obj.cu:152: reg:linear is now deprecated in favor of reg:squarederror.\n"
          ]
        },
        {
          "name": "stderr",
          "output_type": "stream",
          "text": [
            "\rXGBRegressor Cross Validations...:  70%|███████   | 7/10 [14:26<08:15, 165.04s/it]"
          ]
        },
        {
          "name": "stdout",
          "output_type": "stream",
          "text": [
            "[15:40:00] WARNING: /workspace/src/objective/regression_obj.cu:152: reg:linear is now deprecated in favor of reg:squarederror.\n"
          ]
        },
        {
          "name": "stderr",
          "output_type": "stream",
          "text": [
            "\rXGBRegressor Cross Validations...:  80%|████████  | 8/10 [18:36<06:23, 191.88s/it]"
          ]
        },
        {
          "name": "stdout",
          "output_type": "stream",
          "text": [
            "[15:44:10] WARNING: /workspace/src/objective/regression_obj.cu:152: reg:linear is now deprecated in favor of reg:squarederror.\n"
          ]
        },
        {
          "name": "stderr",
          "output_type": "stream",
          "text": [
            "\rXGBRegressor Cross Validations...:  90%|█████████ | 9/10 [23:12<03:38, 218.40s/it]"
          ]
        },
        {
          "name": "stdout",
          "output_type": "stream",
          "text": [
            "[15:48:46] WARNING: /workspace/src/objective/regression_obj.cu:152: reg:linear is now deprecated in favor of reg:squarederror.\n"
          ]
        },
        {
          "name": "stderr",
          "output_type": "stream",
          "text": [
            "XGBRegressor Cross Validations...: 100%|██████████| 10/10 [28:20<00:00, 170.02s/it]\n"
          ]
        },
        {
          "name": "stdout",
          "output_type": "stream",
          "text": [
            "1 FOLDS: XGBRegressor RMSLE: 10209.6306\n",
            "2 FOLDS: XGBRegressor RMSLE: 8935.2823\n",
            "3 FOLDS: XGBRegressor RMSLE: 8568.5482\n",
            "4 FOLDS: XGBRegressor RMSLE: 8007.4277\n",
            "5 FOLDS: XGBRegressor RMSLE: 7924.4571\n",
            "6 FOLDS: XGBRegressor RMSLE: 7937.6376\n",
            "7 FOLDS: XGBRegressor RMSLE: 7455.0569\n",
            "8 FOLDS: XGBRegressor RMSLE: 7541.0520\n",
            "9 FOLDS: XGBRegressor RMSLE: 7432.3228\n",
            "10 FOLDS: XGBRegressor RMSLE: 7390.1978\n",
            "\n",
            "XGBRegressor mean RMSLE: 8140.1613\n",
            "========================================\n"
          ]
        },
        {
          "name": "stderr",
          "output_type": "stream",
          "text": [
            "LGBMRegressor Cross Validations...: 100%|██████████| 10/10 [01:03<00:00,  6.33s/it]"
          ]
        },
        {
          "name": "stdout",
          "output_type": "stream",
          "text": [
            "1 FOLDS: LGBMRegressor RMSLE: 11318.5249\n",
            "2 FOLDS: LGBMRegressor RMSLE: 10734.9781\n",
            "3 FOLDS: LGBMRegressor RMSLE: 10842.0146\n",
            "4 FOLDS: LGBMRegressor RMSLE: 10167.9192\n",
            "5 FOLDS: LGBMRegressor RMSLE: 10351.3152\n",
            "6 FOLDS: LGBMRegressor RMSLE: 10230.1169\n",
            "7 FOLDS: LGBMRegressor RMSLE: 10017.7317\n",
            "8 FOLDS: LGBMRegressor RMSLE: 10055.8364\n",
            "9 FOLDS: LGBMRegressor RMSLE: 9957.6334\n",
            "10 FOLDS: LGBMRegressor RMSLE: 9938.1471\n",
            "\n",
            "LGBMRegressor mean RMSLE: 10361.4217\n",
            "========================================\n"
          ]
        },
        {
          "name": "stderr",
          "output_type": "stream",
          "text": [
            "\n"
          ]
        }
      ],
      "source": [
        "models = []\n",
        "scores = []\n",
        "for model in [reg, ridge, lasso, Enet, DTree, rf, model_xgb, model_lgb]:\n",
        "    model_name, mean_score = print_rmse_score(model)\n",
        "    models.append(model_name)\n",
        "    scores.append(mean_score)"
      ]
    },
    {
      "cell_type": "markdown",
      "source": [
        "학습된 결과를 출력해볼게요!"
      ],
      "metadata": {
        "id": "Ls8Uplc7NHPb"
      }
    },
    {
      "cell_type": "code",
      "execution_count": null,
      "metadata": {
        "colab": {
          "background_save": true
        },
        "id": "25g7FzN1T6Tx",
        "outputId": "8135a0c7-384a-48d4-cdea-bac99a3ebe72"
      },
      "outputs": [
        {
          "data": {
            "text/html": [
              "\n",
              "  <div id=\"df-2331258d-331c-4fa1-901e-8798bb3451a7\">\n",
              "    <div class=\"colab-df-container\">\n",
              "      <div>\n",
              "<style scoped>\n",
              "    .dataframe tbody tr th:only-of-type {\n",
              "        vertical-align: middle;\n",
              "    }\n",
              "\n",
              "    .dataframe tbody tr th {\n",
              "        vertical-align: top;\n",
              "    }\n",
              "\n",
              "    .dataframe thead th {\n",
              "        text-align: right;\n",
              "    }\n",
              "</style>\n",
              "<table border=\"1\" class=\"dataframe\">\n",
              "  <thead>\n",
              "    <tr style=\"text-align: right;\">\n",
              "      <th></th>\n",
              "      <th>Model</th>\n",
              "      <th>Score</th>\n",
              "    </tr>\n",
              "  </thead>\n",
              "  <tbody>\n",
              "    <tr>\n",
              "      <th>0</th>\n",
              "      <td>LinearRegression</td>\n",
              "      <td>20204.915555</td>\n",
              "    </tr>\n",
              "    <tr>\n",
              "      <th>1</th>\n",
              "      <td>Ridge</td>\n",
              "      <td>20204.816320</td>\n",
              "    </tr>\n",
              "    <tr>\n",
              "      <th>2</th>\n",
              "      <td>Lasso</td>\n",
              "      <td>20204.915338</td>\n",
              "    </tr>\n",
              "    <tr>\n",
              "      <th>3</th>\n",
              "      <td>ElasticNet</td>\n",
              "      <td>26841.853949</td>\n",
              "    </tr>\n",
              "    <tr>\n",
              "      <th>4</th>\n",
              "      <td>DecisionTreeRegressor</td>\n",
              "      <td>17582.106254</td>\n",
              "    </tr>\n",
              "    <tr>\n",
              "      <th>5</th>\n",
              "      <td>RandomForestRegressor</td>\n",
              "      <td>13644.293452</td>\n",
              "    </tr>\n",
              "    <tr>\n",
              "      <th>6</th>\n",
              "      <td>XGBRegressor</td>\n",
              "      <td>8140.161309</td>\n",
              "    </tr>\n",
              "    <tr>\n",
              "      <th>7</th>\n",
              "      <td>LGBMRegressor</td>\n",
              "      <td>10361.421748</td>\n",
              "    </tr>\n",
              "  </tbody>\n",
              "</table>\n",
              "</div>\n",
              "      <button class=\"colab-df-convert\" onclick=\"convertToInteractive('df-2331258d-331c-4fa1-901e-8798bb3451a7')\"\n",
              "              title=\"Convert this dataframe to an interactive table.\"\n",
              "              style=\"display:none;\">\n",
              "        \n",
              "  <svg xmlns=\"http://www.w3.org/2000/svg\" height=\"24px\"viewBox=\"0 0 24 24\"\n",
              "       width=\"24px\">\n",
              "    <path d=\"M0 0h24v24H0V0z\" fill=\"none\"/>\n",
              "    <path d=\"M18.56 5.44l.94 2.06.94-2.06 2.06-.94-2.06-.94-.94-2.06-.94 2.06-2.06.94zm-11 1L8.5 8.5l.94-2.06 2.06-.94-2.06-.94L8.5 2.5l-.94 2.06-2.06.94zm10 10l.94 2.06.94-2.06 2.06-.94-2.06-.94-.94-2.06-.94 2.06-2.06.94z\"/><path d=\"M17.41 7.96l-1.37-1.37c-.4-.4-.92-.59-1.43-.59-.52 0-1.04.2-1.43.59L10.3 9.45l-7.72 7.72c-.78.78-.78 2.05 0 2.83L4 21.41c.39.39.9.59 1.41.59.51 0 1.02-.2 1.41-.59l7.78-7.78 2.81-2.81c.8-.78.8-2.07 0-2.86zM5.41 20L4 18.59l7.72-7.72 1.47 1.35L5.41 20z\"/>\n",
              "  </svg>\n",
              "      </button>\n",
              "      \n",
              "  <style>\n",
              "    .colab-df-container {\n",
              "      display:flex;\n",
              "      flex-wrap:wrap;\n",
              "      gap: 12px;\n",
              "    }\n",
              "\n",
              "    .colab-df-convert {\n",
              "      background-color: #E8F0FE;\n",
              "      border: none;\n",
              "      border-radius: 50%;\n",
              "      cursor: pointer;\n",
              "      display: none;\n",
              "      fill: #1967D2;\n",
              "      height: 32px;\n",
              "      padding: 0 0 0 0;\n",
              "      width: 32px;\n",
              "    }\n",
              "\n",
              "    .colab-df-convert:hover {\n",
              "      background-color: #E2EBFA;\n",
              "      box-shadow: 0px 1px 2px rgba(60, 64, 67, 0.3), 0px 1px 3px 1px rgba(60, 64, 67, 0.15);\n",
              "      fill: #174EA6;\n",
              "    }\n",
              "\n",
              "    [theme=dark] .colab-df-convert {\n",
              "      background-color: #3B4455;\n",
              "      fill: #D2E3FC;\n",
              "    }\n",
              "\n",
              "    [theme=dark] .colab-df-convert:hover {\n",
              "      background-color: #434B5C;\n",
              "      box-shadow: 0px 1px 3px 1px rgba(0, 0, 0, 0.15);\n",
              "      filter: drop-shadow(0px 1px 2px rgba(0, 0, 0, 0.3));\n",
              "      fill: #FFFFFF;\n",
              "    }\n",
              "  </style>\n",
              "\n",
              "      <script>\n",
              "        const buttonEl =\n",
              "          document.querySelector('#df-2331258d-331c-4fa1-901e-8798bb3451a7 button.colab-df-convert');\n",
              "        buttonEl.style.display =\n",
              "          google.colab.kernel.accessAllowed ? 'block' : 'none';\n",
              "\n",
              "        async function convertToInteractive(key) {\n",
              "          const element = document.querySelector('#df-2331258d-331c-4fa1-901e-8798bb3451a7');\n",
              "          const dataTable =\n",
              "            await google.colab.kernel.invokeFunction('convertToInteractive',\n",
              "                                                     [key], {});\n",
              "          if (!dataTable) return;\n",
              "\n",
              "          const docLinkHtml = 'Like what you see? Visit the ' +\n",
              "            '<a target=\"_blank\" href=https://colab.research.google.com/notebooks/data_table.ipynb>data table notebook</a>'\n",
              "            + ' to learn more about interactive tables.';\n",
              "          element.innerHTML = '';\n",
              "          dataTable['output_type'] = 'display_data';\n",
              "          await google.colab.output.renderOutput(dataTable, element);\n",
              "          const docLink = document.createElement('div');\n",
              "          docLink.innerHTML = docLinkHtml;\n",
              "          element.appendChild(docLink);\n",
              "        }\n",
              "      </script>\n",
              "    </div>\n",
              "  </div>\n",
              "  "
            ],
            "text/plain": [
              "                   Model         Score\n",
              "0       LinearRegression  20204.915555\n",
              "1                  Ridge  20204.816320\n",
              "2                  Lasso  20204.915338\n",
              "3             ElasticNet  26841.853949\n",
              "4  DecisionTreeRegressor  17582.106254\n",
              "5  RandomForestRegressor  13644.293452\n",
              "6           XGBRegressor   8140.161309\n",
              "7          LGBMRegressor  10361.421748"
            ]
          },
          "execution_count": 124,
          "metadata": {},
          "output_type": "execute_result"
        }
      ],
      "source": [
        "result_df = pd.DataFrame({'Model': models, 'Score': scores}).reset_index(drop=True)\n",
        "result_df"
      ]
    },
    {
      "cell_type": "markdown",
      "metadata": {
        "id": "ZN6RQdUV9Qn4"
      },
      "source": [
        "XGB Regressor와 LGBM Regressor의 성능이 높게 나왔네요!    \n",
        "XGB Regressor는 성능이 좋지만, 학습시간이 오래 걸리고 과적합이 잘 되는 치명적인 단점이 있습니다.    \n",
        "프로젝트에서는 향후 LGBM Regressor로 모델을 학습할 예정이에요."
      ]
    },
    {
      "cell_type": "markdown",
      "metadata": {
        "id": "uEshfGeCXmbU"
      },
      "source": [
        "\n",
        "Stage 4는 여기까지입니다!    \n",
        "<img src='http://drive.google.com/uc?export=view&id=1YxAfXpNVAc4KVtFdjNhtY5LzTpE5VBx8' /><br>\n",
        "벌써 여정의 절반이 지나갔네요⛳ 남은 스테이지도 파이팅입니다~\n"
      ]
    }
  ],
  "metadata": {
    "colab": {
      "machine_shape": "hm",
      "provenance": [],
      "toc_visible": true
    },
    "gpuClass": "standard",
    "kernelspec": {
      "display_name": "Python 3",
      "name": "python3"
    },
    "language_info": {
      "name": "python"
    }
  },
  "nbformat": 4,
  "nbformat_minor": 0
}