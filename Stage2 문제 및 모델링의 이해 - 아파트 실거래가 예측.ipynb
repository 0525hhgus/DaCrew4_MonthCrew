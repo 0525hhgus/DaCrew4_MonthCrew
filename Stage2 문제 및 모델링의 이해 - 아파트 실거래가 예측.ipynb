{
  "nbformat": 4,
  "nbformat_minor": 0,
  "metadata": {
    "colab": {
      "provenance": [],
      "machine_shape": "hm",
      "toc_visible": true
    },
    "kernelspec": {
      "name": "python3",
      "display_name": "Python 3"
    },
    "language_info": {
      "name": "python"
    },
    "gpuClass": "standard"
  },
  "cells": [
    {
      "cell_type": "markdown",
      "source": [
        "# **아파트 실거래가 예측 프로젝트**"
      ],
      "metadata": {
        "id": "HmlqT7GeLve6"
      }
    },
    {
      "cell_type": "markdown",
      "source": [
        "\n",
        "## **Stage 2. 문제 및 모델링의 이해 - 아파트 실거래가를 예측하기 위해 필요한 것**\n",
        "<img src='http://drive.google.com/uc?export=view&id=1KpVIVt81WBwyz5bAAyvm0Lszl09ZTMjj' /><br>\n"
      ],
      "metadata": {
        "id": "zcHlI8LRNRwd"
      }
    },
    {
      "cell_type": "markdown",
      "source": [
        "### **INTRO**\n",
        "지난 스테이지 **Stage 1. 문제 기반 실무 학습(PBL) 개요 - 아파트 실거래가 예측 프로젝트** 에서 **프로젝트를 파악**하고, **판다스 라이브러리를 사용**하여 데이터를 불러와서 제출했습니다 😀  \n",
        "\n",
        "아파트 실거래가를 예측하기 위해 **가장 먼저 필요한 것**은 무엇일까요?    \n",
        "**모델 학습을 위한 train 데이터**와 **모델 평가를 위한 test 데이터**가 필요합니다 😎\n",
        "\n",
        "이번 스테이지는 변수들의 **기술적 통계**을 확인하고, **train 및 test 데이터셋을 구성**하여 **선형회귀 모델을 적용**할 예정입니다.    \n",
        "\n",
        "이제 판다스 라이브러리를 임포트하고, 데이터를 불러와봅시다~\n"
      ],
      "metadata": {
        "id": "5D_gmYShA9X3"
      }
    },
    {
      "cell_type": "code",
      "source": [
        "import pandas as pd"
      ],
      "metadata": {
        "id": "7ASjdl5wIZmP"
      },
      "execution_count": 1,
      "outputs": []
    },
    {
      "cell_type": "code",
      "source": [
        "train = pd.read_csv('/content/drive/MyDrive/데이크루4기_먼스크루/data/dacon/train.csv') \n",
        "test = pd.read_csv('/content/drive/MyDrive/데이크루4기_먼스크루/data/dacon/test.csv')\n",
        "park = pd.read_csv('/content/drive/MyDrive/데이크루4기_먼스크루/data/dacon/park.csv')\n",
        "day_care_center = pd.read_csv('/content/drive/MyDrive/데이크루4기_먼스크루/data/dacon/day_care_center.csv')\n",
        "submission = pd.read_csv('/content/drive/MyDrive/데이크루4기_먼스크루/data/dacon/submission.csv')"
      ],
      "metadata": {
        "id": "ts3KZuetLatT",
        "colab": {
          "base_uri": "https://localhost:8080/"
        },
        "outputId": "e08259f2-7d03-4ebb-9f4d-c73fcc3f8846"
      },
      "execution_count": 2,
      "outputs": [
        {
          "output_type": "stream",
          "name": "stdout",
          "text": [
            "Mounted at /content/drive\n"
          ]
        }
      ]
    },
    {
      "cell_type": "markdown",
      "source": [
        "### **1. 변수 조사 및 기술적 통계**"
      ],
      "metadata": {
        "id": "zVOyCzGGMeHv"
      }
    },
    {
      "cell_type": "markdown",
      "source": [
        "우선 주어진 데이터를 먼저 분석해볼게요!    \n",
        "head() 함수로 데이터 구성을 다시 확인해볼까요?"
      ],
      "metadata": {
        "id": "z1r8SQzkwup_"
      }
    },
    {
      "cell_type": "markdown",
      "source": [
        "#### 1-1. 변수 조사"
      ],
      "metadata": {
        "id": "VhDba_fEN8zj"
      }
    },
    {
      "cell_type": "code",
      "source": [
        "train.head()"
      ],
      "metadata": {
        "id": "SVS_PW9sO6CF",
        "colab": {
          "base_uri": "https://localhost:8080/",
          "height": 617
        },
        "outputId": "44be8082-a4ad-4745-8865-81f862670a40"
      },
      "execution_count": 3,
      "outputs": [
        {
          "output_type": "execute_result",
          "data": {
            "text/plain": [
              "   transaction_id  apartment_id   city dong   jibun       apt  \\\n",
              "0               0          7622  서울특별시  신교동    6-13  신현(101동)   \n",
              "1               1          5399  서울특별시  필운동     142    사직파크맨션   \n",
              "2               2          3578  서울특별시  필운동   174-1    두레엘리시안   \n",
              "3               3         10957  서울특별시  내수동      95     파크팰리스   \n",
              "4               4         10639  서울특별시  내수동  110-15      킹스매너   \n",
              "\n",
              "             addr_kr  exclusive_use_area  year_of_completion  \\\n",
              "0  신교동 6-13 신현(101동)               84.82                2002   \n",
              "1     필운동 142 사직파크맨션               99.17                1973   \n",
              "2   필운동 174-1 두레엘리시안               84.74                2007   \n",
              "3       내수동 95 파크팰리스              146.39                2003   \n",
              "4    내수동 110-15 킹스매너              194.43                2004   \n",
              "\n",
              "   transaction_year_month transaction_date  floor  transaction_real_price  \n",
              "0                  200801            21~31      2                   37500  \n",
              "1                  200801             1~10      6                   20000  \n",
              "2                  200801             1~10      6                   38500  \n",
              "3                  200801            11~20     15                  118000  \n",
              "4                  200801            21~31      3                  120000  "
            ],
            "text/html": [
              "\n",
              "  <div id=\"df-3921faab-4938-4ad1-b592-c6be5b98c924\">\n",
              "    <div class=\"colab-df-container\">\n",
              "      <div>\n",
              "<style scoped>\n",
              "    .dataframe tbody tr th:only-of-type {\n",
              "        vertical-align: middle;\n",
              "    }\n",
              "\n",
              "    .dataframe tbody tr th {\n",
              "        vertical-align: top;\n",
              "    }\n",
              "\n",
              "    .dataframe thead th {\n",
              "        text-align: right;\n",
              "    }\n",
              "</style>\n",
              "<table border=\"1\" class=\"dataframe\">\n",
              "  <thead>\n",
              "    <tr style=\"text-align: right;\">\n",
              "      <th></th>\n",
              "      <th>transaction_id</th>\n",
              "      <th>apartment_id</th>\n",
              "      <th>city</th>\n",
              "      <th>dong</th>\n",
              "      <th>jibun</th>\n",
              "      <th>apt</th>\n",
              "      <th>addr_kr</th>\n",
              "      <th>exclusive_use_area</th>\n",
              "      <th>year_of_completion</th>\n",
              "      <th>transaction_year_month</th>\n",
              "      <th>transaction_date</th>\n",
              "      <th>floor</th>\n",
              "      <th>transaction_real_price</th>\n",
              "    </tr>\n",
              "  </thead>\n",
              "  <tbody>\n",
              "    <tr>\n",
              "      <th>0</th>\n",
              "      <td>0</td>\n",
              "      <td>7622</td>\n",
              "      <td>서울특별시</td>\n",
              "      <td>신교동</td>\n",
              "      <td>6-13</td>\n",
              "      <td>신현(101동)</td>\n",
              "      <td>신교동 6-13 신현(101동)</td>\n",
              "      <td>84.82</td>\n",
              "      <td>2002</td>\n",
              "      <td>200801</td>\n",
              "      <td>21~31</td>\n",
              "      <td>2</td>\n",
              "      <td>37500</td>\n",
              "    </tr>\n",
              "    <tr>\n",
              "      <th>1</th>\n",
              "      <td>1</td>\n",
              "      <td>5399</td>\n",
              "      <td>서울특별시</td>\n",
              "      <td>필운동</td>\n",
              "      <td>142</td>\n",
              "      <td>사직파크맨션</td>\n",
              "      <td>필운동 142 사직파크맨션</td>\n",
              "      <td>99.17</td>\n",
              "      <td>1973</td>\n",
              "      <td>200801</td>\n",
              "      <td>1~10</td>\n",
              "      <td>6</td>\n",
              "      <td>20000</td>\n",
              "    </tr>\n",
              "    <tr>\n",
              "      <th>2</th>\n",
              "      <td>2</td>\n",
              "      <td>3578</td>\n",
              "      <td>서울특별시</td>\n",
              "      <td>필운동</td>\n",
              "      <td>174-1</td>\n",
              "      <td>두레엘리시안</td>\n",
              "      <td>필운동 174-1 두레엘리시안</td>\n",
              "      <td>84.74</td>\n",
              "      <td>2007</td>\n",
              "      <td>200801</td>\n",
              "      <td>1~10</td>\n",
              "      <td>6</td>\n",
              "      <td>38500</td>\n",
              "    </tr>\n",
              "    <tr>\n",
              "      <th>3</th>\n",
              "      <td>3</td>\n",
              "      <td>10957</td>\n",
              "      <td>서울특별시</td>\n",
              "      <td>내수동</td>\n",
              "      <td>95</td>\n",
              "      <td>파크팰리스</td>\n",
              "      <td>내수동 95 파크팰리스</td>\n",
              "      <td>146.39</td>\n",
              "      <td>2003</td>\n",
              "      <td>200801</td>\n",
              "      <td>11~20</td>\n",
              "      <td>15</td>\n",
              "      <td>118000</td>\n",
              "    </tr>\n",
              "    <tr>\n",
              "      <th>4</th>\n",
              "      <td>4</td>\n",
              "      <td>10639</td>\n",
              "      <td>서울특별시</td>\n",
              "      <td>내수동</td>\n",
              "      <td>110-15</td>\n",
              "      <td>킹스매너</td>\n",
              "      <td>내수동 110-15 킹스매너</td>\n",
              "      <td>194.43</td>\n",
              "      <td>2004</td>\n",
              "      <td>200801</td>\n",
              "      <td>21~31</td>\n",
              "      <td>3</td>\n",
              "      <td>120000</td>\n",
              "    </tr>\n",
              "  </tbody>\n",
              "</table>\n",
              "</div>\n",
              "      <button class=\"colab-df-convert\" onclick=\"convertToInteractive('df-3921faab-4938-4ad1-b592-c6be5b98c924')\"\n",
              "              title=\"Convert this dataframe to an interactive table.\"\n",
              "              style=\"display:none;\">\n",
              "        \n",
              "  <svg xmlns=\"http://www.w3.org/2000/svg\" height=\"24px\"viewBox=\"0 0 24 24\"\n",
              "       width=\"24px\">\n",
              "    <path d=\"M0 0h24v24H0V0z\" fill=\"none\"/>\n",
              "    <path d=\"M18.56 5.44l.94 2.06.94-2.06 2.06-.94-2.06-.94-.94-2.06-.94 2.06-2.06.94zm-11 1L8.5 8.5l.94-2.06 2.06-.94-2.06-.94L8.5 2.5l-.94 2.06-2.06.94zm10 10l.94 2.06.94-2.06 2.06-.94-2.06-.94-.94-2.06-.94 2.06-2.06.94z\"/><path d=\"M17.41 7.96l-1.37-1.37c-.4-.4-.92-.59-1.43-.59-.52 0-1.04.2-1.43.59L10.3 9.45l-7.72 7.72c-.78.78-.78 2.05 0 2.83L4 21.41c.39.39.9.59 1.41.59.51 0 1.02-.2 1.41-.59l7.78-7.78 2.81-2.81c.8-.78.8-2.07 0-2.86zM5.41 20L4 18.59l7.72-7.72 1.47 1.35L5.41 20z\"/>\n",
              "  </svg>\n",
              "      </button>\n",
              "      \n",
              "  <style>\n",
              "    .colab-df-container {\n",
              "      display:flex;\n",
              "      flex-wrap:wrap;\n",
              "      gap: 12px;\n",
              "    }\n",
              "\n",
              "    .colab-df-convert {\n",
              "      background-color: #E8F0FE;\n",
              "      border: none;\n",
              "      border-radius: 50%;\n",
              "      cursor: pointer;\n",
              "      display: none;\n",
              "      fill: #1967D2;\n",
              "      height: 32px;\n",
              "      padding: 0 0 0 0;\n",
              "      width: 32px;\n",
              "    }\n",
              "\n",
              "    .colab-df-convert:hover {\n",
              "      background-color: #E2EBFA;\n",
              "      box-shadow: 0px 1px 2px rgba(60, 64, 67, 0.3), 0px 1px 3px 1px rgba(60, 64, 67, 0.15);\n",
              "      fill: #174EA6;\n",
              "    }\n",
              "\n",
              "    [theme=dark] .colab-df-convert {\n",
              "      background-color: #3B4455;\n",
              "      fill: #D2E3FC;\n",
              "    }\n",
              "\n",
              "    [theme=dark] .colab-df-convert:hover {\n",
              "      background-color: #434B5C;\n",
              "      box-shadow: 0px 1px 3px 1px rgba(0, 0, 0, 0.15);\n",
              "      filter: drop-shadow(0px 1px 2px rgba(0, 0, 0, 0.3));\n",
              "      fill: #FFFFFF;\n",
              "    }\n",
              "  </style>\n",
              "\n",
              "      <script>\n",
              "        const buttonEl =\n",
              "          document.querySelector('#df-3921faab-4938-4ad1-b592-c6be5b98c924 button.colab-df-convert');\n",
              "        buttonEl.style.display =\n",
              "          google.colab.kernel.accessAllowed ? 'block' : 'none';\n",
              "\n",
              "        async function convertToInteractive(key) {\n",
              "          const element = document.querySelector('#df-3921faab-4938-4ad1-b592-c6be5b98c924');\n",
              "          const dataTable =\n",
              "            await google.colab.kernel.invokeFunction('convertToInteractive',\n",
              "                                                     [key], {});\n",
              "          if (!dataTable) return;\n",
              "\n",
              "          const docLinkHtml = 'Like what you see? Visit the ' +\n",
              "            '<a target=\"_blank\" href=https://colab.research.google.com/notebooks/data_table.ipynb>data table notebook</a>'\n",
              "            + ' to learn more about interactive tables.';\n",
              "          element.innerHTML = '';\n",
              "          dataTable['output_type'] = 'display_data';\n",
              "          await google.colab.output.renderOutput(dataTable, element);\n",
              "          const docLink = document.createElement('div');\n",
              "          docLink.innerHTML = docLinkHtml;\n",
              "          element.appendChild(docLink);\n",
              "        }\n",
              "      </script>\n",
              "    </div>\n",
              "  </div>\n",
              "  "
            ]
          },
          "metadata": {},
          "execution_count": 3
        }
      ]
    },
    {
      "cell_type": "markdown",
      "source": [
        "13개의 컬럼으로 이루어진 데이터네요!"
      ],
      "metadata": {
        "id": "WPerJyjLal8H"
      }
    },
    {
      "cell_type": "markdown",
      "source": [
        "#### 1-2. 기술 통계\n",
        "판다스의 describe() 함수는 숫자형(int, float 등) 데이터에 대한 기술 통계를 제공합니다.    \n",
        "describe()로 숫자형 데이터에 대한 기술 통계를 확인해볼까요?\n"
      ],
      "metadata": {
        "id": "aKAu1EObN-6y"
      }
    },
    {
      "cell_type": "markdown",
      "source": [
        "##### **Inst.**\n",
        "그럼 먼저 앞으로 우리가 분석해볼 데이터를 대략적으로 확인해볼까요?\n",
        "\n",
        "1. train 데이터를 describe()를 사용하여 요약하세요.\n"
      ],
      "metadata": {
        "id": "4ef2hvbPqhOx"
      }
    },
    {
      "cell_type": "code",
      "source": [
        "# 1. train 데이터를 describe()를 사용하여 요약하세요.\n"
      ],
      "metadata": {
        "id": "eDxIWbBVO6SI"
      },
      "execution_count": null,
      "outputs": []
    },
    {
      "cell_type": "markdown",
      "source": [
        "##### **Hint.**\n",
        "- <font color=\"orange\">describe()</font> 로 패키지를 사용할 수 있습니다. \n",
        "    - <font color=\"orange\">OOOOO.OOOOOOO()</font>\n"
      ],
      "metadata": {
        "id": "AbCy0FQRs-2I"
      }
    },
    {
      "cell_type": "markdown",
      "source": [
        "##### **Solution.**\n"
      ],
      "metadata": {
        "id": "A2PectbGtUDu"
      }
    },
    {
      "cell_type": "code",
      "source": [
        "# 1. train 데이터를 describe()를 사용하여 요약하세요.\n",
        "train.describe()"
      ],
      "metadata": {
        "id": "Ub4wWmqdtc2S",
        "colab": {
          "base_uri": "https://localhost:8080/",
          "height": 300
        },
        "outputId": "72a06a62-6488-42fe-8176-7fd3c9201cf9"
      },
      "execution_count": 4,
      "outputs": [
        {
          "output_type": "execute_result",
          "data": {
            "text/plain": [
              "       transaction_id  apartment_id  exclusive_use_area  year_of_completion  \\\n",
              "count    1.216553e+06  1.216553e+06        1.216553e+06        1.216553e+06   \n",
              "mean     6.091530e+05  6.299685e+03        7.816549e+01        1.998297e+03   \n",
              "std      3.526198e+05  3.581169e+03        2.915113e+01        8.941347e+00   \n",
              "min      0.000000e+00  0.000000e+00        9.260000e+00        1.961000e+03   \n",
              "25%      3.041380e+05  3.345000e+03        5.976000e+01        1.993000e+03   \n",
              "50%      6.082760e+05  5.964000e+03        8.241000e+01        1.999000e+03   \n",
              "75%      9.124140e+05  9.436000e+03        8.497000e+01        2.005000e+03   \n",
              "max      1.234827e+06  1.265800e+04        4.243200e+02        2.017000e+03   \n",
              "\n",
              "       transaction_year_month         floor  transaction_real_price  \n",
              "count            1.216553e+06  1.216553e+06            1.216553e+06  \n",
              "mean             2.012984e+05  9.343291e+00            3.822769e+04  \n",
              "std              2.905732e+02  6.606500e+00            3.104898e+04  \n",
              "min              2.008010e+05 -4.000000e+00            1.000000e+02  \n",
              "25%              2.010100e+05  4.000000e+00            1.900000e+04  \n",
              "50%              2.013120e+05  8.000000e+00            3.090000e+04  \n",
              "75%              2.015110e+05  1.300000e+01            4.700000e+04  \n",
              "max              2.017110e+05  8.000000e+01            8.200000e+05  "
            ],
            "text/html": [
              "\n",
              "  <div id=\"df-a743b16b-a79f-4603-a5b7-e3dd906515f9\">\n",
              "    <div class=\"colab-df-container\">\n",
              "      <div>\n",
              "<style scoped>\n",
              "    .dataframe tbody tr th:only-of-type {\n",
              "        vertical-align: middle;\n",
              "    }\n",
              "\n",
              "    .dataframe tbody tr th {\n",
              "        vertical-align: top;\n",
              "    }\n",
              "\n",
              "    .dataframe thead th {\n",
              "        text-align: right;\n",
              "    }\n",
              "</style>\n",
              "<table border=\"1\" class=\"dataframe\">\n",
              "  <thead>\n",
              "    <tr style=\"text-align: right;\">\n",
              "      <th></th>\n",
              "      <th>transaction_id</th>\n",
              "      <th>apartment_id</th>\n",
              "      <th>exclusive_use_area</th>\n",
              "      <th>year_of_completion</th>\n",
              "      <th>transaction_year_month</th>\n",
              "      <th>floor</th>\n",
              "      <th>transaction_real_price</th>\n",
              "    </tr>\n",
              "  </thead>\n",
              "  <tbody>\n",
              "    <tr>\n",
              "      <th>count</th>\n",
              "      <td>1.216553e+06</td>\n",
              "      <td>1.216553e+06</td>\n",
              "      <td>1.216553e+06</td>\n",
              "      <td>1.216553e+06</td>\n",
              "      <td>1.216553e+06</td>\n",
              "      <td>1.216553e+06</td>\n",
              "      <td>1.216553e+06</td>\n",
              "    </tr>\n",
              "    <tr>\n",
              "      <th>mean</th>\n",
              "      <td>6.091530e+05</td>\n",
              "      <td>6.299685e+03</td>\n",
              "      <td>7.816549e+01</td>\n",
              "      <td>1.998297e+03</td>\n",
              "      <td>2.012984e+05</td>\n",
              "      <td>9.343291e+00</td>\n",
              "      <td>3.822769e+04</td>\n",
              "    </tr>\n",
              "    <tr>\n",
              "      <th>std</th>\n",
              "      <td>3.526198e+05</td>\n",
              "      <td>3.581169e+03</td>\n",
              "      <td>2.915113e+01</td>\n",
              "      <td>8.941347e+00</td>\n",
              "      <td>2.905732e+02</td>\n",
              "      <td>6.606500e+00</td>\n",
              "      <td>3.104898e+04</td>\n",
              "    </tr>\n",
              "    <tr>\n",
              "      <th>min</th>\n",
              "      <td>0.000000e+00</td>\n",
              "      <td>0.000000e+00</td>\n",
              "      <td>9.260000e+00</td>\n",
              "      <td>1.961000e+03</td>\n",
              "      <td>2.008010e+05</td>\n",
              "      <td>-4.000000e+00</td>\n",
              "      <td>1.000000e+02</td>\n",
              "    </tr>\n",
              "    <tr>\n",
              "      <th>25%</th>\n",
              "      <td>3.041380e+05</td>\n",
              "      <td>3.345000e+03</td>\n",
              "      <td>5.976000e+01</td>\n",
              "      <td>1.993000e+03</td>\n",
              "      <td>2.010100e+05</td>\n",
              "      <td>4.000000e+00</td>\n",
              "      <td>1.900000e+04</td>\n",
              "    </tr>\n",
              "    <tr>\n",
              "      <th>50%</th>\n",
              "      <td>6.082760e+05</td>\n",
              "      <td>5.964000e+03</td>\n",
              "      <td>8.241000e+01</td>\n",
              "      <td>1.999000e+03</td>\n",
              "      <td>2.013120e+05</td>\n",
              "      <td>8.000000e+00</td>\n",
              "      <td>3.090000e+04</td>\n",
              "    </tr>\n",
              "    <tr>\n",
              "      <th>75%</th>\n",
              "      <td>9.124140e+05</td>\n",
              "      <td>9.436000e+03</td>\n",
              "      <td>8.497000e+01</td>\n",
              "      <td>2.005000e+03</td>\n",
              "      <td>2.015110e+05</td>\n",
              "      <td>1.300000e+01</td>\n",
              "      <td>4.700000e+04</td>\n",
              "    </tr>\n",
              "    <tr>\n",
              "      <th>max</th>\n",
              "      <td>1.234827e+06</td>\n",
              "      <td>1.265800e+04</td>\n",
              "      <td>4.243200e+02</td>\n",
              "      <td>2.017000e+03</td>\n",
              "      <td>2.017110e+05</td>\n",
              "      <td>8.000000e+01</td>\n",
              "      <td>8.200000e+05</td>\n",
              "    </tr>\n",
              "  </tbody>\n",
              "</table>\n",
              "</div>\n",
              "      <button class=\"colab-df-convert\" onclick=\"convertToInteractive('df-a743b16b-a79f-4603-a5b7-e3dd906515f9')\"\n",
              "              title=\"Convert this dataframe to an interactive table.\"\n",
              "              style=\"display:none;\">\n",
              "        \n",
              "  <svg xmlns=\"http://www.w3.org/2000/svg\" height=\"24px\"viewBox=\"0 0 24 24\"\n",
              "       width=\"24px\">\n",
              "    <path d=\"M0 0h24v24H0V0z\" fill=\"none\"/>\n",
              "    <path d=\"M18.56 5.44l.94 2.06.94-2.06 2.06-.94-2.06-.94-.94-2.06-.94 2.06-2.06.94zm-11 1L8.5 8.5l.94-2.06 2.06-.94-2.06-.94L8.5 2.5l-.94 2.06-2.06.94zm10 10l.94 2.06.94-2.06 2.06-.94-2.06-.94-.94-2.06-.94 2.06-2.06.94z\"/><path d=\"M17.41 7.96l-1.37-1.37c-.4-.4-.92-.59-1.43-.59-.52 0-1.04.2-1.43.59L10.3 9.45l-7.72 7.72c-.78.78-.78 2.05 0 2.83L4 21.41c.39.39.9.59 1.41.59.51 0 1.02-.2 1.41-.59l7.78-7.78 2.81-2.81c.8-.78.8-2.07 0-2.86zM5.41 20L4 18.59l7.72-7.72 1.47 1.35L5.41 20z\"/>\n",
              "  </svg>\n",
              "      </button>\n",
              "      \n",
              "  <style>\n",
              "    .colab-df-container {\n",
              "      display:flex;\n",
              "      flex-wrap:wrap;\n",
              "      gap: 12px;\n",
              "    }\n",
              "\n",
              "    .colab-df-convert {\n",
              "      background-color: #E8F0FE;\n",
              "      border: none;\n",
              "      border-radius: 50%;\n",
              "      cursor: pointer;\n",
              "      display: none;\n",
              "      fill: #1967D2;\n",
              "      height: 32px;\n",
              "      padding: 0 0 0 0;\n",
              "      width: 32px;\n",
              "    }\n",
              "\n",
              "    .colab-df-convert:hover {\n",
              "      background-color: #E2EBFA;\n",
              "      box-shadow: 0px 1px 2px rgba(60, 64, 67, 0.3), 0px 1px 3px 1px rgba(60, 64, 67, 0.15);\n",
              "      fill: #174EA6;\n",
              "    }\n",
              "\n",
              "    [theme=dark] .colab-df-convert {\n",
              "      background-color: #3B4455;\n",
              "      fill: #D2E3FC;\n",
              "    }\n",
              "\n",
              "    [theme=dark] .colab-df-convert:hover {\n",
              "      background-color: #434B5C;\n",
              "      box-shadow: 0px 1px 3px 1px rgba(0, 0, 0, 0.15);\n",
              "      filter: drop-shadow(0px 1px 2px rgba(0, 0, 0, 0.3));\n",
              "      fill: #FFFFFF;\n",
              "    }\n",
              "  </style>\n",
              "\n",
              "      <script>\n",
              "        const buttonEl =\n",
              "          document.querySelector('#df-a743b16b-a79f-4603-a5b7-e3dd906515f9 button.colab-df-convert');\n",
              "        buttonEl.style.display =\n",
              "          google.colab.kernel.accessAllowed ? 'block' : 'none';\n",
              "\n",
              "        async function convertToInteractive(key) {\n",
              "          const element = document.querySelector('#df-a743b16b-a79f-4603-a5b7-e3dd906515f9');\n",
              "          const dataTable =\n",
              "            await google.colab.kernel.invokeFunction('convertToInteractive',\n",
              "                                                     [key], {});\n",
              "          if (!dataTable) return;\n",
              "\n",
              "          const docLinkHtml = 'Like what you see? Visit the ' +\n",
              "            '<a target=\"_blank\" href=https://colab.research.google.com/notebooks/data_table.ipynb>data table notebook</a>'\n",
              "            + ' to learn more about interactive tables.';\n",
              "          element.innerHTML = '';\n",
              "          dataTable['output_type'] = 'display_data';\n",
              "          await google.colab.output.renderOutput(dataTable, element);\n",
              "          const docLink = document.createElement('div');\n",
              "          docLink.innerHTML = docLinkHtml;\n",
              "          element.appendChild(docLink);\n",
              "        }\n",
              "      </script>\n",
              "    </div>\n",
              "  </div>\n",
              "  "
            ]
          },
          "metadata": {},
          "execution_count": 4
        }
      ]
    },
    {
      "cell_type": "markdown",
      "source": [
        "주어진 데이터를 분석하는 방법은 크게 3가지 정도 있습니다.\n",
        "원하는 정보를 얻기 위해서 각 코드의 특징을 알아두면 좋습니다 :)     \n",
        "describe를 이용하면 값의 범위를 확인할 수 있습니다.      \n",
        "예를들어 exclusive_use_area을 확인하면 값의 범위가 최소 9.26에서 최대 424.32인걸 알 수 있습니다.     \n",
        "\n",
        "단순 ID와 날짜를 제외하고 해당 데이터의 exclusive_use_area, year_of_completion, floor, transaction_real_price을 중점적으로 보면 좋겠네요!"
      ],
      "metadata": {
        "id": "hWTgnkqkweg7"
      }
    },
    {
      "cell_type": "markdown",
      "source": [
        "### **2. 모델링을 위한 데이터셋 준비(Train/Test)**"
      ],
      "metadata": {
        "id": "974fcfSAOCdy"
      }
    },
    {
      "cell_type": "markdown",
      "source": [
        "추가적인 데이터를 사용하기 위해 서울특별시에서 거래된 데이터만을 추출하여 모델 train에 이용합니다."
      ],
      "metadata": {
        "id": "IyeGVFz8vyCq"
      }
    },
    {
      "cell_type": "code",
      "source": [
        "train = train[train['city'] == '서울특별시']\n",
        "test = test[test['city'] == '서울특별시']"
      ],
      "metadata": {
        "id": "Jf0wXhDNHoVi"
      },
      "execution_count": 8,
      "outputs": []
    },
    {
      "cell_type": "markdown",
      "source": [
        "앞서 설명한 중요 column만 분석에 이용하기 위해 불필요한 column은 제외합니다."
      ],
      "metadata": {
        "id": "0AgVOEn2xpfz"
      }
    },
    {
      "cell_type": "code",
      "source": [
        "drop_columns =['transaction_id', 'apartment_id', 'city', 'dong', 'jibun', 'apt','addr_kr','transaction_date','transaction_year_month']\n",
        "train.drop(drop_columns, axis=1,inplace=True)\n",
        "test.drop(drop_columns, axis=1,inplace=True)"
      ],
      "metadata": {
        "id": "uaB-IzJZO6o1"
      },
      "execution_count": 9,
      "outputs": []
    },
    {
      "cell_type": "markdown",
      "source": [
        "원하는 컬럼이 제거됐는지 확인합니다."
      ],
      "metadata": {
        "id": "4l8bqDtZxzhy"
      }
    },
    {
      "cell_type": "code",
      "source": [
        "train.head()"
      ],
      "metadata": {
        "colab": {
          "base_uri": "https://localhost:8080/",
          "height": 206
        },
        "id": "3ZgnPBvPHs1y",
        "outputId": "8b7241a7-b14d-403d-f58f-f53b37781628"
      },
      "execution_count": 10,
      "outputs": [
        {
          "output_type": "execute_result",
          "data": {
            "text/plain": [
              "   exclusive_use_area  year_of_completion  floor  transaction_real_price\n",
              "0               84.82                2002      2                   37500\n",
              "1               99.17                1973      6                   20000\n",
              "2               84.74                2007      6                   38500\n",
              "3              146.39                2003     15                  118000\n",
              "4              194.43                2004      3                  120000"
            ],
            "text/html": [
              "\n",
              "  <div id=\"df-c0a722ef-db41-4782-a68c-9b71aba4f206\">\n",
              "    <div class=\"colab-df-container\">\n",
              "      <div>\n",
              "<style scoped>\n",
              "    .dataframe tbody tr th:only-of-type {\n",
              "        vertical-align: middle;\n",
              "    }\n",
              "\n",
              "    .dataframe tbody tr th {\n",
              "        vertical-align: top;\n",
              "    }\n",
              "\n",
              "    .dataframe thead th {\n",
              "        text-align: right;\n",
              "    }\n",
              "</style>\n",
              "<table border=\"1\" class=\"dataframe\">\n",
              "  <thead>\n",
              "    <tr style=\"text-align: right;\">\n",
              "      <th></th>\n",
              "      <th>exclusive_use_area</th>\n",
              "      <th>year_of_completion</th>\n",
              "      <th>floor</th>\n",
              "      <th>transaction_real_price</th>\n",
              "    </tr>\n",
              "  </thead>\n",
              "  <tbody>\n",
              "    <tr>\n",
              "      <th>0</th>\n",
              "      <td>84.82</td>\n",
              "      <td>2002</td>\n",
              "      <td>2</td>\n",
              "      <td>37500</td>\n",
              "    </tr>\n",
              "    <tr>\n",
              "      <th>1</th>\n",
              "      <td>99.17</td>\n",
              "      <td>1973</td>\n",
              "      <td>6</td>\n",
              "      <td>20000</td>\n",
              "    </tr>\n",
              "    <tr>\n",
              "      <th>2</th>\n",
              "      <td>84.74</td>\n",
              "      <td>2007</td>\n",
              "      <td>6</td>\n",
              "      <td>38500</td>\n",
              "    </tr>\n",
              "    <tr>\n",
              "      <th>3</th>\n",
              "      <td>146.39</td>\n",
              "      <td>2003</td>\n",
              "      <td>15</td>\n",
              "      <td>118000</td>\n",
              "    </tr>\n",
              "    <tr>\n",
              "      <th>4</th>\n",
              "      <td>194.43</td>\n",
              "      <td>2004</td>\n",
              "      <td>3</td>\n",
              "      <td>120000</td>\n",
              "    </tr>\n",
              "  </tbody>\n",
              "</table>\n",
              "</div>\n",
              "      <button class=\"colab-df-convert\" onclick=\"convertToInteractive('df-c0a722ef-db41-4782-a68c-9b71aba4f206')\"\n",
              "              title=\"Convert this dataframe to an interactive table.\"\n",
              "              style=\"display:none;\">\n",
              "        \n",
              "  <svg xmlns=\"http://www.w3.org/2000/svg\" height=\"24px\"viewBox=\"0 0 24 24\"\n",
              "       width=\"24px\">\n",
              "    <path d=\"M0 0h24v24H0V0z\" fill=\"none\"/>\n",
              "    <path d=\"M18.56 5.44l.94 2.06.94-2.06 2.06-.94-2.06-.94-.94-2.06-.94 2.06-2.06.94zm-11 1L8.5 8.5l.94-2.06 2.06-.94-2.06-.94L8.5 2.5l-.94 2.06-2.06.94zm10 10l.94 2.06.94-2.06 2.06-.94-2.06-.94-.94-2.06-.94 2.06-2.06.94z\"/><path d=\"M17.41 7.96l-1.37-1.37c-.4-.4-.92-.59-1.43-.59-.52 0-1.04.2-1.43.59L10.3 9.45l-7.72 7.72c-.78.78-.78 2.05 0 2.83L4 21.41c.39.39.9.59 1.41.59.51 0 1.02-.2 1.41-.59l7.78-7.78 2.81-2.81c.8-.78.8-2.07 0-2.86zM5.41 20L4 18.59l7.72-7.72 1.47 1.35L5.41 20z\"/>\n",
              "  </svg>\n",
              "      </button>\n",
              "      \n",
              "  <style>\n",
              "    .colab-df-container {\n",
              "      display:flex;\n",
              "      flex-wrap:wrap;\n",
              "      gap: 12px;\n",
              "    }\n",
              "\n",
              "    .colab-df-convert {\n",
              "      background-color: #E8F0FE;\n",
              "      border: none;\n",
              "      border-radius: 50%;\n",
              "      cursor: pointer;\n",
              "      display: none;\n",
              "      fill: #1967D2;\n",
              "      height: 32px;\n",
              "      padding: 0 0 0 0;\n",
              "      width: 32px;\n",
              "    }\n",
              "\n",
              "    .colab-df-convert:hover {\n",
              "      background-color: #E2EBFA;\n",
              "      box-shadow: 0px 1px 2px rgba(60, 64, 67, 0.3), 0px 1px 3px 1px rgba(60, 64, 67, 0.15);\n",
              "      fill: #174EA6;\n",
              "    }\n",
              "\n",
              "    [theme=dark] .colab-df-convert {\n",
              "      background-color: #3B4455;\n",
              "      fill: #D2E3FC;\n",
              "    }\n",
              "\n",
              "    [theme=dark] .colab-df-convert:hover {\n",
              "      background-color: #434B5C;\n",
              "      box-shadow: 0px 1px 3px 1px rgba(0, 0, 0, 0.15);\n",
              "      filter: drop-shadow(0px 1px 2px rgba(0, 0, 0, 0.3));\n",
              "      fill: #FFFFFF;\n",
              "    }\n",
              "  </style>\n",
              "\n",
              "      <script>\n",
              "        const buttonEl =\n",
              "          document.querySelector('#df-c0a722ef-db41-4782-a68c-9b71aba4f206 button.colab-df-convert');\n",
              "        buttonEl.style.display =\n",
              "          google.colab.kernel.accessAllowed ? 'block' : 'none';\n",
              "\n",
              "        async function convertToInteractive(key) {\n",
              "          const element = document.querySelector('#df-c0a722ef-db41-4782-a68c-9b71aba4f206');\n",
              "          const dataTable =\n",
              "            await google.colab.kernel.invokeFunction('convertToInteractive',\n",
              "                                                     [key], {});\n",
              "          if (!dataTable) return;\n",
              "\n",
              "          const docLinkHtml = 'Like what you see? Visit the ' +\n",
              "            '<a target=\"_blank\" href=https://colab.research.google.com/notebooks/data_table.ipynb>data table notebook</a>'\n",
              "            + ' to learn more about interactive tables.';\n",
              "          element.innerHTML = '';\n",
              "          dataTable['output_type'] = 'display_data';\n",
              "          await google.colab.output.renderOutput(dataTable, element);\n",
              "          const docLink = document.createElement('div');\n",
              "          docLink.innerHTML = docLinkHtml;\n",
              "          element.appendChild(docLink);\n",
              "        }\n",
              "      </script>\n",
              "    </div>\n",
              "  </div>\n",
              "  "
            ]
          },
          "metadata": {},
          "execution_count": 10
        }
      ]
    },
    {
      "cell_type": "markdown",
      "source": [
        "우리는 이제 실거래가를 예측하기 위한 사전 준비는 끝났습니다.     \n",
        "따라서 실거래가를 나머지 변수들로 값을 예측하는 모델을 구성해야합니다.\n",
        "   \n",
        "이에 맞춰 아래와 같이 독립변수로 이루어진 X와 예측값인 종속변수로 이루어진 y를 선언합니다."
      ],
      "metadata": {
        "id": "RUBqj57cx3gM"
      }
    },
    {
      "cell_type": "code",
      "source": [
        "X = train.drop('transaction_real_price', axis=1)\n",
        "y = train[['transaction_real_price']]"
      ],
      "metadata": {
        "id": "XAwi4fanIFdT"
      },
      "execution_count": 11,
      "outputs": []
    },
    {
      "cell_type": "markdown",
      "source": [
        "   \n",
        "일반적으로 모델을 학습할 때, \n",
        "- train: 모델의 학습을 위한 데이터\n",
        "- validation: 모델의 파라미터 업데이트를 위한 데이터\n",
        "- test: 모델의 평가를 위한 데이터(학습에 사용하지 않음)    \n",
        "\n",
        "로 나누어 진행합니다.\n",
        "아래 그림을 참고하시면, 이해하기 좋습니다.\n",
        "![train_test](https://cdn.imweb.me/upload/S202105076e626e4618b27/0f0c2df8f341c.png)\n",
        "\n",
        "데이터를 나눠서 사용하면 모델의 학습에서 활용되지 않은 test 데이터로 타당하게 모델을 평가할 수 있습니다.  \n",
        "sklearn의 train_test_split 라이브러리를 임포트하여 사용하겠습니다.  \n",
        "\n"
      ],
      "metadata": {
        "id": "bBb4orqEyIBi"
      }
    },
    {
      "cell_type": "code",
      "source": [
        "from sklearn.model_selection import train_test_split"
      ],
      "metadata": {
        "id": "W0Bku4BxYcQT"
      },
      "execution_count": 12,
      "outputs": []
    },
    {
      "cell_type": "markdown",
      "source": [
        "##### **Inst.**\n",
        "이번에서 train과 test 데이터로만 데이터를 나눠보겠습니다.  <br/> train_test_split() 함수를 이용하여 데이터를 나눠볼까요?  🤗\n",
        "1. train_test_split()을 이용하여 데이터를 분리합니다. (단, test_size는 0.2, random_state는 42로 설정합니다)"
      ],
      "metadata": {
        "id": "FQEMnga1cpI8"
      }
    },
    {
      "cell_type": "code",
      "source": [
        "# 1. train_test_split()을 이용하여 데이터를 분리합니다. (단, test_size는 0.2, random_state는 42로 설정합니다)\n"
      ],
      "metadata": {
        "id": "9HGw1HtnpYXl"
      },
      "execution_count": 13,
      "outputs": []
    },
    {
      "cell_type": "markdown",
      "source": [
        "##### **Hint.**\n",
        "- train_test_split 함수의 input에는 **x, y, test_size, random_state**를 설정해야 합니다.\n"
      ],
      "metadata": {
        "id": "eTxVAKeRpVmA"
      }
    },
    {
      "cell_type": "markdown",
      "source": [
        "##### **Solution.**"
      ],
      "metadata": {
        "id": "cuWr6LPvpcuy"
      }
    },
    {
      "cell_type": "code",
      "source": [
        "# 1. train_test_split()을 이용하여 데이터를 분리합니다. (단, test_size는 0.2, random_state는 42로 설정합니다)\n",
        "train_X, test_X, train_Y, test_Y = train_test_split( X, y, test_size=0.2, random_state=42)"
      ],
      "metadata": {
        "id": "ZIX0283oIFbK"
      },
      "execution_count": 14,
      "outputs": []
    },
    {
      "cell_type": "markdown",
      "source": [
        "8:2의 비율로 잘 나눠졌는지 확인합니다.    \n",
        "shape 함수로 데이터의 행과 열을 확인할 수 있어요!\n",
        "- test_size는 테스트 데이터셋의 비율을 의미해요. (default=0.25)\n",
        "- random_state는 데이터 분할시 셔플이 이루어지는데 이를 위한 시드값을 의미해요. 실제로 같은 시드값을 사용하면 같은 data set을 사용할 수 있어요."
      ],
      "metadata": {
        "id": "AUgMICHsy1WL"
      }
    },
    {
      "cell_type": "code",
      "source": [
        "print(train_X.shape, test_X.shape, train_Y.shape, test_Y.shape)"
      ],
      "metadata": {
        "colab": {
          "base_uri": "https://localhost:8080/"
        },
        "id": "zeNkFPsGIFYT",
        "outputId": "c8acba15-a533-473e-df7c-94015d22c420"
      },
      "execution_count": 15,
      "outputs": [
        {
          "output_type": "stream",
          "name": "stdout",
          "text": [
            "(593828, 3) (148457, 3) (593828, 1) (148457, 1)\n"
          ]
        }
      ]
    },
    {
      "cell_type": "markdown",
      "source": [
        "### **3. 기초 모델링: 선형 회귀**"
      ],
      "metadata": {
        "id": "e29PhASLOG7u"
      }
    },
    {
      "cell_type": "markdown",
      "source": [
        "우선적으로 학습할 모델은 선형회귀입니다.    \n",
        "선형회귀는 \n",
        "$$Y=WX+B$$\n",
        "와 같이 독립변수 X에 가중치 파라미터를 곱하고, 상수 바이어스를 더해서 종속변수 Y를 예측할 수 있어요!     \n",
        "sklearn 라이브러리의 LinearRegression을 사용하기 위해 먼저 임포트할게요."
      ],
      "metadata": {
        "id": "c2ne2WDxzCoU"
      }
    },
    {
      "cell_type": "code",
      "source": [
        "from sklearn.linear_model import LinearRegression"
      ],
      "metadata": {
        "id": "yxBR3SzpYeUc"
      },
      "execution_count": 16,
      "outputs": []
    },
    {
      "cell_type": "markdown",
      "source": [
        "    \n",
        "##### **Inst.**\n",
        "LinearRegression() 함수로 선형회귀 모델을 생성하고, fit() 함수로 모델을 학습할 수 있어요.    \n",
        "선형회귀 모델을 한 번 학습시켜볼까요? 🤗\n",
        "\n",
        "1. lrmodel 변수에 선형회귀 모델을 선언합니다.\n",
        "2. lrmodel에 train_X, train_Y를 fit 합니다."
      ],
      "metadata": {
        "id": "Wb3ee3ohdCkn"
      }
    },
    {
      "cell_type": "code",
      "source": [
        "# 1. lrmodel 변수에 선형회귀 모델을 선언합니다.\n"
      ],
      "metadata": {
        "id": "xiVptUI0IKjr"
      },
      "execution_count": null,
      "outputs": []
    },
    {
      "cell_type": "code",
      "source": [
        "# 2. lrmodel에 train_X, train_Y를 fit 합니다.\n"
      ],
      "metadata": {
        "id": "97lTRWEApAeu"
      },
      "execution_count": null,
      "outputs": []
    },
    {
      "cell_type": "markdown",
      "source": [
        "##### **Hint.**\n",
        "- 선형회귀 모델은 LinearRegression()함수를 이용해요.\n",
        "- 선형회귀 모델을 fit 하기 위해서는 x,y 데이터가 필요해요"
      ],
      "metadata": {
        "id": "LAkahtj5oxua"
      }
    },
    {
      "cell_type": "markdown",
      "source": [
        "##### **Solution.**\n",
        "\n"
      ],
      "metadata": {
        "id": "pof6W-wIoy_I"
      }
    },
    {
      "cell_type": "code",
      "source": [
        "# 1. lrmodel 변수에 선형회귀 모델을 선언합니다.\n",
        "lrmodel = LinearRegression()"
      ],
      "metadata": {
        "id": "Pcgc8yHbpJo5"
      },
      "execution_count": 17,
      "outputs": []
    },
    {
      "cell_type": "code",
      "source": [
        "# 2. lrmodel에 train_X, train_Y를 fit 합니다.\n",
        "lrmodel.fit(train_X, train_Y)"
      ],
      "metadata": {
        "id": "BN9Cs5m3o32o",
        "colab": {
          "base_uri": "https://localhost:8080/"
        },
        "outputId": "10d9568c-f7c3-43ea-b588-90e0fc863588"
      },
      "execution_count": 18,
      "outputs": [
        {
          "output_type": "execute_result",
          "data": {
            "text/plain": [
              "LinearRegression()"
            ]
          },
          "metadata": {},
          "execution_count": 18
        }
      ]
    },
    {
      "cell_type": "markdown",
      "source": [
        "학습을 완료하고 나서 실제 우리의 모델이 얼마나 완벽한지 확인하기 위해 점수를 계산합니다.    \n",
        "프로젝트에서는 RMSE(\n",
        "평균 제곱근 오차)가 평가 기준으로 사용하고 있어요.   \n",
        "RMSE 식은 다음과 같이 MSE(평균 제곱 오차)에 제곱근을 취한 형태입니다! \n",
        "$${\\displaystyle \\operatorname {RMSE} ({\\hat {\\theta }})={\\sqrt {\\operatorname {MSE} ({\\hat {\\theta }})}}={\\sqrt {\\operatorname {E} (({\\hat {\\theta }}-\\theta )^{2})}}.}$$\n",
        "\n",
        "RMSE를 계산하기 위한 mean_squared_error 라이브러리를 먼저 임포트해야 해요!"
      ],
      "metadata": {
        "id": "DKyAzUXEzNTI"
      }
    },
    {
      "cell_type": "code",
      "source": [
        "# RSME 성능평가 계산을 위한 라이브러리\n",
        "from sklearn.metrics import mean_squared_error"
      ],
      "metadata": {
        "id": "cp3-0iPMV5zg"
      },
      "execution_count": null,
      "outputs": []
    },
    {
      "cell_type": "markdown",
      "source": [
        "mean_squared_error로 RMSE를 계산하는 함수는 MSE에 제곱근을 취하여 아래와 같이 작성될 수 있어요!"
      ],
      "metadata": {
        "id": "Ao5QGVGDXC10"
      }
    },
    {
      "cell_type": "code",
      "source": [
        "def RMSE(y, y_pred):\n",
        "    rmse = mean_squared_error(y, y_pred) ** 0.5\n",
        "    return rmse"
      ],
      "metadata": {
        "id": "wAxyoIgJV2zT"
      },
      "execution_count": null,
      "outputs": []
    },
    {
      "cell_type": "markdown",
      "source": [
        "이제 RMSE 함수로 모델을 예측해봅시다!"
      ],
      "metadata": {
        "id": "a1cUwOfvd0qG"
      }
    },
    {
      "cell_type": "code",
      "source": [
        "print(RMSE(lrmodel.predict(train_X), train_Y))\n",
        "print(RMSE(lrmodel.predict(test_X), test_Y))"
      ],
      "metadata": {
        "id": "JNk4lE4jO6yK",
        "colab": {
          "base_uri": "https://localhost:8080/"
        },
        "outputId": "de9d51d7-b4e5-4bb5-932c-3fb4b3f23724"
      },
      "execution_count": null,
      "outputs": [
        {
          "output_type": "stream",
          "name": "stdout",
          "text": [
            "24845.657717237664\n",
            "24762.40551060151\n"
          ]
        }
      ]
    },
    {
      "cell_type": "markdown",
      "source": [
        "RMSE 점수는 24845 네요!"
      ],
      "metadata": {
        "id": "IYOXHv1Zep-w"
      }
    },
    {
      "cell_type": "markdown",
      "source": [
        "조금 아쉬운 점수인가요?   \n",
        "그렇다면 더 높은 정확도를 가진 모델을 찾기 위해서 stage3에서 이어서 진행보도록 하겠습니다.    \n",
        "<img src='http://drive.google.com/uc?export=view&id=161p7_9jSKgi7s305nEmvwriJL_c0Vkmo' /><br>\n",
        "\n",
        "여기까지 진행하시느라 고생하셨습니다 😀"
      ],
      "metadata": {
        "id": "VKwuj_hVzchY"
      }
    }
  ]
}